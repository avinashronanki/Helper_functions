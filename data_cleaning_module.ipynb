{
 "cells": [
  {
   "cell_type": "code",
   "execution_count": 1,
   "outputs": [
    {
     "name": "stdout",
     "output_type": "stream",
     "text": [
      "Collecting google-cloud-translate\r\n",
      "  Downloading google_cloud_translate-3.11.0-py2.py3-none-any.whl (128 kB)\r\n",
      "\u001B[K     |████████████████████████████████| 128 kB 3.4 MB/s eta 0:00:01\r\n",
      "\u001B[?25hCollecting google-api-core[grpc]!=2.0.*,!=2.1.*,!=2.10.*,!=2.2.*,!=2.3.*,!=2.4.*,!=2.5.*,!=2.6.*,!=2.7.*,!=2.8.*,!=2.9.*,<3.0.0dev,>=1.34.0\r\n",
      "  Using cached google_api_core-2.11.0-py3-none-any.whl (120 kB)\r\n",
      "Collecting protobuf!=3.20.0,!=3.20.1,!=4.21.0,!=4.21.1,!=4.21.2,!=4.21.3,!=4.21.4,!=4.21.5,<5.0.0dev,>=3.19.5\r\n",
      "  Downloading protobuf-4.22.0-cp37-abi3-macosx_10_9_universal2.whl (397 kB)\r\n",
      "\u001B[K     |████████████████████████████████| 397 kB 16.5 MB/s eta 0:00:01\r\n",
      "\u001B[?25hRequirement already satisfied: google-cloud-core<3.0.0dev,>=1.3.0 in /Users/avinashronanki/opt/anaconda3/lib/python3.8/site-packages (from google-cloud-translate) (1.7.2)\r\n",
      "Collecting proto-plus<2.0.0dev,>=1.22.0\r\n",
      "  Downloading proto_plus-1.22.2-py3-none-any.whl (47 kB)\r\n",
      "\u001B[K     |████████████████████████████████| 47 kB 7.8 MB/s eta 0:00:011\r\n",
      "\u001B[?25hRequirement already satisfied: requests<3.0.0dev,>=2.18.0 in /Users/avinashronanki/opt/anaconda3/lib/python3.8/site-packages (from google-api-core[grpc]!=2.0.*,!=2.1.*,!=2.10.*,!=2.2.*,!=2.3.*,!=2.4.*,!=2.5.*,!=2.6.*,!=2.7.*,!=2.8.*,!=2.9.*,<3.0.0dev,>=1.34.0->google-cloud-translate) (2.25.1)\r\n",
      "Requirement already satisfied: google-auth<3.0dev,>=2.14.1 in /Users/avinashronanki/opt/anaconda3/lib/python3.8/site-packages (from google-api-core[grpc]!=2.0.*,!=2.1.*,!=2.10.*,!=2.2.*,!=2.3.*,!=2.4.*,!=2.5.*,!=2.6.*,!=2.7.*,!=2.8.*,!=2.9.*,<3.0.0dev,>=1.34.0->google-cloud-translate) (2.14.1)\r\n",
      "Collecting googleapis-common-protos<2.0dev,>=1.56.2\r\n",
      "  Using cached googleapis_common_protos-1.58.0-py2.py3-none-any.whl (223 kB)\r\n",
      "Collecting grpcio-status<2.0dev,>=1.33.2\r\n",
      "  Downloading grpcio_status-1.51.3-py3-none-any.whl (5.1 kB)\r\n",
      "Requirement already satisfied: grpcio<2.0dev,>=1.33.2 in /Users/avinashronanki/opt/anaconda3/lib/python3.8/site-packages (from google-api-core[grpc]!=2.0.*,!=2.1.*,!=2.10.*,!=2.2.*,!=2.3.*,!=2.4.*,!=2.5.*,!=2.6.*,!=2.7.*,!=2.8.*,!=2.9.*,<3.0.0dev,>=1.34.0->google-cloud-translate) (1.43.0)\r\n",
      "Requirement already satisfied: cachetools<6.0,>=2.0.0 in /Users/avinashronanki/opt/anaconda3/lib/python3.8/site-packages (from google-auth<3.0dev,>=2.14.1->google-api-core[grpc]!=2.0.*,!=2.1.*,!=2.10.*,!=2.2.*,!=2.3.*,!=2.4.*,!=2.5.*,!=2.6.*,!=2.7.*,!=2.8.*,!=2.9.*,<3.0.0dev,>=1.34.0->google-cloud-translate) (4.2.4)\r\n",
      "Requirement already satisfied: rsa<5,>=3.1.4 in /Users/avinashronanki/opt/anaconda3/lib/python3.8/site-packages (from google-auth<3.0dev,>=2.14.1->google-api-core[grpc]!=2.0.*,!=2.1.*,!=2.10.*,!=2.2.*,!=2.3.*,!=2.4.*,!=2.5.*,!=2.6.*,!=2.7.*,!=2.8.*,!=2.9.*,<3.0.0dev,>=1.34.0->google-cloud-translate) (4.7.2)\r\n",
      "Requirement already satisfied: pyasn1-modules>=0.2.1 in /Users/avinashronanki/opt/anaconda3/lib/python3.8/site-packages (from google-auth<3.0dev,>=2.14.1->google-api-core[grpc]!=2.0.*,!=2.1.*,!=2.10.*,!=2.2.*,!=2.3.*,!=2.4.*,!=2.5.*,!=2.6.*,!=2.7.*,!=2.8.*,!=2.9.*,<3.0.0dev,>=1.34.0->google-cloud-translate) (0.2.8)\r\n",
      "Requirement already satisfied: six>=1.9.0 in /Users/avinashronanki/opt/anaconda3/lib/python3.8/site-packages (from google-auth<3.0dev,>=2.14.1->google-api-core[grpc]!=2.0.*,!=2.1.*,!=2.10.*,!=2.2.*,!=2.3.*,!=2.4.*,!=2.5.*,!=2.6.*,!=2.7.*,!=2.8.*,!=2.9.*,<3.0.0dev,>=1.34.0->google-cloud-translate) (1.15.0)\r\n",
      "Collecting google-cloud-core<3.0.0dev,>=1.3.0\r\n",
      "  Downloading google_cloud_core-2.3.2-py2.py3-none-any.whl (29 kB)\r\n",
      "Collecting grpcio<2.0dev,>=1.33.2\r\n",
      "  Downloading grpcio-1.51.3-cp38-cp38-macosx_10_10_universal2.whl (8.2 MB)\r\n",
      "\u001B[K     |████████████████████████████████| 8.2 MB 7.8 MB/s eta 0:00:01\r\n",
      "\u001B[?25hRequirement already satisfied: pyasn1<0.5.0,>=0.4.6 in /Users/avinashronanki/opt/anaconda3/lib/python3.8/site-packages (from pyasn1-modules>=0.2.1->google-auth<3.0dev,>=2.14.1->google-api-core[grpc]!=2.0.*,!=2.1.*,!=2.10.*,!=2.2.*,!=2.3.*,!=2.4.*,!=2.5.*,!=2.6.*,!=2.7.*,!=2.8.*,!=2.9.*,<3.0.0dev,>=1.34.0->google-cloud-translate) (0.4.8)\r\n",
      "Requirement already satisfied: chardet<5,>=3.0.2 in /Users/avinashronanki/opt/anaconda3/lib/python3.8/site-packages (from requests<3.0.0dev,>=2.18.0->google-api-core[grpc]!=2.0.*,!=2.1.*,!=2.10.*,!=2.2.*,!=2.3.*,!=2.4.*,!=2.5.*,!=2.6.*,!=2.7.*,!=2.8.*,!=2.9.*,<3.0.0dev,>=1.34.0->google-cloud-translate) (4.0.0)\r\n",
      "Requirement already satisfied: certifi>=2017.4.17 in /Users/avinashronanki/opt/anaconda3/lib/python3.8/site-packages (from requests<3.0.0dev,>=2.18.0->google-api-core[grpc]!=2.0.*,!=2.1.*,!=2.10.*,!=2.2.*,!=2.3.*,!=2.4.*,!=2.5.*,!=2.6.*,!=2.7.*,!=2.8.*,!=2.9.*,<3.0.0dev,>=1.34.0->google-cloud-translate) (2020.12.5)\r\n",
      "Requirement already satisfied: idna<3,>=2.5 in /Users/avinashronanki/opt/anaconda3/lib/python3.8/site-packages (from requests<3.0.0dev,>=2.18.0->google-api-core[grpc]!=2.0.*,!=2.1.*,!=2.10.*,!=2.2.*,!=2.3.*,!=2.4.*,!=2.5.*,!=2.6.*,!=2.7.*,!=2.8.*,!=2.9.*,<3.0.0dev,>=1.34.0->google-cloud-translate) (2.10)\r\n",
      "Requirement already satisfied: urllib3<1.27,>=1.21.1 in /Users/avinashronanki/opt/anaconda3/lib/python3.8/site-packages (from requests<3.0.0dev,>=2.18.0->google-api-core[grpc]!=2.0.*,!=2.1.*,!=2.10.*,!=2.2.*,!=2.3.*,!=2.4.*,!=2.5.*,!=2.6.*,!=2.7.*,!=2.8.*,!=2.9.*,<3.0.0dev,>=1.34.0->google-cloud-translate) (1.26.4)\r\n",
      "Installing collected packages: protobuf, grpcio, googleapis-common-protos, grpcio-status, google-api-core, proto-plus, google-cloud-core, google-cloud-translate\r\n",
      "  Attempting uninstall: protobuf\r\n",
      "    Found existing installation: protobuf 3.20.1\r\n",
      "    Uninstalling protobuf-3.20.1:\r\n",
      "      Successfully uninstalled protobuf-3.20.1\r\n",
      "  Attempting uninstall: grpcio\r\n",
      "    Found existing installation: grpcio 1.43.0\r\n",
      "    Uninstalling grpcio-1.43.0:\r\n",
      "      Successfully uninstalled grpcio-1.43.0\r\n",
      "  Attempting uninstall: googleapis-common-protos\r\n",
      "    Found existing installation: googleapis-common-protos 1.54.0\r\n",
      "    Uninstalling googleapis-common-protos-1.54.0:\r\n",
      "      Successfully uninstalled googleapis-common-protos-1.54.0\r\n",
      "  Attempting uninstall: google-api-core\r\n",
      "    Found existing installation: google-api-core 1.31.5\r\n",
      "    Uninstalling google-api-core-1.31.5:\r\n",
      "      Successfully uninstalled google-api-core-1.31.5\r\n",
      "  Attempting uninstall: proto-plus\r\n",
      "    Found existing installation: proto-plus 1.19.9\r\n",
      "    Uninstalling proto-plus-1.19.9:\r\n",
      "      Successfully uninstalled proto-plus-1.19.9\r\n",
      "  Attempting uninstall: google-cloud-core\r\n",
      "    Found existing installation: google-cloud-core 1.7.2\r\n",
      "    Uninstalling google-cloud-core-1.7.2:\r\n",
      "      Successfully uninstalled google-cloud-core-1.7.2\r\n",
      "\u001B[31mERROR: pip's dependency resolver does not currently take into account all the packages that are installed. This behaviour is the source of the following dependency conflicts.\r\n",
      "sagemaker 2.113.0 requires protobuf<4.0,>=3.1, but you have protobuf 4.22.0 which is incompatible.\r\n",
      "onnx 1.12.0 requires protobuf<=3.20.1,>=3.12.2, but you have protobuf 4.22.0 which is incompatible.\r\n",
      "google-cloud-storage 1.28.1 requires google-auth<2.0dev,>=1.11.0, but you have google-auth 2.14.1 which is incompatible.\r\n",
      "google-cloud-storage 1.28.1 requires google-cloud-core<2.0dev,>=1.2.0, but you have google-cloud-core 2.3.2 which is incompatible.\u001B[0m\r\n",
      "Successfully installed google-api-core-2.11.0 google-cloud-core-2.3.2 google-cloud-translate-3.11.0 googleapis-common-protos-1.58.0 grpcio-1.51.3 grpcio-status-1.51.3 proto-plus-1.22.2 protobuf-4.22.0\r\n",
      "Collecting langdetect\r\n",
      "  Using cached langdetect-1.0.9-py3-none-any.whl\r\n",
      "Requirement already satisfied: six in /Users/avinashronanki/opt/anaconda3/lib/python3.8/site-packages (from langdetect) (1.15.0)\r\n",
      "Installing collected packages: langdetect\r\n",
      "Successfully installed langdetect-1.0.9\r\n"
     ]
    }
   ],
   "source": [
    "!pip install google-cloud-translate\n",
    "!pip install langdetect"
   ],
   "metadata": {
    "collapsed": false,
    "pycharm": {
     "name": "#%%\n"
    }
   }
  },
  {
   "cell_type": "code",
   "execution_count": 3,
   "outputs": [
    {
     "ename": "ModuleNotFoundError",
     "evalue": "No module named 'google.cloud'",
     "output_type": "error",
     "traceback": [
      "\u001B[0;31m---------------------------------------------------------------------------\u001B[0m",
      "\u001B[0;31mModuleNotFoundError\u001B[0m                       Traceback (most recent call last)",
      "\u001B[0;32m/var/folders/jg/n5td8bv542j42d1t7_cyqkwc0000gn/T/ipykernel_6760/3618097290.py\u001B[0m in \u001B[0;36m<module>\u001B[0;34m\u001B[0m\n\u001B[1;32m      1\u001B[0m \u001B[0;31m# import the necessary libraries\u001B[0m\u001B[0;34m\u001B[0m\u001B[0;34m\u001B[0m\u001B[0;34m\u001B[0m\u001B[0m\n\u001B[0;32m----> 2\u001B[0;31m \u001B[0;32mfrom\u001B[0m \u001B[0mgoogle\u001B[0m\u001B[0;34m.\u001B[0m\u001B[0mcloud\u001B[0m \u001B[0;32mimport\u001B[0m \u001B[0mtranslate_v2\u001B[0m \u001B[0;32mas\u001B[0m \u001B[0mtranslate\u001B[0m  \u001B[0;31m# for Google Cloud Translation API\u001B[0m\u001B[0;34m\u001B[0m\u001B[0;34m\u001B[0m\u001B[0m\n\u001B[0m\u001B[1;32m      3\u001B[0m \u001B[0;32mfrom\u001B[0m \u001B[0mlangdetect\u001B[0m \u001B[0;32mimport\u001B[0m \u001B[0mdetect\u001B[0m           \u001B[0;31m# for language detection\u001B[0m\u001B[0;34m\u001B[0m\u001B[0;34m\u001B[0m\u001B[0m\n\u001B[1;32m      4\u001B[0m \u001B[0;32mimport\u001B[0m \u001B[0mpandas\u001B[0m \u001B[0;32mas\u001B[0m \u001B[0mpd\u001B[0m\u001B[0;34m\u001B[0m\u001B[0;34m\u001B[0m\u001B[0m\n\u001B[1;32m      5\u001B[0m \u001B[0;34m\u001B[0m\u001B[0m\n",
      "\u001B[0;31mModuleNotFoundError\u001B[0m: No module named 'google.cloud'"
     ]
    }
   ],
   "source": [
    "# import the necessary libraries\n",
    "from google.cloud import translate_v2 as translate  # for Google Cloud Translation API\n",
    "from langdetect import detect           # for language detection\n",
    "import pandas as pd\n",
    "import os\n",
    "# set the environment variable for the Google Cloud API key\n",
    "os.environ['GOOGLE_APPLICATION_CREDENTIALS'] = '/path/to/your/api/key.json'\n",
    "\n",
    "# initialize the translation client\n",
    "translate_client = translate.Client()\n",
    "\n",
    "# define a function to detect language and translate text\n",
    "def translate_text(text):\n",
    "    # detect the language of the text\n",
    "    detected_lang = detect(text)\n",
    "    # if the language is not English, translate the text\n",
    "    if detected_lang != 'en':\n",
    "        translation = translate_client.translate(text, target_language='en')\n",
    "        translated_text = translation['translatedText']\n",
    "    else:\n",
    "        translated_text = text\n",
    "    return detected_lang, translated_text\n",
    "\n",
    "# define a list of sentences to translate\n",
    "sentences = [\n",
    "    'Hola, ¿cómo estás?',\n",
    "    'Je suis heureux de vous voir',\n",
    "    'こんにちは、お元気ですか？',\n",
    "    'This sentence is already in English'\n",
    "]\n",
    "\n",
    "# create a dataframe to store the results\n",
    "import pandas as pd\n",
    "df = pd.DataFrame({'original_text': sentences})\n",
    "\n",
    "# apply the translation function to each sentence\n",
    "df['detected_language'], df['translated_text'] = zip(*df['original_text'].apply(translate_text))\n",
    "\n",
    "# print the resulting dataframe\n",
    "print(df)\n"
   ],
   "metadata": {
    "collapsed": false,
    "pycharm": {
     "name": "#%%\n"
    }
   }
  },
  {
   "cell_type": "code",
   "execution_count": null,
   "outputs": [],
   "source": [
    "import os\n",
    "\n",
    "# set the environment variable for the Google Cloud API key\n",
    "os.environ['GOOGLE_APPLICATION_CREDENTIALS'] = '/path/to/your/api/key.json'\n"
   ],
   "metadata": {
    "collapsed": false,
    "pycharm": {
     "name": "#%%\n"
    }
   }
  },
  {
   "cell_type": "code",
   "execution_count": 17,
   "outputs": [
    {
     "ename": "AttributeError",
     "evalue": "'NoneType' object has no attribute 'group'",
     "output_type": "error",
     "traceback": [
      "\u001B[0;31m---------------------------------------------------------------------------\u001B[0m",
      "\u001B[0;31mAttributeError\u001B[0m                            Traceback (most recent call last)",
      "Input \u001B[0;32mIn [17]\u001B[0m, in \u001B[0;36m<module>\u001B[0;34m\u001B[0m\n\u001B[1;32m     22\u001B[0m df \u001B[38;5;241m=\u001B[39m pd\u001B[38;5;241m.\u001B[39mDataFrame({\u001B[38;5;124m'\u001B[39m\u001B[38;5;124moriginal_text\u001B[39m\u001B[38;5;124m'\u001B[39m: sentences})\n\u001B[1;32m     24\u001B[0m \u001B[38;5;66;03m# apply the translation function to each sentence\u001B[39;00m\n\u001B[0;32m---> 25\u001B[0m df[\u001B[38;5;124m'\u001B[39m\u001B[38;5;124mdetected_language\u001B[39m\u001B[38;5;124m'\u001B[39m], df[\u001B[38;5;124m'\u001B[39m\u001B[38;5;124mtranslated_text\u001B[39m\u001B[38;5;124m'\u001B[39m] \u001B[38;5;241m=\u001B[39m \u001B[38;5;28mzip\u001B[39m(\u001B[38;5;241m*\u001B[39m\u001B[43mdf\u001B[49m\u001B[43m[\u001B[49m\u001B[38;5;124;43m'\u001B[39;49m\u001B[38;5;124;43moriginal_text\u001B[39;49m\u001B[38;5;124;43m'\u001B[39;49m\u001B[43m]\u001B[49m\u001B[38;5;241;43m.\u001B[39;49m\u001B[43mapply\u001B[49m\u001B[43m(\u001B[49m\u001B[43mtranslate_text\u001B[49m\u001B[43m)\u001B[49m)\n\u001B[1;32m     27\u001B[0m \u001B[38;5;66;03m# print the resulting dataframe\u001B[39;00m\n\u001B[1;32m     28\u001B[0m \u001B[38;5;28mprint\u001B[39m(df)\n",
      "File \u001B[0;32m/usr/local/lib/python3.9/site-packages/pandas/core/series.py:4433\u001B[0m, in \u001B[0;36mSeries.apply\u001B[0;34m(self, func, convert_dtype, args, **kwargs)\u001B[0m\n\u001B[1;32m   4323\u001B[0m \u001B[38;5;28;01mdef\u001B[39;00m \u001B[38;5;21mapply\u001B[39m(\n\u001B[1;32m   4324\u001B[0m     \u001B[38;5;28mself\u001B[39m,\n\u001B[1;32m   4325\u001B[0m     func: AggFuncType,\n\u001B[0;32m   (...)\u001B[0m\n\u001B[1;32m   4328\u001B[0m     \u001B[38;5;241m*\u001B[39m\u001B[38;5;241m*\u001B[39mkwargs,\n\u001B[1;32m   4329\u001B[0m ) \u001B[38;5;241m-\u001B[39m\u001B[38;5;241m>\u001B[39m DataFrame \u001B[38;5;241m|\u001B[39m Series:\n\u001B[1;32m   4330\u001B[0m     \u001B[38;5;124;03m\"\"\"\u001B[39;00m\n\u001B[1;32m   4331\u001B[0m \u001B[38;5;124;03m    Invoke function on values of Series.\u001B[39;00m\n\u001B[1;32m   4332\u001B[0m \n\u001B[0;32m   (...)\u001B[0m\n\u001B[1;32m   4431\u001B[0m \u001B[38;5;124;03m    dtype: float64\u001B[39;00m\n\u001B[1;32m   4432\u001B[0m \u001B[38;5;124;03m    \"\"\"\u001B[39;00m\n\u001B[0;32m-> 4433\u001B[0m     \u001B[38;5;28;01mreturn\u001B[39;00m \u001B[43mSeriesApply\u001B[49m\u001B[43m(\u001B[49m\u001B[38;5;28;43mself\u001B[39;49m\u001B[43m,\u001B[49m\u001B[43m \u001B[49m\u001B[43mfunc\u001B[49m\u001B[43m,\u001B[49m\u001B[43m \u001B[49m\u001B[43mconvert_dtype\u001B[49m\u001B[43m,\u001B[49m\u001B[43m \u001B[49m\u001B[43margs\u001B[49m\u001B[43m,\u001B[49m\u001B[43m \u001B[49m\u001B[43mkwargs\u001B[49m\u001B[43m)\u001B[49m\u001B[38;5;241;43m.\u001B[39;49m\u001B[43mapply\u001B[49m\u001B[43m(\u001B[49m\u001B[43m)\u001B[49m\n",
      "File \u001B[0;32m/usr/local/lib/python3.9/site-packages/pandas/core/apply.py:1088\u001B[0m, in \u001B[0;36mSeriesApply.apply\u001B[0;34m(self)\u001B[0m\n\u001B[1;32m   1084\u001B[0m \u001B[38;5;28;01mif\u001B[39;00m \u001B[38;5;28misinstance\u001B[39m(\u001B[38;5;28mself\u001B[39m\u001B[38;5;241m.\u001B[39mf, \u001B[38;5;28mstr\u001B[39m):\n\u001B[1;32m   1085\u001B[0m     \u001B[38;5;66;03m# if we are a string, try to dispatch\u001B[39;00m\n\u001B[1;32m   1086\u001B[0m     \u001B[38;5;28;01mreturn\u001B[39;00m \u001B[38;5;28mself\u001B[39m\u001B[38;5;241m.\u001B[39mapply_str()\n\u001B[0;32m-> 1088\u001B[0m \u001B[38;5;28;01mreturn\u001B[39;00m \u001B[38;5;28;43mself\u001B[39;49m\u001B[38;5;241;43m.\u001B[39;49m\u001B[43mapply_standard\u001B[49m\u001B[43m(\u001B[49m\u001B[43m)\u001B[49m\n",
      "File \u001B[0;32m/usr/local/lib/python3.9/site-packages/pandas/core/apply.py:1143\u001B[0m, in \u001B[0;36mSeriesApply.apply_standard\u001B[0;34m(self)\u001B[0m\n\u001B[1;32m   1137\u001B[0m         values \u001B[38;5;241m=\u001B[39m obj\u001B[38;5;241m.\u001B[39mastype(\u001B[38;5;28mobject\u001B[39m)\u001B[38;5;241m.\u001B[39m_values\n\u001B[1;32m   1138\u001B[0m         \u001B[38;5;66;03m# error: Argument 2 to \"map_infer\" has incompatible type\u001B[39;00m\n\u001B[1;32m   1139\u001B[0m         \u001B[38;5;66;03m# \"Union[Callable[..., Any], str, List[Union[Callable[..., Any], str]],\u001B[39;00m\n\u001B[1;32m   1140\u001B[0m         \u001B[38;5;66;03m# Dict[Hashable, Union[Union[Callable[..., Any], str],\u001B[39;00m\n\u001B[1;32m   1141\u001B[0m         \u001B[38;5;66;03m# List[Union[Callable[..., Any], str]]]]]\"; expected\u001B[39;00m\n\u001B[1;32m   1142\u001B[0m         \u001B[38;5;66;03m# \"Callable[[Any], Any]\"\u001B[39;00m\n\u001B[0;32m-> 1143\u001B[0m         mapped \u001B[38;5;241m=\u001B[39m \u001B[43mlib\u001B[49m\u001B[38;5;241;43m.\u001B[39;49m\u001B[43mmap_infer\u001B[49m\u001B[43m(\u001B[49m\n\u001B[1;32m   1144\u001B[0m \u001B[43m            \u001B[49m\u001B[43mvalues\u001B[49m\u001B[43m,\u001B[49m\n\u001B[1;32m   1145\u001B[0m \u001B[43m            \u001B[49m\u001B[43mf\u001B[49m\u001B[43m,\u001B[49m\u001B[43m  \u001B[49m\u001B[38;5;66;43;03m# type: ignore[arg-type]\u001B[39;49;00m\n\u001B[1;32m   1146\u001B[0m \u001B[43m            \u001B[49m\u001B[43mconvert\u001B[49m\u001B[38;5;241;43m=\u001B[39;49m\u001B[38;5;28;43mself\u001B[39;49m\u001B[38;5;241;43m.\u001B[39;49m\u001B[43mconvert_dtype\u001B[49m\u001B[43m,\u001B[49m\n\u001B[1;32m   1147\u001B[0m \u001B[43m        \u001B[49m\u001B[43m)\u001B[49m\n\u001B[1;32m   1149\u001B[0m \u001B[38;5;28;01mif\u001B[39;00m \u001B[38;5;28mlen\u001B[39m(mapped) \u001B[38;5;129;01mand\u001B[39;00m \u001B[38;5;28misinstance\u001B[39m(mapped[\u001B[38;5;241m0\u001B[39m], ABCSeries):\n\u001B[1;32m   1150\u001B[0m     \u001B[38;5;66;03m# GH#43986 Need to do list(mapped) in order to get treated as nested\u001B[39;00m\n\u001B[1;32m   1151\u001B[0m     \u001B[38;5;66;03m#  See also GH#25959 regarding EA support\u001B[39;00m\n\u001B[1;32m   1152\u001B[0m     \u001B[38;5;28;01mreturn\u001B[39;00m obj\u001B[38;5;241m.\u001B[39m_constructor_expanddim(\u001B[38;5;28mlist\u001B[39m(mapped), index\u001B[38;5;241m=\u001B[39mobj\u001B[38;5;241m.\u001B[39mindex)\n",
      "File \u001B[0;32m/usr/local/lib/python3.9/site-packages/pandas/_libs/lib.pyx:2870\u001B[0m, in \u001B[0;36mpandas._libs.lib.map_infer\u001B[0;34m()\u001B[0m\n",
      "Input \u001B[0;32mIn [17]\u001B[0m, in \u001B[0;36mtranslate_text\u001B[0;34m(text)\u001B[0m\n\u001B[1;32m     12\u001B[0m \u001B[38;5;66;03m# if the language is not English, translate the text\u001B[39;00m\n\u001B[1;32m     13\u001B[0m \u001B[38;5;28;01mif\u001B[39;00m detected_lang \u001B[38;5;241m!=\u001B[39m \u001B[38;5;124m'\u001B[39m\u001B[38;5;124men\u001B[39m\u001B[38;5;124m'\u001B[39m:\n\u001B[0;32m---> 14\u001B[0m     translation \u001B[38;5;241m=\u001B[39m \u001B[43mtranslator\u001B[49m\u001B[38;5;241;43m.\u001B[39;49m\u001B[43mtranslate\u001B[49m\u001B[43m(\u001B[49m\u001B[43mtext\u001B[49m\u001B[43m,\u001B[49m\u001B[43m \u001B[49m\u001B[43mdest\u001B[49m\u001B[38;5;241;43m=\u001B[39;49m\u001B[38;5;124;43m'\u001B[39;49m\u001B[38;5;124;43men\u001B[39;49m\u001B[38;5;124;43m'\u001B[39;49m\u001B[43m)\u001B[49m\n\u001B[1;32m     15\u001B[0m     translated_text \u001B[38;5;241m=\u001B[39m translation\u001B[38;5;241m.\u001B[39mtext\n\u001B[1;32m     16\u001B[0m \u001B[38;5;28;01melse\u001B[39;00m:\n",
      "File \u001B[0;32m/usr/local/lib/python3.9/site-packages/googletrans/client.py:182\u001B[0m, in \u001B[0;36mTranslator.translate\u001B[0;34m(self, text, dest, src, **kwargs)\u001B[0m\n\u001B[1;32m    179\u001B[0m     \u001B[38;5;28;01mreturn\u001B[39;00m result\n\u001B[1;32m    181\u001B[0m origin \u001B[38;5;241m=\u001B[39m text\n\u001B[0;32m--> 182\u001B[0m data \u001B[38;5;241m=\u001B[39m \u001B[38;5;28;43mself\u001B[39;49m\u001B[38;5;241;43m.\u001B[39;49m\u001B[43m_translate\u001B[49m\u001B[43m(\u001B[49m\u001B[43mtext\u001B[49m\u001B[43m,\u001B[49m\u001B[43m \u001B[49m\u001B[43mdest\u001B[49m\u001B[43m,\u001B[49m\u001B[43m \u001B[49m\u001B[43msrc\u001B[49m\u001B[43m,\u001B[49m\u001B[43m \u001B[49m\u001B[43mkwargs\u001B[49m\u001B[43m)\u001B[49m\n\u001B[1;32m    184\u001B[0m \u001B[38;5;66;03m# this code will be updated when the format is changed.\u001B[39;00m\n\u001B[1;32m    185\u001B[0m translated \u001B[38;5;241m=\u001B[39m \u001B[38;5;124m'\u001B[39m\u001B[38;5;124m'\u001B[39m\u001B[38;5;241m.\u001B[39mjoin([d[\u001B[38;5;241m0\u001B[39m] \u001B[38;5;28;01mif\u001B[39;00m d[\u001B[38;5;241m0\u001B[39m] \u001B[38;5;28;01melse\u001B[39;00m \u001B[38;5;124m'\u001B[39m\u001B[38;5;124m'\u001B[39m \u001B[38;5;28;01mfor\u001B[39;00m d \u001B[38;5;129;01min\u001B[39;00m data[\u001B[38;5;241m0\u001B[39m]])\n",
      "File \u001B[0;32m/usr/local/lib/python3.9/site-packages/googletrans/client.py:78\u001B[0m, in \u001B[0;36mTranslator._translate\u001B[0;34m(self, text, dest, src, override)\u001B[0m\n\u001B[1;32m     77\u001B[0m \u001B[38;5;28;01mdef\u001B[39;00m \u001B[38;5;21m_translate\u001B[39m(\u001B[38;5;28mself\u001B[39m, text, dest, src, override):\n\u001B[0;32m---> 78\u001B[0m     token \u001B[38;5;241m=\u001B[39m \u001B[38;5;28;43mself\u001B[39;49m\u001B[38;5;241;43m.\u001B[39;49m\u001B[43mtoken_acquirer\u001B[49m\u001B[38;5;241;43m.\u001B[39;49m\u001B[43mdo\u001B[49m\u001B[43m(\u001B[49m\u001B[43mtext\u001B[49m\u001B[43m)\u001B[49m\n\u001B[1;32m     79\u001B[0m     params \u001B[38;5;241m=\u001B[39m utils\u001B[38;5;241m.\u001B[39mbuild_params(query\u001B[38;5;241m=\u001B[39mtext, src\u001B[38;5;241m=\u001B[39msrc, dest\u001B[38;5;241m=\u001B[39mdest,\n\u001B[1;32m     80\u001B[0m                                 token\u001B[38;5;241m=\u001B[39mtoken, override\u001B[38;5;241m=\u001B[39moverride)\n\u001B[1;32m     82\u001B[0m     url \u001B[38;5;241m=\u001B[39m urls\u001B[38;5;241m.\u001B[39mTRANSLATE\u001B[38;5;241m.\u001B[39mformat(host\u001B[38;5;241m=\u001B[39m\u001B[38;5;28mself\u001B[39m\u001B[38;5;241m.\u001B[39m_pick_service_url())\n",
      "File \u001B[0;32m/usr/local/lib/python3.9/site-packages/googletrans/gtoken.py:194\u001B[0m, in \u001B[0;36mTokenAcquirer.do\u001B[0;34m(self, text)\u001B[0m\n\u001B[1;32m    193\u001B[0m \u001B[38;5;28;01mdef\u001B[39;00m \u001B[38;5;21mdo\u001B[39m(\u001B[38;5;28mself\u001B[39m, text):\n\u001B[0;32m--> 194\u001B[0m     \u001B[38;5;28;43mself\u001B[39;49m\u001B[38;5;241;43m.\u001B[39;49m\u001B[43m_update\u001B[49m\u001B[43m(\u001B[49m\u001B[43m)\u001B[49m\n\u001B[1;32m    195\u001B[0m     tk \u001B[38;5;241m=\u001B[39m \u001B[38;5;28mself\u001B[39m\u001B[38;5;241m.\u001B[39macquire(text)\n\u001B[1;32m    196\u001B[0m     \u001B[38;5;28;01mreturn\u001B[39;00m tk\n",
      "File \u001B[0;32m/usr/local/lib/python3.9/site-packages/googletrans/gtoken.py:62\u001B[0m, in \u001B[0;36mTokenAcquirer._update\u001B[0;34m(self)\u001B[0m\n\u001B[1;32m     59\u001B[0m     \u001B[38;5;28;01mreturn\u001B[39;00m\n\u001B[1;32m     61\u001B[0m \u001B[38;5;66;03m# this will be the same as python code after stripping out a reserved word 'var'\u001B[39;00m\n\u001B[0;32m---> 62\u001B[0m code \u001B[38;5;241m=\u001B[39m \u001B[38;5;28;43mself\u001B[39;49m\u001B[38;5;241;43m.\u001B[39;49m\u001B[43mRE_TKK\u001B[49m\u001B[38;5;241;43m.\u001B[39;49m\u001B[43msearch\u001B[49m\u001B[43m(\u001B[49m\u001B[43mr\u001B[49m\u001B[38;5;241;43m.\u001B[39;49m\u001B[43mtext\u001B[49m\u001B[43m)\u001B[49m\u001B[38;5;241;43m.\u001B[39;49m\u001B[43mgroup\u001B[49m(\u001B[38;5;241m1\u001B[39m)\u001B[38;5;241m.\u001B[39mreplace(\u001B[38;5;124m'\u001B[39m\u001B[38;5;124mvar \u001B[39m\u001B[38;5;124m'\u001B[39m, \u001B[38;5;124m'\u001B[39m\u001B[38;5;124m'\u001B[39m)\n\u001B[1;32m     63\u001B[0m \u001B[38;5;66;03m# unescape special ascii characters such like a \\x3d(=)\u001B[39;00m\n\u001B[1;32m     64\u001B[0m code \u001B[38;5;241m=\u001B[39m code\u001B[38;5;241m.\u001B[39mencode()\u001B[38;5;241m.\u001B[39mdecode(\u001B[38;5;124m'\u001B[39m\u001B[38;5;124municode-escape\u001B[39m\u001B[38;5;124m'\u001B[39m)\n",
      "\u001B[0;31mAttributeError\u001B[0m: 'NoneType' object has no attribute 'group'"
     ]
    }
   ],
   "source": [
    "# import the necessary libraries\n",
    "from langdetect import detect\n",
    "from googletrans import Translator\n",
    "import pandas as pd\n",
    "\n",
    "# initialize the translator\n",
    "translator = Translator()\n",
    "\n",
    "def translate_text(text):\n",
    "    # detect the language of the text\n",
    "    detected_lang = detect(text)\n",
    "    # if the language is not English, translate the text\n",
    "    if detected_lang != 'en':\n",
    "        translation = translator.translate(text, dest='en')\n",
    "        translated_text = translation.text\n",
    "    else:\n",
    "        translated_text = text\n",
    "    return detected_lang, translated_text\n",
    "\n",
    "\n",
    "# create a dataframe to store the results\n",
    "df = pd.DataFrame({'original_text': sentences})\n",
    "\n",
    "# apply the translation function to each sentence\n",
    "df['detected_language'], df['translated_text'] = zip(*df['original_text'].apply(translate_text))\n",
    "\n",
    "# print the resulting dataframe\n",
    "print(df)"
   ],
   "metadata": {
    "collapsed": false,
    "pycharm": {
     "name": "#%%\n"
    }
   }
  },
  {
   "cell_type": "code",
   "execution_count": 9,
   "outputs": [
    {
     "ename": "AttributeError",
     "evalue": "'NoneType' object has no attribute 'group'",
     "output_type": "error",
     "traceback": [
      "\u001B[0;31m---------------------------------------------------------------------------\u001B[0m",
      "\u001B[0;31mAttributeError\u001B[0m                            Traceback (most recent call last)",
      "Input \u001B[0;32mIn [9]\u001B[0m, in \u001B[0;36m<module>\u001B[0;34m\u001B[0m\n\u001B[0;32m----> 1\u001B[0m \u001B[43mdf\u001B[49m\u001B[43m[\u001B[49m\u001B[38;5;124;43m'\u001B[39;49m\u001B[38;5;124;43moriginal_text\u001B[39;49m\u001B[38;5;124;43m'\u001B[39;49m\u001B[43m]\u001B[49m\u001B[38;5;241;43m.\u001B[39;49m\u001B[43mapply\u001B[49m\u001B[43m(\u001B[49m\u001B[43mtranslate_text\u001B[49m\u001B[43m)\u001B[49m\n",
      "File \u001B[0;32m/usr/local/lib/python3.9/site-packages/pandas/core/series.py:4433\u001B[0m, in \u001B[0;36mSeries.apply\u001B[0;34m(self, func, convert_dtype, args, **kwargs)\u001B[0m\n\u001B[1;32m   4323\u001B[0m \u001B[38;5;28;01mdef\u001B[39;00m \u001B[38;5;21mapply\u001B[39m(\n\u001B[1;32m   4324\u001B[0m     \u001B[38;5;28mself\u001B[39m,\n\u001B[1;32m   4325\u001B[0m     func: AggFuncType,\n\u001B[0;32m   (...)\u001B[0m\n\u001B[1;32m   4328\u001B[0m     \u001B[38;5;241m*\u001B[39m\u001B[38;5;241m*\u001B[39mkwargs,\n\u001B[1;32m   4329\u001B[0m ) \u001B[38;5;241m-\u001B[39m\u001B[38;5;241m>\u001B[39m DataFrame \u001B[38;5;241m|\u001B[39m Series:\n\u001B[1;32m   4330\u001B[0m     \u001B[38;5;124;03m\"\"\"\u001B[39;00m\n\u001B[1;32m   4331\u001B[0m \u001B[38;5;124;03m    Invoke function on values of Series.\u001B[39;00m\n\u001B[1;32m   4332\u001B[0m \n\u001B[0;32m   (...)\u001B[0m\n\u001B[1;32m   4431\u001B[0m \u001B[38;5;124;03m    dtype: float64\u001B[39;00m\n\u001B[1;32m   4432\u001B[0m \u001B[38;5;124;03m    \"\"\"\u001B[39;00m\n\u001B[0;32m-> 4433\u001B[0m     \u001B[38;5;28;01mreturn\u001B[39;00m \u001B[43mSeriesApply\u001B[49m\u001B[43m(\u001B[49m\u001B[38;5;28;43mself\u001B[39;49m\u001B[43m,\u001B[49m\u001B[43m \u001B[49m\u001B[43mfunc\u001B[49m\u001B[43m,\u001B[49m\u001B[43m \u001B[49m\u001B[43mconvert_dtype\u001B[49m\u001B[43m,\u001B[49m\u001B[43m \u001B[49m\u001B[43margs\u001B[49m\u001B[43m,\u001B[49m\u001B[43m \u001B[49m\u001B[43mkwargs\u001B[49m\u001B[43m)\u001B[49m\u001B[38;5;241;43m.\u001B[39;49m\u001B[43mapply\u001B[49m\u001B[43m(\u001B[49m\u001B[43m)\u001B[49m\n",
      "File \u001B[0;32m/usr/local/lib/python3.9/site-packages/pandas/core/apply.py:1088\u001B[0m, in \u001B[0;36mSeriesApply.apply\u001B[0;34m(self)\u001B[0m\n\u001B[1;32m   1084\u001B[0m \u001B[38;5;28;01mif\u001B[39;00m \u001B[38;5;28misinstance\u001B[39m(\u001B[38;5;28mself\u001B[39m\u001B[38;5;241m.\u001B[39mf, \u001B[38;5;28mstr\u001B[39m):\n\u001B[1;32m   1085\u001B[0m     \u001B[38;5;66;03m# if we are a string, try to dispatch\u001B[39;00m\n\u001B[1;32m   1086\u001B[0m     \u001B[38;5;28;01mreturn\u001B[39;00m \u001B[38;5;28mself\u001B[39m\u001B[38;5;241m.\u001B[39mapply_str()\n\u001B[0;32m-> 1088\u001B[0m \u001B[38;5;28;01mreturn\u001B[39;00m \u001B[38;5;28;43mself\u001B[39;49m\u001B[38;5;241;43m.\u001B[39;49m\u001B[43mapply_standard\u001B[49m\u001B[43m(\u001B[49m\u001B[43m)\u001B[49m\n",
      "File \u001B[0;32m/usr/local/lib/python3.9/site-packages/pandas/core/apply.py:1143\u001B[0m, in \u001B[0;36mSeriesApply.apply_standard\u001B[0;34m(self)\u001B[0m\n\u001B[1;32m   1137\u001B[0m         values \u001B[38;5;241m=\u001B[39m obj\u001B[38;5;241m.\u001B[39mastype(\u001B[38;5;28mobject\u001B[39m)\u001B[38;5;241m.\u001B[39m_values\n\u001B[1;32m   1138\u001B[0m         \u001B[38;5;66;03m# error: Argument 2 to \"map_infer\" has incompatible type\u001B[39;00m\n\u001B[1;32m   1139\u001B[0m         \u001B[38;5;66;03m# \"Union[Callable[..., Any], str, List[Union[Callable[..., Any], str]],\u001B[39;00m\n\u001B[1;32m   1140\u001B[0m         \u001B[38;5;66;03m# Dict[Hashable, Union[Union[Callable[..., Any], str],\u001B[39;00m\n\u001B[1;32m   1141\u001B[0m         \u001B[38;5;66;03m# List[Union[Callable[..., Any], str]]]]]\"; expected\u001B[39;00m\n\u001B[1;32m   1142\u001B[0m         \u001B[38;5;66;03m# \"Callable[[Any], Any]\"\u001B[39;00m\n\u001B[0;32m-> 1143\u001B[0m         mapped \u001B[38;5;241m=\u001B[39m \u001B[43mlib\u001B[49m\u001B[38;5;241;43m.\u001B[39;49m\u001B[43mmap_infer\u001B[49m\u001B[43m(\u001B[49m\n\u001B[1;32m   1144\u001B[0m \u001B[43m            \u001B[49m\u001B[43mvalues\u001B[49m\u001B[43m,\u001B[49m\n\u001B[1;32m   1145\u001B[0m \u001B[43m            \u001B[49m\u001B[43mf\u001B[49m\u001B[43m,\u001B[49m\u001B[43m  \u001B[49m\u001B[38;5;66;43;03m# type: ignore[arg-type]\u001B[39;49;00m\n\u001B[1;32m   1146\u001B[0m \u001B[43m            \u001B[49m\u001B[43mconvert\u001B[49m\u001B[38;5;241;43m=\u001B[39;49m\u001B[38;5;28;43mself\u001B[39;49m\u001B[38;5;241;43m.\u001B[39;49m\u001B[43mconvert_dtype\u001B[49m\u001B[43m,\u001B[49m\n\u001B[1;32m   1147\u001B[0m \u001B[43m        \u001B[49m\u001B[43m)\u001B[49m\n\u001B[1;32m   1149\u001B[0m \u001B[38;5;28;01mif\u001B[39;00m \u001B[38;5;28mlen\u001B[39m(mapped) \u001B[38;5;129;01mand\u001B[39;00m \u001B[38;5;28misinstance\u001B[39m(mapped[\u001B[38;5;241m0\u001B[39m], ABCSeries):\n\u001B[1;32m   1150\u001B[0m     \u001B[38;5;66;03m# GH#43986 Need to do list(mapped) in order to get treated as nested\u001B[39;00m\n\u001B[1;32m   1151\u001B[0m     \u001B[38;5;66;03m#  See also GH#25959 regarding EA support\u001B[39;00m\n\u001B[1;32m   1152\u001B[0m     \u001B[38;5;28;01mreturn\u001B[39;00m obj\u001B[38;5;241m.\u001B[39m_constructor_expanddim(\u001B[38;5;28mlist\u001B[39m(mapped), index\u001B[38;5;241m=\u001B[39mobj\u001B[38;5;241m.\u001B[39mindex)\n",
      "File \u001B[0;32m/usr/local/lib/python3.9/site-packages/pandas/_libs/lib.pyx:2870\u001B[0m, in \u001B[0;36mpandas._libs.lib.map_infer\u001B[0;34m()\u001B[0m\n",
      "Input \u001B[0;32mIn [6]\u001B[0m, in \u001B[0;36mtranslate_text\u001B[0;34m(text)\u001B[0m\n\u001B[1;32m     13\u001B[0m \u001B[38;5;66;03m# if the language is not English, translate the text\u001B[39;00m\n\u001B[1;32m     14\u001B[0m \u001B[38;5;28;01mif\u001B[39;00m detected_lang \u001B[38;5;241m!=\u001B[39m \u001B[38;5;124m'\u001B[39m\u001B[38;5;124men\u001B[39m\u001B[38;5;124m'\u001B[39m:\n\u001B[0;32m---> 15\u001B[0m     translation \u001B[38;5;241m=\u001B[39m \u001B[43mtranslator\u001B[49m\u001B[38;5;241;43m.\u001B[39;49m\u001B[43mtranslate\u001B[49m\u001B[43m(\u001B[49m\u001B[43mtext\u001B[49m\u001B[43m)\u001B[49m\n\u001B[1;32m     16\u001B[0m     translated_text \u001B[38;5;241m=\u001B[39m translation\u001B[38;5;241m.\u001B[39mtext\n\u001B[1;32m     17\u001B[0m \u001B[38;5;28;01melse\u001B[39;00m:\n",
      "File \u001B[0;32m/usr/local/lib/python3.9/site-packages/googletrans/client.py:182\u001B[0m, in \u001B[0;36mTranslator.translate\u001B[0;34m(self, text, dest, src, **kwargs)\u001B[0m\n\u001B[1;32m    179\u001B[0m     \u001B[38;5;28;01mreturn\u001B[39;00m result\n\u001B[1;32m    181\u001B[0m origin \u001B[38;5;241m=\u001B[39m text\n\u001B[0;32m--> 182\u001B[0m data \u001B[38;5;241m=\u001B[39m \u001B[38;5;28;43mself\u001B[39;49m\u001B[38;5;241;43m.\u001B[39;49m\u001B[43m_translate\u001B[49m\u001B[43m(\u001B[49m\u001B[43mtext\u001B[49m\u001B[43m,\u001B[49m\u001B[43m \u001B[49m\u001B[43mdest\u001B[49m\u001B[43m,\u001B[49m\u001B[43m \u001B[49m\u001B[43msrc\u001B[49m\u001B[43m,\u001B[49m\u001B[43m \u001B[49m\u001B[43mkwargs\u001B[49m\u001B[43m)\u001B[49m\n\u001B[1;32m    184\u001B[0m \u001B[38;5;66;03m# this code will be updated when the format is changed.\u001B[39;00m\n\u001B[1;32m    185\u001B[0m translated \u001B[38;5;241m=\u001B[39m \u001B[38;5;124m'\u001B[39m\u001B[38;5;124m'\u001B[39m\u001B[38;5;241m.\u001B[39mjoin([d[\u001B[38;5;241m0\u001B[39m] \u001B[38;5;28;01mif\u001B[39;00m d[\u001B[38;5;241m0\u001B[39m] \u001B[38;5;28;01melse\u001B[39;00m \u001B[38;5;124m'\u001B[39m\u001B[38;5;124m'\u001B[39m \u001B[38;5;28;01mfor\u001B[39;00m d \u001B[38;5;129;01min\u001B[39;00m data[\u001B[38;5;241m0\u001B[39m]])\n",
      "File \u001B[0;32m/usr/local/lib/python3.9/site-packages/googletrans/client.py:78\u001B[0m, in \u001B[0;36mTranslator._translate\u001B[0;34m(self, text, dest, src, override)\u001B[0m\n\u001B[1;32m     77\u001B[0m \u001B[38;5;28;01mdef\u001B[39;00m \u001B[38;5;21m_translate\u001B[39m(\u001B[38;5;28mself\u001B[39m, text, dest, src, override):\n\u001B[0;32m---> 78\u001B[0m     token \u001B[38;5;241m=\u001B[39m \u001B[38;5;28;43mself\u001B[39;49m\u001B[38;5;241;43m.\u001B[39;49m\u001B[43mtoken_acquirer\u001B[49m\u001B[38;5;241;43m.\u001B[39;49m\u001B[43mdo\u001B[49m\u001B[43m(\u001B[49m\u001B[43mtext\u001B[49m\u001B[43m)\u001B[49m\n\u001B[1;32m     79\u001B[0m     params \u001B[38;5;241m=\u001B[39m utils\u001B[38;5;241m.\u001B[39mbuild_params(query\u001B[38;5;241m=\u001B[39mtext, src\u001B[38;5;241m=\u001B[39msrc, dest\u001B[38;5;241m=\u001B[39mdest,\n\u001B[1;32m     80\u001B[0m                                 token\u001B[38;5;241m=\u001B[39mtoken, override\u001B[38;5;241m=\u001B[39moverride)\n\u001B[1;32m     82\u001B[0m     url \u001B[38;5;241m=\u001B[39m urls\u001B[38;5;241m.\u001B[39mTRANSLATE\u001B[38;5;241m.\u001B[39mformat(host\u001B[38;5;241m=\u001B[39m\u001B[38;5;28mself\u001B[39m\u001B[38;5;241m.\u001B[39m_pick_service_url())\n",
      "File \u001B[0;32m/usr/local/lib/python3.9/site-packages/googletrans/gtoken.py:194\u001B[0m, in \u001B[0;36mTokenAcquirer.do\u001B[0;34m(self, text)\u001B[0m\n\u001B[1;32m    193\u001B[0m \u001B[38;5;28;01mdef\u001B[39;00m \u001B[38;5;21mdo\u001B[39m(\u001B[38;5;28mself\u001B[39m, text):\n\u001B[0;32m--> 194\u001B[0m     \u001B[38;5;28;43mself\u001B[39;49m\u001B[38;5;241;43m.\u001B[39;49m\u001B[43m_update\u001B[49m\u001B[43m(\u001B[49m\u001B[43m)\u001B[49m\n\u001B[1;32m    195\u001B[0m     tk \u001B[38;5;241m=\u001B[39m \u001B[38;5;28mself\u001B[39m\u001B[38;5;241m.\u001B[39macquire(text)\n\u001B[1;32m    196\u001B[0m     \u001B[38;5;28;01mreturn\u001B[39;00m tk\n",
      "File \u001B[0;32m/usr/local/lib/python3.9/site-packages/googletrans/gtoken.py:62\u001B[0m, in \u001B[0;36mTokenAcquirer._update\u001B[0;34m(self)\u001B[0m\n\u001B[1;32m     59\u001B[0m     \u001B[38;5;28;01mreturn\u001B[39;00m\n\u001B[1;32m     61\u001B[0m \u001B[38;5;66;03m# this will be the same as python code after stripping out a reserved word 'var'\u001B[39;00m\n\u001B[0;32m---> 62\u001B[0m code \u001B[38;5;241m=\u001B[39m \u001B[38;5;28;43mself\u001B[39;49m\u001B[38;5;241;43m.\u001B[39;49m\u001B[43mRE_TKK\u001B[49m\u001B[38;5;241;43m.\u001B[39;49m\u001B[43msearch\u001B[49m\u001B[43m(\u001B[49m\u001B[43mr\u001B[49m\u001B[38;5;241;43m.\u001B[39;49m\u001B[43mtext\u001B[49m\u001B[43m)\u001B[49m\u001B[38;5;241;43m.\u001B[39;49m\u001B[43mgroup\u001B[49m(\u001B[38;5;241m1\u001B[39m)\u001B[38;5;241m.\u001B[39mreplace(\u001B[38;5;124m'\u001B[39m\u001B[38;5;124mvar \u001B[39m\u001B[38;5;124m'\u001B[39m, \u001B[38;5;124m'\u001B[39m\u001B[38;5;124m'\u001B[39m)\n\u001B[1;32m     63\u001B[0m \u001B[38;5;66;03m# unescape special ascii characters such like a \\x3d(=)\u001B[39;00m\n\u001B[1;32m     64\u001B[0m code \u001B[38;5;241m=\u001B[39m code\u001B[38;5;241m.\u001B[39mencode()\u001B[38;5;241m.\u001B[39mdecode(\u001B[38;5;124m'\u001B[39m\u001B[38;5;124municode-escape\u001B[39m\u001B[38;5;124m'\u001B[39m)\n",
      "\u001B[0;31mAttributeError\u001B[0m: 'NoneType' object has no attribute 'group'"
     ]
    }
   ],
   "source": [
    "df['original_text'].apply(translate_text)"
   ],
   "metadata": {
    "collapsed": false,
    "pycharm": {
     "name": "#%%\n"
    }
   }
  },
  {
   "cell_type": "code",
   "execution_count": 22,
   "outputs": [],
   "source": [
    "# define a function to detect language and translate text\n",
    "def translate_text(text):\n",
    "    # detect the language of the text\n",
    "    detected_lang = detect(text)\n",
    "    print(detected_lang)\n",
    "    # if the language is not English, translate the text\n",
    "    if detected_lang != 'en':\n",
    "        translation = translator.translate(text, dest='en')\n",
    "        translated_text = translation.text\n",
    "    else:\n",
    "        translated_text = text\n",
    "    return detected_lang, translated_text"
   ],
   "metadata": {
    "collapsed": false,
    "pycharm": {
     "name": "#%%\n"
    }
   }
  },
  {
   "cell_type": "code",
   "execution_count": 23,
   "outputs": [],
   "source": [
    "# define a list of sentences to translate\n",
    "sentences = [\n",
    "    'Hola, ¿cómo estás?',\n",
    "    'Je suis heureux de vous voir',\n",
    "    'こんにちは、お元気ですか？',\n",
    "    'This sentence is already in English'\n",
    "]\n"
   ],
   "metadata": {
    "collapsed": false,
    "pycharm": {
     "name": "#%%\n"
    }
   }
  },
  {
   "cell_type": "code",
   "execution_count": 25,
   "outputs": [
    {
     "name": "stdout",
     "output_type": "stream",
     "text": [
      "en\n"
     ]
    },
    {
     "data": {
      "text/plain": "('en', 'This sentence is already in English')"
     },
     "execution_count": 25,
     "metadata": {},
     "output_type": "execute_result"
    }
   ],
   "source": [
    "translate_text(\"This sentence is already in English\")"
   ],
   "metadata": {
    "collapsed": false,
    "pycharm": {
     "name": "#%%\n"
    }
   }
  },
  {
   "cell_type": "code",
   "execution_count": 28,
   "outputs": [
    {
     "ename": "AttributeError",
     "evalue": "'NoneType' object has no attribute 'group'",
     "output_type": "error",
     "traceback": [
      "\u001B[0;31m---------------------------------------------------------------------------\u001B[0m",
      "\u001B[0;31mAttributeError\u001B[0m                            Traceback (most recent call last)",
      "Input \u001B[0;32mIn [28]\u001B[0m, in \u001B[0;36m<module>\u001B[0;34m\u001B[0m\n\u001B[1;32m      1\u001B[0m \u001B[38;5;28;01mfrom\u001B[39;00m \u001B[38;5;21;01mgoogletrans\u001B[39;00m \u001B[38;5;28;01mimport\u001B[39;00m Translator\n\u001B[0;32m----> 2\u001B[0m translations \u001B[38;5;241m=\u001B[39m \u001B[43mtranslator\u001B[49m\u001B[38;5;241;43m.\u001B[39;49m\u001B[43mtranslate\u001B[49m\u001B[43m(\u001B[49m\u001B[43m[\u001B[49m\u001B[38;5;124;43m'\u001B[39;49m\u001B[38;5;124;43mThe quick brown fox\u001B[39;49m\u001B[38;5;124;43m'\u001B[39;49m\u001B[43m,\u001B[49m\u001B[43m \u001B[49m\u001B[38;5;124;43m'\u001B[39;49m\u001B[38;5;124;43mjumps over\u001B[39;49m\u001B[38;5;124;43m'\u001B[39;49m\u001B[43m,\u001B[49m\u001B[43m \u001B[49m\u001B[38;5;124;43m'\u001B[39;49m\u001B[38;5;124;43mthe lazy dog\u001B[39;49m\u001B[38;5;124;43m'\u001B[39;49m\u001B[43m]\u001B[49m\u001B[43m,\u001B[49m\u001B[43m \u001B[49m\u001B[43mdest\u001B[49m\u001B[38;5;241;43m=\u001B[39;49m\u001B[38;5;124;43m'\u001B[39;49m\u001B[38;5;124;43mes\u001B[39;49m\u001B[38;5;124;43m'\u001B[39;49m\u001B[43m)\u001B[49m\n\u001B[1;32m      3\u001B[0m \u001B[38;5;28;01mfor\u001B[39;00m translation \u001B[38;5;129;01min\u001B[39;00m translations:\n\u001B[1;32m      4\u001B[0m     \u001B[38;5;28mprint\u001B[39m(translation\u001B[38;5;241m.\u001B[39morigin, \u001B[38;5;124m'\u001B[39m\u001B[38;5;124m -> \u001B[39m\u001B[38;5;124m'\u001B[39m, translation\u001B[38;5;241m.\u001B[39mtext)\n",
      "File \u001B[0;32m/usr/local/lib/python3.9/site-packages/googletrans/client.py:177\u001B[0m, in \u001B[0;36mTranslator.translate\u001B[0;34m(self, text, dest, src, **kwargs)\u001B[0m\n\u001B[1;32m    175\u001B[0m result \u001B[38;5;241m=\u001B[39m []\n\u001B[1;32m    176\u001B[0m \u001B[38;5;28;01mfor\u001B[39;00m item \u001B[38;5;129;01min\u001B[39;00m text:\n\u001B[0;32m--> 177\u001B[0m     translated \u001B[38;5;241m=\u001B[39m \u001B[38;5;28;43mself\u001B[39;49m\u001B[38;5;241;43m.\u001B[39;49m\u001B[43mtranslate\u001B[49m\u001B[43m(\u001B[49m\u001B[43mitem\u001B[49m\u001B[43m,\u001B[49m\u001B[43m \u001B[49m\u001B[43mdest\u001B[49m\u001B[38;5;241;43m=\u001B[39;49m\u001B[43mdest\u001B[49m\u001B[43m,\u001B[49m\u001B[43m \u001B[49m\u001B[43msrc\u001B[49m\u001B[38;5;241;43m=\u001B[39;49m\u001B[43msrc\u001B[49m\u001B[43m,\u001B[49m\u001B[43m \u001B[49m\u001B[38;5;241;43m*\u001B[39;49m\u001B[38;5;241;43m*\u001B[39;49m\u001B[43mkwargs\u001B[49m\u001B[43m)\u001B[49m\n\u001B[1;32m    178\u001B[0m     result\u001B[38;5;241m.\u001B[39mappend(translated)\n\u001B[1;32m    179\u001B[0m \u001B[38;5;28;01mreturn\u001B[39;00m result\n",
      "File \u001B[0;32m/usr/local/lib/python3.9/site-packages/googletrans/client.py:182\u001B[0m, in \u001B[0;36mTranslator.translate\u001B[0;34m(self, text, dest, src, **kwargs)\u001B[0m\n\u001B[1;32m    179\u001B[0m     \u001B[38;5;28;01mreturn\u001B[39;00m result\n\u001B[1;32m    181\u001B[0m origin \u001B[38;5;241m=\u001B[39m text\n\u001B[0;32m--> 182\u001B[0m data \u001B[38;5;241m=\u001B[39m \u001B[38;5;28;43mself\u001B[39;49m\u001B[38;5;241;43m.\u001B[39;49m\u001B[43m_translate\u001B[49m\u001B[43m(\u001B[49m\u001B[43mtext\u001B[49m\u001B[43m,\u001B[49m\u001B[43m \u001B[49m\u001B[43mdest\u001B[49m\u001B[43m,\u001B[49m\u001B[43m \u001B[49m\u001B[43msrc\u001B[49m\u001B[43m,\u001B[49m\u001B[43m \u001B[49m\u001B[43mkwargs\u001B[49m\u001B[43m)\u001B[49m\n\u001B[1;32m    184\u001B[0m \u001B[38;5;66;03m# this code will be updated when the format is changed.\u001B[39;00m\n\u001B[1;32m    185\u001B[0m translated \u001B[38;5;241m=\u001B[39m \u001B[38;5;124m'\u001B[39m\u001B[38;5;124m'\u001B[39m\u001B[38;5;241m.\u001B[39mjoin([d[\u001B[38;5;241m0\u001B[39m] \u001B[38;5;28;01mif\u001B[39;00m d[\u001B[38;5;241m0\u001B[39m] \u001B[38;5;28;01melse\u001B[39;00m \u001B[38;5;124m'\u001B[39m\u001B[38;5;124m'\u001B[39m \u001B[38;5;28;01mfor\u001B[39;00m d \u001B[38;5;129;01min\u001B[39;00m data[\u001B[38;5;241m0\u001B[39m]])\n",
      "File \u001B[0;32m/usr/local/lib/python3.9/site-packages/googletrans/client.py:78\u001B[0m, in \u001B[0;36mTranslator._translate\u001B[0;34m(self, text, dest, src, override)\u001B[0m\n\u001B[1;32m     77\u001B[0m \u001B[38;5;28;01mdef\u001B[39;00m \u001B[38;5;21m_translate\u001B[39m(\u001B[38;5;28mself\u001B[39m, text, dest, src, override):\n\u001B[0;32m---> 78\u001B[0m     token \u001B[38;5;241m=\u001B[39m \u001B[38;5;28;43mself\u001B[39;49m\u001B[38;5;241;43m.\u001B[39;49m\u001B[43mtoken_acquirer\u001B[49m\u001B[38;5;241;43m.\u001B[39;49m\u001B[43mdo\u001B[49m\u001B[43m(\u001B[49m\u001B[43mtext\u001B[49m\u001B[43m)\u001B[49m\n\u001B[1;32m     79\u001B[0m     params \u001B[38;5;241m=\u001B[39m utils\u001B[38;5;241m.\u001B[39mbuild_params(query\u001B[38;5;241m=\u001B[39mtext, src\u001B[38;5;241m=\u001B[39msrc, dest\u001B[38;5;241m=\u001B[39mdest,\n\u001B[1;32m     80\u001B[0m                                 token\u001B[38;5;241m=\u001B[39mtoken, override\u001B[38;5;241m=\u001B[39moverride)\n\u001B[1;32m     82\u001B[0m     url \u001B[38;5;241m=\u001B[39m urls\u001B[38;5;241m.\u001B[39mTRANSLATE\u001B[38;5;241m.\u001B[39mformat(host\u001B[38;5;241m=\u001B[39m\u001B[38;5;28mself\u001B[39m\u001B[38;5;241m.\u001B[39m_pick_service_url())\n",
      "File \u001B[0;32m/usr/local/lib/python3.9/site-packages/googletrans/gtoken.py:194\u001B[0m, in \u001B[0;36mTokenAcquirer.do\u001B[0;34m(self, text)\u001B[0m\n\u001B[1;32m    193\u001B[0m \u001B[38;5;28;01mdef\u001B[39;00m \u001B[38;5;21mdo\u001B[39m(\u001B[38;5;28mself\u001B[39m, text):\n\u001B[0;32m--> 194\u001B[0m     \u001B[38;5;28;43mself\u001B[39;49m\u001B[38;5;241;43m.\u001B[39;49m\u001B[43m_update\u001B[49m\u001B[43m(\u001B[49m\u001B[43m)\u001B[49m\n\u001B[1;32m    195\u001B[0m     tk \u001B[38;5;241m=\u001B[39m \u001B[38;5;28mself\u001B[39m\u001B[38;5;241m.\u001B[39macquire(text)\n\u001B[1;32m    196\u001B[0m     \u001B[38;5;28;01mreturn\u001B[39;00m tk\n",
      "File \u001B[0;32m/usr/local/lib/python3.9/site-packages/googletrans/gtoken.py:62\u001B[0m, in \u001B[0;36mTokenAcquirer._update\u001B[0;34m(self)\u001B[0m\n\u001B[1;32m     59\u001B[0m     \u001B[38;5;28;01mreturn\u001B[39;00m\n\u001B[1;32m     61\u001B[0m \u001B[38;5;66;03m# this will be the same as python code after stripping out a reserved word 'var'\u001B[39;00m\n\u001B[0;32m---> 62\u001B[0m code \u001B[38;5;241m=\u001B[39m \u001B[38;5;28;43mself\u001B[39;49m\u001B[38;5;241;43m.\u001B[39;49m\u001B[43mRE_TKK\u001B[49m\u001B[38;5;241;43m.\u001B[39;49m\u001B[43msearch\u001B[49m\u001B[43m(\u001B[49m\u001B[43mr\u001B[49m\u001B[38;5;241;43m.\u001B[39;49m\u001B[43mtext\u001B[49m\u001B[43m)\u001B[49m\u001B[38;5;241;43m.\u001B[39;49m\u001B[43mgroup\u001B[49m(\u001B[38;5;241m1\u001B[39m)\u001B[38;5;241m.\u001B[39mreplace(\u001B[38;5;124m'\u001B[39m\u001B[38;5;124mvar \u001B[39m\u001B[38;5;124m'\u001B[39m, \u001B[38;5;124m'\u001B[39m\u001B[38;5;124m'\u001B[39m)\n\u001B[1;32m     63\u001B[0m \u001B[38;5;66;03m# unescape special ascii characters such like a \\x3d(=)\u001B[39;00m\n\u001B[1;32m     64\u001B[0m code \u001B[38;5;241m=\u001B[39m code\u001B[38;5;241m.\u001B[39mencode()\u001B[38;5;241m.\u001B[39mdecode(\u001B[38;5;124m'\u001B[39m\u001B[38;5;124municode-escape\u001B[39m\u001B[38;5;124m'\u001B[39m)\n",
      "\u001B[0;31mAttributeError\u001B[0m: 'NoneType' object has no attribute 'group'"
     ]
    }
   ],
   "source": [
    "from googletrans import Translator\n",
    "translations = translator.translate(['The quick brown fox', 'jumps over', 'the lazy dog'], dest='es')\n",
    "for translation in translations:\n",
    "    print(translation.origin, ' -> ', translation.text)"
   ],
   "metadata": {
    "collapsed": false,
    "pycharm": {
     "name": "#%%\n"
    }
   }
  },
  {
   "cell_type": "code",
   "execution_count": 27,
   "outputs": [
    {
     "ename": "AttributeError",
     "evalue": "'NoneType' object has no attribute 'group'",
     "output_type": "error",
     "traceback": [
      "\u001B[0;31m---------------------------------------------------------------------------\u001B[0m",
      "\u001B[0;31mAttributeError\u001B[0m                            Traceback (most recent call last)",
      "Input \u001B[0;32mIn [27]\u001B[0m, in \u001B[0;36m<module>\u001B[0;34m\u001B[0m\n\u001B[1;32m      1\u001B[0m \u001B[38;5;28;01mfrom\u001B[39;00m \u001B[38;5;21;01mgoogletrans\u001B[39;00m \u001B[38;5;28;01mimport\u001B[39;00m Translator\n\u001B[1;32m      2\u001B[0m translator \u001B[38;5;241m=\u001B[39m Translator()\n\u001B[0;32m----> 3\u001B[0m \u001B[43mtranslator\u001B[49m\u001B[38;5;241;43m.\u001B[39;49m\u001B[43mtranslate\u001B[49m\u001B[43m(\u001B[49m\u001B[38;5;124;43m'\u001B[39;49m\u001B[38;5;124;43m안녕하세요.\u001B[39;49m\u001B[38;5;124;43m'\u001B[39;49m\u001B[43m)\u001B[49m\n",
      "File \u001B[0;32m/usr/local/lib/python3.9/site-packages/googletrans/client.py:182\u001B[0m, in \u001B[0;36mTranslator.translate\u001B[0;34m(self, text, dest, src, **kwargs)\u001B[0m\n\u001B[1;32m    179\u001B[0m     \u001B[38;5;28;01mreturn\u001B[39;00m result\n\u001B[1;32m    181\u001B[0m origin \u001B[38;5;241m=\u001B[39m text\n\u001B[0;32m--> 182\u001B[0m data \u001B[38;5;241m=\u001B[39m \u001B[38;5;28;43mself\u001B[39;49m\u001B[38;5;241;43m.\u001B[39;49m\u001B[43m_translate\u001B[49m\u001B[43m(\u001B[49m\u001B[43mtext\u001B[49m\u001B[43m,\u001B[49m\u001B[43m \u001B[49m\u001B[43mdest\u001B[49m\u001B[43m,\u001B[49m\u001B[43m \u001B[49m\u001B[43msrc\u001B[49m\u001B[43m,\u001B[49m\u001B[43m \u001B[49m\u001B[43mkwargs\u001B[49m\u001B[43m)\u001B[49m\n\u001B[1;32m    184\u001B[0m \u001B[38;5;66;03m# this code will be updated when the format is changed.\u001B[39;00m\n\u001B[1;32m    185\u001B[0m translated \u001B[38;5;241m=\u001B[39m \u001B[38;5;124m'\u001B[39m\u001B[38;5;124m'\u001B[39m\u001B[38;5;241m.\u001B[39mjoin([d[\u001B[38;5;241m0\u001B[39m] \u001B[38;5;28;01mif\u001B[39;00m d[\u001B[38;5;241m0\u001B[39m] \u001B[38;5;28;01melse\u001B[39;00m \u001B[38;5;124m'\u001B[39m\u001B[38;5;124m'\u001B[39m \u001B[38;5;28;01mfor\u001B[39;00m d \u001B[38;5;129;01min\u001B[39;00m data[\u001B[38;5;241m0\u001B[39m]])\n",
      "File \u001B[0;32m/usr/local/lib/python3.9/site-packages/googletrans/client.py:78\u001B[0m, in \u001B[0;36mTranslator._translate\u001B[0;34m(self, text, dest, src, override)\u001B[0m\n\u001B[1;32m     77\u001B[0m \u001B[38;5;28;01mdef\u001B[39;00m \u001B[38;5;21m_translate\u001B[39m(\u001B[38;5;28mself\u001B[39m, text, dest, src, override):\n\u001B[0;32m---> 78\u001B[0m     token \u001B[38;5;241m=\u001B[39m \u001B[38;5;28;43mself\u001B[39;49m\u001B[38;5;241;43m.\u001B[39;49m\u001B[43mtoken_acquirer\u001B[49m\u001B[38;5;241;43m.\u001B[39;49m\u001B[43mdo\u001B[49m\u001B[43m(\u001B[49m\u001B[43mtext\u001B[49m\u001B[43m)\u001B[49m\n\u001B[1;32m     79\u001B[0m     params \u001B[38;5;241m=\u001B[39m utils\u001B[38;5;241m.\u001B[39mbuild_params(query\u001B[38;5;241m=\u001B[39mtext, src\u001B[38;5;241m=\u001B[39msrc, dest\u001B[38;5;241m=\u001B[39mdest,\n\u001B[1;32m     80\u001B[0m                                 token\u001B[38;5;241m=\u001B[39mtoken, override\u001B[38;5;241m=\u001B[39moverride)\n\u001B[1;32m     82\u001B[0m     url \u001B[38;5;241m=\u001B[39m urls\u001B[38;5;241m.\u001B[39mTRANSLATE\u001B[38;5;241m.\u001B[39mformat(host\u001B[38;5;241m=\u001B[39m\u001B[38;5;28mself\u001B[39m\u001B[38;5;241m.\u001B[39m_pick_service_url())\n",
      "File \u001B[0;32m/usr/local/lib/python3.9/site-packages/googletrans/gtoken.py:194\u001B[0m, in \u001B[0;36mTokenAcquirer.do\u001B[0;34m(self, text)\u001B[0m\n\u001B[1;32m    193\u001B[0m \u001B[38;5;28;01mdef\u001B[39;00m \u001B[38;5;21mdo\u001B[39m(\u001B[38;5;28mself\u001B[39m, text):\n\u001B[0;32m--> 194\u001B[0m     \u001B[38;5;28;43mself\u001B[39;49m\u001B[38;5;241;43m.\u001B[39;49m\u001B[43m_update\u001B[49m\u001B[43m(\u001B[49m\u001B[43m)\u001B[49m\n\u001B[1;32m    195\u001B[0m     tk \u001B[38;5;241m=\u001B[39m \u001B[38;5;28mself\u001B[39m\u001B[38;5;241m.\u001B[39macquire(text)\n\u001B[1;32m    196\u001B[0m     \u001B[38;5;28;01mreturn\u001B[39;00m tk\n",
      "File \u001B[0;32m/usr/local/lib/python3.9/site-packages/googletrans/gtoken.py:62\u001B[0m, in \u001B[0;36mTokenAcquirer._update\u001B[0;34m(self)\u001B[0m\n\u001B[1;32m     59\u001B[0m     \u001B[38;5;28;01mreturn\u001B[39;00m\n\u001B[1;32m     61\u001B[0m \u001B[38;5;66;03m# this will be the same as python code after stripping out a reserved word 'var'\u001B[39;00m\n\u001B[0;32m---> 62\u001B[0m code \u001B[38;5;241m=\u001B[39m \u001B[38;5;28;43mself\u001B[39;49m\u001B[38;5;241;43m.\u001B[39;49m\u001B[43mRE_TKK\u001B[49m\u001B[38;5;241;43m.\u001B[39;49m\u001B[43msearch\u001B[49m\u001B[43m(\u001B[49m\u001B[43mr\u001B[49m\u001B[38;5;241;43m.\u001B[39;49m\u001B[43mtext\u001B[49m\u001B[43m)\u001B[49m\u001B[38;5;241;43m.\u001B[39;49m\u001B[43mgroup\u001B[49m(\u001B[38;5;241m1\u001B[39m)\u001B[38;5;241m.\u001B[39mreplace(\u001B[38;5;124m'\u001B[39m\u001B[38;5;124mvar \u001B[39m\u001B[38;5;124m'\u001B[39m, \u001B[38;5;124m'\u001B[39m\u001B[38;5;124m'\u001B[39m)\n\u001B[1;32m     63\u001B[0m \u001B[38;5;66;03m# unescape special ascii characters such like a \\x3d(=)\u001B[39;00m\n\u001B[1;32m     64\u001B[0m code \u001B[38;5;241m=\u001B[39m code\u001B[38;5;241m.\u001B[39mencode()\u001B[38;5;241m.\u001B[39mdecode(\u001B[38;5;124m'\u001B[39m\u001B[38;5;124municode-escape\u001B[39m\u001B[38;5;124m'\u001B[39m)\n",
      "\u001B[0;31mAttributeError\u001B[0m: 'NoneType' object has no attribute 'group'"
     ]
    }
   ],
   "source": [
    "from googletrans import Translator\n",
    "translator = Translator()\n",
    "translator.translate('안녕하세요.')"
   ],
   "metadata": {
    "collapsed": false,
    "pycharm": {
     "name": "#%%\n"
    }
   }
  },
  {
   "cell_type": "code",
   "execution_count": 29,
   "outputs": [
    {
     "name": "stdout",
     "output_type": "stream",
     "text": [
      "                         original_text detected_language  \\\n",
      "0                   Hola, ¿cómo estás?                es   \n",
      "1         Je suis heureux de vous voir                fr   \n",
      "2                        こんにちは、お元気ですか？                ja   \n",
      "3  This sentence is already in English                en   \n",
      "\n",
      "                       translated_text  \n",
      "0                                 None  \n",
      "1                                 None  \n",
      "2                                 None  \n",
      "3  This sentence is already in English  \n"
     ]
    }
   ],
   "source": [
    "# import the necessary libraries\n",
    "from langdetect import detect\n",
    "from googletrans import Translator\n",
    "import pandas as pd\n",
    "import time\n",
    "\n",
    "# initialize the translator\n",
    "translator = Translator()\n",
    "\n",
    "# define a function to detect language and translate text\n",
    "def translate_text(text):\n",
    "    # detect the language of the text\n",
    "    detected_lang = detect(text)\n",
    "    # if the language is not English, translate the text\n",
    "    if detected_lang != 'en':\n",
    "        # retry up to 5 times if translation fails\n",
    "        for i in range(5):\n",
    "            try:\n",
    "                translation = translator.translate(text, dest='en')\n",
    "                translated_text = translation.text\n",
    "                break\n",
    "            except:\n",
    "                time.sleep(0.5)\n",
    "                continue\n",
    "        else:\n",
    "            # if translation fails after 5 retries, return None\n",
    "            translated_text = None\n",
    "    else:\n",
    "        translated_text = text\n",
    "    return detected_lang, translated_text\n",
    "\n",
    "# define a list of sentences to translate\n",
    "sentences = [\n",
    "    'Hola, ¿cómo estás?',\n",
    "    'Je suis heureux de vous voir',\n",
    "    'こんにちは、お元気ですか？',\n",
    "    'This sentence is already in English'\n",
    "]\n",
    "\n",
    "# create a dataframe to store the results\n",
    "df = pd.DataFrame({'original_text': sentences})\n",
    "\n",
    "# apply the translation function to each sentence\n",
    "df['detected_language'], df['translated_text'] = zip(*df['original_text'].apply(translate_text))\n",
    "\n",
    "# print the resulting dataframe\n",
    "print(df)"
   ],
   "metadata": {
    "collapsed": false,
    "pycharm": {
     "name": "#%%\n"
    }
   }
  },
  {
   "cell_type": "code",
   "execution_count": 31,
   "outputs": [
    {
     "data": {
      "text/plain": "                         original_text detected_language  \\\n0                   Hola, ¿cómo estás?                es   \n1         Je suis heureux de vous voir                fr   \n2                        こんにちは、お元気ですか？                ja   \n3  This sentence is already in English                en   \n\n                       translated_text  \n0                                 None  \n1                                 None  \n2                                 None  \n3  This sentence is already in English  ",
      "text/html": "<div>\n<style scoped>\n    .dataframe tbody tr th:only-of-type {\n        vertical-align: middle;\n    }\n\n    .dataframe tbody tr th {\n        vertical-align: top;\n    }\n\n    .dataframe thead th {\n        text-align: right;\n    }\n</style>\n<table border=\"1\" class=\"dataframe\">\n  <thead>\n    <tr style=\"text-align: right;\">\n      <th></th>\n      <th>original_text</th>\n      <th>detected_language</th>\n      <th>translated_text</th>\n    </tr>\n  </thead>\n  <tbody>\n    <tr>\n      <th>0</th>\n      <td>Hola, ¿cómo estás?</td>\n      <td>es</td>\n      <td>None</td>\n    </tr>\n    <tr>\n      <th>1</th>\n      <td>Je suis heureux de vous voir</td>\n      <td>fr</td>\n      <td>None</td>\n    </tr>\n    <tr>\n      <th>2</th>\n      <td>こんにちは、お元気ですか？</td>\n      <td>ja</td>\n      <td>None</td>\n    </tr>\n    <tr>\n      <th>3</th>\n      <td>This sentence is already in English</td>\n      <td>en</td>\n      <td>This sentence is already in English</td>\n    </tr>\n  </tbody>\n</table>\n</div>"
     },
     "execution_count": 31,
     "metadata": {},
     "output_type": "execute_result"
    }
   ],
   "source": [
    "df"
   ],
   "metadata": {
    "collapsed": false,
    "pycharm": {
     "name": "#%%\n"
    }
   }
  },
  {
   "cell_type": "code",
   "execution_count": 4,
   "outputs": [
    {
     "name": "stdout",
     "output_type": "stream",
     "text": [
      "BD code: ['BD S130337-26-2']\n",
      "Dimension: ['2,75X230']\n",
      "Material code: ['BD', 'S130337', '26', '2', '75X230', '16MNCR5MGKZ', 'LG', 'G']\n",
      "Finish/surface treatment code: ['26', '2', '16MNCR5MGKZ', 'LG', 'G']\n",
      "\n",
      "BD code: ['BD S130337-21-2X60GK-16MNCR5MGKZ']\n",
      "Dimension: ['2X60']\n",
      "Material code: ['BD', 'S130337', '21', '2X60GK', '16MNCR5MGKZ', 'LG', 'E']\n",
      "Finish/surface treatment code: ['21', '2X60GK', '16MNCR5MGKZ', 'LG', 'E']\n",
      "\n",
      "BD code: ['BD S130337-20-1']\n",
      "Dimension: ['1,75X66']\n",
      "Material code: ['BD', 'S130337', '20', '1', '75X66GK', 'C15MGKZ', 'LG', 'A']\n",
      "Finish/surface treatment code: ['20', '1', 'C15MGKZ', 'LG', 'A']\n",
      "\n",
      "BD code: ['BD S130337-26-1']\n",
      "Dimension: ['1,63X222']\n",
      "Material code: ['BD', 'S130337', '26', '1', '63X222GK', 'C16MGKZ', 'LG', 'A']\n",
      "Finish/surface treatment code: ['26', '1', 'C16MGKZ', 'LG', 'A']\n",
      "\n",
      "BD code: ['BD S130337-61-2']\n",
      "Dimension: ['2,5X275']\n",
      "Material code: ['BD', 'S130337', '61', '2', '5X275GK', 'C80MGKZ', 'LG']\n",
      "Finish/surface treatment code: ['61', '2', 'C80MGKZ', 'LG']\n",
      "\n",
      "BD code: ['BD 081201101-0']\n",
      "Dimension: ['0,4X59']\n",
      "Material code: ['BD', '081201101', '0', '4X59', 'C75', 'QT']\n",
      "Finish/surface treatment code: ['0', 'C75', 'QT']\n",
      "\n",
      "BD code: ['BD 081201000-1']\n",
      "Dimension: ['1,2X74']\n",
      "Material code: ['BD', '081201000', '1', '2X74', 'C10']\n",
      "Finish/surface treatment code: ['1', 'C10']\n",
      "\n",
      "BD code: []\n",
      "Dimension: []\n",
      "Material code: ['1', '10', '35']\n",
      "Finish/surface treatment code: ['10']\n",
      "\n",
      "BD code: []\n",
      "Dimension: []\n",
      "Material code: ['MCM', 'GD2', 'BB', '450G']\n",
      "Finish/surface treatment code: []\n",
      "\n"
     ]
    }
   ],
   "source": [
    "import re\n",
    "\n",
    "text = \"\"\"BD S130337-26-2,75X230-16MNCR5MGKZ+LG-G\n",
    "BD S130337-21-2X60GK-16MNCR5MGKZ+LG-E\n",
    "BD S130337-20-1,75X66GK-C15MGKZ+LG-A\n",
    "BD S130337-26-1,63X222GK-C16MGKZ+LG-A\n",
    "BD S130337-61-2,5X275GK-C80MGKZ+LG\n",
    "BD 081201101-0,4X59-C75+QT\n",
    "BD 081201000-1,2X74-C10\n",
    "1-KOND_KER_VS_0402_1u_+-10%_10V_X5R x 35\n",
    "MCM  GD2 1000x700- BB 450G Gernsbach\"\"\"\n",
    "\n",
    "# pattern for matching the BD code\n",
    "bd_pattern = r\"BD [A-Z0-9\\-]+\"\n",
    "\n",
    "# pattern for matching the dimension\n",
    "dim_pattern = r\"\\d+(?:[,.]\\d+)?X\\d+(?:[,.]\\d+)?\"\n",
    "\n",
    "# pattern for matching the material code\n",
    "mat_pattern = r\"(?<=\\b)[A-Z0-9]+(?=\\b)\"\n",
    "\n",
    "# pattern for matching the finish/surface treatment code\n",
    "fin_pattern = r\"(?<=\\+|-)[A-Z0-9]+(?=\\b)\"\n",
    "\n",
    "# compile the regex patterns\n",
    "bd_regex = re.compile(bd_pattern)\n",
    "dim_regex = re.compile(dim_pattern)\n",
    "mat_regex = re.compile(mat_pattern)\n",
    "fin_regex = re.compile(fin_pattern)\n",
    "\n",
    "# iterate through each line of the text\n",
    "for line in text.split(\"\\n\"):\n",
    "    # find all matches for each pattern in the line\n",
    "    bd_matches = bd_regex.findall(line)\n",
    "    dim_matches = dim_regex.findall(line)\n",
    "    mat_matches = mat_regex.findall(line)\n",
    "    fin_matches = fin_regex.findall(line)\n",
    "\n",
    "    # print the matches for each pattern\n",
    "    print(f\"BD code: {bd_matches}\")\n",
    "    print(f\"Dimension: {dim_matches}\")\n",
    "    print(f\"Material code: {mat_matches}\")\n",
    "    print(f\"Finish/surface treatment code: {fin_matches}\")\n",
    "    print()"
   ],
   "metadata": {
    "collapsed": false,
    "pycharm": {
     "name": "#%%\n"
    }
   }
  },
  {
   "cell_type": "code",
   "execution_count": 40,
   "outputs": [
    {
     "name": "stdout",
     "output_type": "stream",
     "text": [
      "                         original_text detected_language  \\\n",
      "0                   Hola, ¿cómo estás?                es   \n",
      "1         Je suis heureux de vous voir                fr   \n",
      "2                        こんにちは、お元気ですか？                ja   \n",
      "3  This sentence is already in English                en   \n",
      "\n",
      "                       translated_text  \n",
      "0                   Hello how are you?  \n",
      "1                 I am glad to see you  \n",
      "2                  Hello, how are you?  \n",
      "3  This sentence is already in English  \n"
     ]
    }
   ],
   "source": [
    "# import the necessary libraries\n",
    "from langdetect import detect\n",
    "from deep_translator import GoogleTranslator\n",
    "import pandas as pd\n",
    "\n",
    "# define a function to detect language and translate text\n",
    "def translate_text(text):\n",
    "    # detect the language of the text\n",
    "    detected_lang = detect(text)\n",
    "    # if the language is not English, translate the text\n",
    "    if detected_lang != 'en':\n",
    "        try:\n",
    "            translated_text = GoogleTranslator(source=detected_lang, target='en').translate(text)\n",
    "        except:\n",
    "            translated_text = None\n",
    "    else:\n",
    "        translated_text = text\n",
    "    return detected_lang, translated_text\n",
    "\n",
    "# define a list of sentences to translate\n",
    "sentences = [\n",
    "    'Hola, ¿cómo estás?',\n",
    "    'Je suis heureux de vous voir',\n",
    "    'こんにちは、お元気ですか？',\n",
    "    'This sentence is already in English'\n",
    "]\n",
    "\n",
    "# create a dataframe to store the results\n",
    "df = pd.DataFrame({'original_text': sentences})\n",
    "\n",
    "# apply the translation function to each sentence\n",
    "df['detected_language'], df['translated_text'] = zip(*df['original_text'].apply(translate_text))\n",
    "\n",
    "# print the resulting dataframe\n",
    "print(df)"
   ],
   "metadata": {
    "collapsed": false,
    "pycharm": {
     "name": "#%%\n"
    }
   }
  },
  {
   "cell_type": "code",
   "execution_count": 39,
   "outputs": [
    {
     "name": "stdout",
     "output_type": "stream",
     "text": [
      "\u001B[33mDEPRECATION: Configuring installation scheme with distutils config files is deprecated and will no longer work in the near future. If you are using a Homebrew or Linuxbrew Python, please see discussion at https://github.com/Homebrew/homebrew-core/issues/76621\u001B[0m\u001B[33m\r\n",
      "\u001B[0mCollecting deep-translator\r\n",
      "  Using cached deep_translator-1.10.1-py3-none-any.whl (35 kB)\r\n",
      "Requirement already satisfied: beautifulsoup4<5.0.0,>=4.9.1 in /usr/local/lib/python3.9/site-packages (from deep-translator) (4.11.1)\r\n",
      "Requirement already satisfied: requests<3.0.0,>=2.23.0 in /usr/local/lib/python3.9/site-packages (from deep-translator) (2.27.1)\r\n",
      "Requirement already satisfied: soupsieve>1.2 in /usr/local/lib/python3.9/site-packages (from beautifulsoup4<5.0.0,>=4.9.1->deep-translator) (2.3.2.post1)\r\n",
      "Requirement already satisfied: idna<4,>=2.5 in /usr/local/lib/python3.9/site-packages (from requests<3.0.0,>=2.23.0->deep-translator) (3.4)\r\n",
      "Requirement already satisfied: certifi>=2017.4.17 in /usr/local/lib/python3.9/site-packages (from requests<3.0.0,>=2.23.0->deep-translator) (2021.10.8)\r\n",
      "Requirement already satisfied: charset-normalizer~=2.0.0 in /usr/local/lib/python3.9/site-packages (from requests<3.0.0,>=2.23.0->deep-translator) (2.0.10)\r\n",
      "Requirement already satisfied: urllib3<1.27,>=1.21.1 in /usr/local/lib/python3.9/site-packages (from requests<3.0.0,>=2.23.0->deep-translator) (1.26.8)\r\n",
      "Installing collected packages: deep-translator\r\n",
      "\u001B[33m  DEPRECATION: Configuring installation scheme with distutils config files is deprecated and will no longer work in the near future. If you are using a Homebrew or Linuxbrew Python, please see discussion at https://github.com/Homebrew/homebrew-core/issues/76621\u001B[0m\u001B[33m\r\n",
      "\u001B[0m\u001B[33m  WARNING: The scripts deep-translator and dt are installed in '/usr/local/bin' which is not on PATH.\r\n",
      "  Consider adding this directory to PATH or, if you prefer to suppress this warning, use --no-warn-script-location.\u001B[0m\u001B[33m\r\n",
      "\u001B[0m\u001B[33mDEPRECATION: Configuring installation scheme with distutils config files is deprecated and will no longer work in the near future. If you are using a Homebrew or Linuxbrew Python, please see discussion at https://github.com/Homebrew/homebrew-core/issues/76621\u001B[0m\u001B[33m\r\n",
      "\u001B[0mSuccessfully installed deep-translator-1.10.1\r\n",
      "\u001B[33mWARNING: You are using pip version 22.0.4; however, version 23.0.1 is available.\r\n",
      "You should consider upgrading via the '/usr/local/opt/python@3.9/bin/python3.9 -m pip install --upgrade pip' command.\u001B[0m\u001B[33m\r\n",
      "\u001B[0m"
     ]
    }
   ],
   "source": [
    "!pip3 install deep-translator"
   ],
   "metadata": {
    "collapsed": false,
    "pycharm": {
     "name": "#%%\n"
    }
   }
  },
  {
   "cell_type": "code",
   "execution_count": 44,
   "outputs": [
    {
     "name": "stdout",
     "output_type": "stream",
     "text": [
      "                         original_text detected_language  \\\n",
      "0                   Hola, ¿cómo estás?                es   \n",
      "1         Je suis heureux de vous voir                fr   \n",
      "2                        こんにちは、お元気ですか？                ja   \n",
      "3  This sentence is already in English                en   \n",
      "\n",
      "                       translated_text  \n",
      "0                   Hello how are you?  \n",
      "1                 I am glad to see you  \n",
      "2                  Hello, how are you?  \n",
      "3  This sentence is already in English  \n"
     ]
    }
   ],
   "source": [
    "# import the necessary libraries\n",
    "from langdetect import detect\n",
    "# from google.cloud import translate_v2 as translate\n",
    "from deep_translator import GoogleTranslator\n",
    "import pandas as pd\n",
    "import os\n",
    "\n",
    "# set the environment variable for the Google Cloud API key\n",
    "os.environ['GOOGLE_APPLICATION_CREDENTIALS'] = '/path/to/your/api/key.json'\n",
    "\n",
    "# set this variable to True to use the Google Cloud Translation API, or False to use deep_translator\n",
    "\n",
    "\n",
    "# if using Google Cloud Translation API, initialize the client\n",
    "# define a function to detect language and translate text\n",
    "def translate_text(text, USE_GOOGLE_TRANSLATE = False):\n",
    "    # detect the language of the text\n",
    "    detected_lang = detect(text)\n",
    "    # if the language is not English, translate the text\n",
    "    if detected_lang != 'en':\n",
    "        if USE_GOOGLE_TRANSLATE:\n",
    "            client = translate.Client()\n",
    "            try:\n",
    "                translation = client.translate(text, target_language='en')\n",
    "                translated_text = translation['translatedText']\n",
    "            except:\n",
    "                translated_text = None\n",
    "        else:\n",
    "            try:\n",
    "                translated_text = GoogleTranslator(source=detected_lang, target='en').translate(text)\n",
    "            except:\n",
    "                translated_text = None\n",
    "    else:\n",
    "        translated_text = text\n",
    "    return detected_lang, translated_text\n",
    "\n",
    "# define a list of sentences to translate\n",
    "sentences = [\n",
    "    'Hola, ¿cómo estás?',\n",
    "    'Je suis heureux de vous voir',\n",
    "    'こんにちは、お元気ですか？',\n",
    "    'This sentence is already in English'\n",
    "]\n",
    "\n",
    "# create a dataframe to store the results\n",
    "df = pd.DataFrame({'original_text': sentences})\n",
    "\n",
    "# apply the translation function to each sentence\n",
    "df['detected_language'], df['translated_text'] = zip(*df['original_text'].apply(translate_text))\n",
    "\n",
    "# print the resulting dataframe\n",
    "print(df)"
   ],
   "metadata": {
    "collapsed": false,
    "pycharm": {
     "name": "#%%\n"
    }
   }
  },
  {
   "cell_type": "code",
   "execution_count": 5,
   "outputs": [
    {
     "name": "stdout",
     "output_type": "stream",
     "text": [
      "37830\n"
     ]
    }
   ],
   "source": [
    "from utils import *\n",
    "df = get_spreadsheet_data(\"1rRtLD56MpNPfSThJmzaD0e7yfrUdXMVoDwXU__qYcUM\")\n",
    "print(len(df))"
   ],
   "metadata": {
    "collapsed": false,
    "pycharm": {
     "name": "#%%\n"
    }
   }
  },
  {
   "cell_type": "code",
   "execution_count": 6,
   "outputs": [
    {
     "data": {
      "text/plain": "Index(['id', 'name', 'group_name', 'manual_match', 'category_raw_name',\n       'product_type', 'batch', 'source', 'group_name_2', 'group_name_3'],\n      dtype='object')"
     },
     "execution_count": 6,
     "metadata": {},
     "output_type": "execute_result"
    }
   ],
   "source": [
    "df.columns"
   ],
   "metadata": {
    "collapsed": false,
    "pycharm": {
     "name": "#%%\n"
    }
   }
  },
  {
   "cell_type": "code",
   "execution_count": 12,
   "outputs": [],
   "source": [
    "import pandas as pd\n",
    "from sklearn.model_selection import train_test_split\n",
    "\n",
    "# Load your data into a pandas DataFrame\n",
    "\n",
    "# Set the column to stratify on (e.g. class)\n",
    "stratify_col = 'category_raw_name'\n",
    "\n",
    "# Split data into train and test sets (80/20 split)\n",
    "train, test = train_test_split(df, test_size=0.3, stratify=df[stratify_col])\n",
    "\n",
    "# Split the test set into test and evaluation sets (50/50 split)\n",
    "test, eval = train_test_split(test, test_size=0.5)\n",
    "\n",
    "# Add a \"split\" column to indicate which set each row belongs to\n",
    "train['split'] = 'train'\n",
    "test['split'] = 'test'\n",
    "eval['split'] = 'eval'\n",
    "\n",
    "# Concatenate the data back together\n",
    "df_split = pd.concat([train, test], axis=0)"
   ],
   "metadata": {
    "collapsed": false,
    "pycharm": {
     "name": "#%%\n"
    }
   }
  },
  {
   "cell_type": "code",
   "execution_count": 13,
   "outputs": [
    {
     "data": {
      "text/plain": "                                         id  \\\n23952  98c0a6de-83c8-40a9-8a1d-144f7557335e   \n5011   75cb894e-a23e-485d-b553-c544481669f0   \n8857   c08f304c-6a6c-4346-894b-a997814455d5   \n24422  746034b8-1b84-4d67-9362-8123c288ad9b   \n18071  d712fe9b-8cbc-4f58-8b60-68157de18a0c   \n...                                     ...   \n23989  f9d885a4-2e76-41d6-b3cb-bf470dfe508c   \n4695   3cb6f813-3483-4f5c-83ea-153537699033   \n7967   a3c6ddf6-31f1-496f-9eeb-9ca2aa7fd7a9   \n15765  adea7090-e1cc-4e3a-8faa-2cd52d787367   \n15629  52811ab0-bbab-45fd-afab-9001252268f6   \n\n                                           name               group_name  \\\n23952                5370170100 -KEILRIP.RIEMEN      M397 /// AAM Engine   \n5011   ET.BY SMART GIOCONDA KWS EPD P/B WE19/20                   Labels   \n8857             TAHITI CLP Maxim 025 FS, kg VZ               TAHITI CLP   \n24422                  5550576000 -GLEITSCHIENE      M397 /// AAM Engine   \n18071             F-357261.20-0068.ROT.NWDR-SIN  M343 /// Sintered parts   \n...                                         ...                      ...   \n23989                         101954B -RADLAGER      M397 /// AAM Engine   \n4695              Bolsas, Alfalfa, Mecha, 25 kg          Bags oil fruits   \n7967          S-RIX-MSRW 325R-800R non trattato                    CSRIX   \n15765           L-03233-0700-01 N.AUSSENVERZ.RT    M016 /// Forged parts   \n15629                  Z-503772-0029.IR.TR2-ENW    M014 /// Rolled Rings   \n\n                      manual_match      category_raw_name product_type  \\\n23952             synthetic rubber  plastics and polymers     material   \n5011                 printed paper         office support     material   \n8857    sunflower seed, for sowing                  crops     material   \n24422           steel, low-alloyed         steel and iron     material   \n18071                  iron sinter         steel and iron     material   \n...                            ...                    ...          ...   \n23989           steel, low-alloyed         steel and iron     material   \n4695                    paper sack              packaging     material   \n7967   sugar beet seed, for sowing                  crops     material   \n15765           steel, low-alloyed         steel and iron     material   \n15629           steel, low-alloyed         steel and iron     material   \n\n         batch      source                group_name_2 group_name_3  split  \n23952  batch_1  Schefflaer      M39696 ///Single belts               train  \n5011   batch_1         KWS                      Labels          NaN  train  \n8857   batch_3         KWS                         NaN    Sunflower  train  \n24422  batch_1  Schefflaer   M39668 ///Tensioner blade               train  \n18071  batch_1  Schefflaer            M34311 ///Sinter               train  \n...        ...         ...                         ...          ...    ...  \n23989  batch_1  Schefflaer  M39634 ///Wheel bearing sg                test  \n4695   batch_1         KWS             Bags oil fruits          NaN   test  \n7967   batch_3         KWS             SMART RIXTA KWS   Sugar beet   test  \n15765  batch_1  Schefflaer   M01643 ///hubs horizontal                test  \n15629  batch_1  Schefflaer  M25100 ///Int. Comp. Parts                test  \n\n[32155 rows x 11 columns]",
      "text/html": "<div>\n<style scoped>\n    .dataframe tbody tr th:only-of-type {\n        vertical-align: middle;\n    }\n\n    .dataframe tbody tr th {\n        vertical-align: top;\n    }\n\n    .dataframe thead th {\n        text-align: right;\n    }\n</style>\n<table border=\"1\" class=\"dataframe\">\n  <thead>\n    <tr style=\"text-align: right;\">\n      <th></th>\n      <th>id</th>\n      <th>name</th>\n      <th>group_name</th>\n      <th>manual_match</th>\n      <th>category_raw_name</th>\n      <th>product_type</th>\n      <th>batch</th>\n      <th>source</th>\n      <th>group_name_2</th>\n      <th>group_name_3</th>\n      <th>split</th>\n    </tr>\n  </thead>\n  <tbody>\n    <tr>\n      <th>23952</th>\n      <td>98c0a6de-83c8-40a9-8a1d-144f7557335e</td>\n      <td>5370170100 -KEILRIP.RIEMEN</td>\n      <td>M397 /// AAM Engine</td>\n      <td>synthetic rubber</td>\n      <td>plastics and polymers</td>\n      <td>material</td>\n      <td>batch_1</td>\n      <td>Schefflaer</td>\n      <td>M39696 ///Single belts</td>\n      <td></td>\n      <td>train</td>\n    </tr>\n    <tr>\n      <th>5011</th>\n      <td>75cb894e-a23e-485d-b553-c544481669f0</td>\n      <td>ET.BY SMART GIOCONDA KWS EPD P/B WE19/20</td>\n      <td>Labels</td>\n      <td>printed paper</td>\n      <td>office support</td>\n      <td>material</td>\n      <td>batch_1</td>\n      <td>KWS</td>\n      <td>Labels</td>\n      <td>NaN</td>\n      <td>train</td>\n    </tr>\n    <tr>\n      <th>8857</th>\n      <td>c08f304c-6a6c-4346-894b-a997814455d5</td>\n      <td>TAHITI CLP Maxim 025 FS, kg VZ</td>\n      <td>TAHITI CLP</td>\n      <td>sunflower seed, for sowing</td>\n      <td>crops</td>\n      <td>material</td>\n      <td>batch_3</td>\n      <td>KWS</td>\n      <td>NaN</td>\n      <td>Sunflower</td>\n      <td>train</td>\n    </tr>\n    <tr>\n      <th>24422</th>\n      <td>746034b8-1b84-4d67-9362-8123c288ad9b</td>\n      <td>5550576000 -GLEITSCHIENE</td>\n      <td>M397 /// AAM Engine</td>\n      <td>steel, low-alloyed</td>\n      <td>steel and iron</td>\n      <td>material</td>\n      <td>batch_1</td>\n      <td>Schefflaer</td>\n      <td>M39668 ///Tensioner blade</td>\n      <td></td>\n      <td>train</td>\n    </tr>\n    <tr>\n      <th>18071</th>\n      <td>d712fe9b-8cbc-4f58-8b60-68157de18a0c</td>\n      <td>F-357261.20-0068.ROT.NWDR-SIN</td>\n      <td>M343 /// Sintered parts</td>\n      <td>iron sinter</td>\n      <td>steel and iron</td>\n      <td>material</td>\n      <td>batch_1</td>\n      <td>Schefflaer</td>\n      <td>M34311 ///Sinter</td>\n      <td></td>\n      <td>train</td>\n    </tr>\n    <tr>\n      <th>...</th>\n      <td>...</td>\n      <td>...</td>\n      <td>...</td>\n      <td>...</td>\n      <td>...</td>\n      <td>...</td>\n      <td>...</td>\n      <td>...</td>\n      <td>...</td>\n      <td>...</td>\n      <td>...</td>\n    </tr>\n    <tr>\n      <th>23989</th>\n      <td>f9d885a4-2e76-41d6-b3cb-bf470dfe508c</td>\n      <td>101954B -RADLAGER</td>\n      <td>M397 /// AAM Engine</td>\n      <td>steel, low-alloyed</td>\n      <td>steel and iron</td>\n      <td>material</td>\n      <td>batch_1</td>\n      <td>Schefflaer</td>\n      <td>M39634 ///Wheel bearing sg</td>\n      <td></td>\n      <td>test</td>\n    </tr>\n    <tr>\n      <th>4695</th>\n      <td>3cb6f813-3483-4f5c-83ea-153537699033</td>\n      <td>Bolsas, Alfalfa, Mecha, 25 kg</td>\n      <td>Bags oil fruits</td>\n      <td>paper sack</td>\n      <td>packaging</td>\n      <td>material</td>\n      <td>batch_1</td>\n      <td>KWS</td>\n      <td>Bags oil fruits</td>\n      <td>NaN</td>\n      <td>test</td>\n    </tr>\n    <tr>\n      <th>7967</th>\n      <td>a3c6ddf6-31f1-496f-9eeb-9ca2aa7fd7a9</td>\n      <td>S-RIX-MSRW 325R-800R non trattato</td>\n      <td>CSRIX</td>\n      <td>sugar beet seed, for sowing</td>\n      <td>crops</td>\n      <td>material</td>\n      <td>batch_3</td>\n      <td>KWS</td>\n      <td>SMART RIXTA KWS</td>\n      <td>Sugar beet</td>\n      <td>test</td>\n    </tr>\n    <tr>\n      <th>15765</th>\n      <td>adea7090-e1cc-4e3a-8faa-2cd52d787367</td>\n      <td>L-03233-0700-01 N.AUSSENVERZ.RT</td>\n      <td>M016 /// Forged parts</td>\n      <td>steel, low-alloyed</td>\n      <td>steel and iron</td>\n      <td>material</td>\n      <td>batch_1</td>\n      <td>Schefflaer</td>\n      <td>M01643 ///hubs horizontal</td>\n      <td></td>\n      <td>test</td>\n    </tr>\n    <tr>\n      <th>15629</th>\n      <td>52811ab0-bbab-45fd-afab-9001252268f6</td>\n      <td>Z-503772-0029.IR.TR2-ENW</td>\n      <td>M014 /// Rolled Rings</td>\n      <td>steel, low-alloyed</td>\n      <td>steel and iron</td>\n      <td>material</td>\n      <td>batch_1</td>\n      <td>Schefflaer</td>\n      <td>M25100 ///Int. Comp. Parts</td>\n      <td></td>\n      <td>test</td>\n    </tr>\n  </tbody>\n</table>\n<p>32155 rows × 11 columns</p>\n</div>"
     },
     "execution_count": 13,
     "metadata": {},
     "output_type": "execute_result"
    }
   ],
   "source": [
    "df_split"
   ],
   "metadata": {
    "collapsed": false,
    "pycharm": {
     "name": "#%%\n"
    }
   }
  },
  {
   "cell_type": "code",
   "execution_count": 14,
   "outputs": [],
   "source": [
    "\n",
    "def split_data(df, stratify_col):\n",
    "    \"\"\"\n",
    "    Splits a pandas DataFrame into train, test, and evaluation sets using stratified sampling.\n",
    "\n",
    "    Parameters:\n",
    "    -----------\n",
    "    df : pandas DataFrame\n",
    "        The DataFrame to split.\n",
    "    stratify_col : str\n",
    "        The name of the column to use for stratification.\n",
    "\n",
    "    Returns:\n",
    "    --------\n",
    "    df_split : pandas DataFrame\n",
    "        The original DataFrame with an added \"split\" column indicating which set each row belongs to.\n",
    "    \"\"\"\n",
    "    # Split data into train and test sets (80/20 split)\n",
    "    train, test = train_test_split(df, test_size=0.3, stratify=df[stratify_col])\n",
    "    try:\n",
    "    # Split the test set into test and evaluation sets (50/50 split)\n",
    "        test, eval = train_test_split(test, test_size=0.5, stratify=df[stratify_col])\n",
    "    except:\n",
    "        test, eval = train_test_split(test, test_size=0.5)\n",
    "\n",
    "    # Add a \"split\" column to indicate which set each row belongs to\n",
    "    train['split'] = 'train'\n",
    "    test['split'] = 'test'\n",
    "    eval['split'] = 'eval'\n",
    "\n",
    "    # Concatenate the data back together\n",
    "    df_split = pd.concat([train, test], axis=0)\n",
    "\n",
    "    return df_split"
   ],
   "metadata": {
    "collapsed": false,
    "pycharm": {
     "name": "#%%\n"
    }
   }
  },
  {
   "cell_type": "code",
   "execution_count": 15,
   "outputs": [
    {
     "data": {
      "text/plain": "                                         id  \\\n3812   ec3d0b77-e756-4fb2-b3d5-af548fee5778   \n28456  804f439c-dd12-42f2-921e-60e0cd099277   \n15124  0c744957-79ef-48e1-831d-1ab39993b053   \n32427  5f3fd4be-6fd1-49a5-b63e-8cb87010e0fe   \n23787  c3d195a5-00f6-49e8-aa25-20359428ba9a   \n...                                     ...   \n8292   342b6537-d80b-4ea5-b426-41c2a567ee48   \n31437  49dea7a1-497b-4b68-9b06-305d67ba5f99   \n5433   6dbd085a-262d-4ee7-955c-75c11fb081c0   \n28738  481f56c8-1371-4b11-9e64-485598909204   \n12018  4bf003c1-4cf4-4f13-ad4b-2a5bb0a8228e   \n\n                                          name                     group_name  \\\n3812                Folding carton 1.513-117.0           4C Digital print Eco   \n28456                        102531B -RADLAGER           M398 /// AAM Chassis   \n15124             BD 081222810-4,5X198-16MNCR5     M013 /// Cold-rolled strip   \n32427                 KERO.F-617648-WPOS-61-US  M412 /// Steel Long Prod Ind.   \n23787                5310151000 -SPANNROLLE,ST            M397 /// AAM Engine   \n...                                        ...                            ...   \n8292             IZAR-MSRW 325R-800R untreated                           IZAR   \n31437                     4000479100 -WERKZEUG           M398 /// AAM Chassis   \n5433   ET.ES SMART MANJA KWS EPD PB/V WA 20/21                         Labels   \n28738                   8250230000 -TRAGGELENK           M398 /// AAM Chassis   \n12018                 WWWjun53: Was essen wir?                Fertigerzeugnis   \n\n                      manual_match     category_raw_name product_type  \\\n3812       folding boxboard carton        pulp and paper     material   \n28456           steel, low-alloyed        steel and iron     material   \n15124           steel, low-alloyed        steel and iron     material   \n32427           steel, low-alloyed        steel and iron     material   \n23787        aluminium, cast alloy  metals (non-ferrous)     material   \n...                            ...                   ...          ...   \n8292   sugar beet seed, for sowing                 crops     material   \n31437        aluminium, cast alloy  metals (non-ferrous)     material   \n5433                 printed paper        office support     material   \n28738                    cast iron        steel and iron     material   \n12018                printed paper        office support     material   \n\n         batch        source                    group_name_2  \\\n3812   batch_2      kaercher                             NaN   \n28456  batch_1    Schefflaer      M39634 ///Wheel bearing sg   \n15124  batch_1    Schefflaer  M01300 ///BD 16MnCr5M non phos   \n32427  batch_1    Schefflaer    M38085 ///Ultrasonic testing   \n23787  batch_1    Schefflaer     M39657 ///Tim.belt tens.rol   \n...        ...           ...                             ...   \n8292   batch_3           KWS                      IZARRA KWS   \n31437  batch_1    Schefflaer           M39904 ///other parts   \n5433   batch_1           KWS                          Labels   \n28738  batch_1    Schefflaer      M39633 ///Steering asembly   \n12018  batch_1  Ravensburger            BÜCHER, NUR BUCHVERL   \n\n                   group_name_3  split  \n3812                        NaN  train  \n28456                            train  \n15124                            train  \n32427                            train  \n23787                            train  \n...                         ...    ...  \n8292                 Sugar beet   test  \n31437                             test  \n5433                        NaN   test  \n28738                             test  \n12018  Kinder- und Jugendbücher   test  \n\n[32155 rows x 11 columns]",
      "text/html": "<div>\n<style scoped>\n    .dataframe tbody tr th:only-of-type {\n        vertical-align: middle;\n    }\n\n    .dataframe tbody tr th {\n        vertical-align: top;\n    }\n\n    .dataframe thead th {\n        text-align: right;\n    }\n</style>\n<table border=\"1\" class=\"dataframe\">\n  <thead>\n    <tr style=\"text-align: right;\">\n      <th></th>\n      <th>id</th>\n      <th>name</th>\n      <th>group_name</th>\n      <th>manual_match</th>\n      <th>category_raw_name</th>\n      <th>product_type</th>\n      <th>batch</th>\n      <th>source</th>\n      <th>group_name_2</th>\n      <th>group_name_3</th>\n      <th>split</th>\n    </tr>\n  </thead>\n  <tbody>\n    <tr>\n      <th>3812</th>\n      <td>ec3d0b77-e756-4fb2-b3d5-af548fee5778</td>\n      <td>Folding carton 1.513-117.0</td>\n      <td>4C Digital print Eco</td>\n      <td>folding boxboard carton</td>\n      <td>pulp and paper</td>\n      <td>material</td>\n      <td>batch_2</td>\n      <td>kaercher</td>\n      <td>NaN</td>\n      <td>NaN</td>\n      <td>train</td>\n    </tr>\n    <tr>\n      <th>28456</th>\n      <td>804f439c-dd12-42f2-921e-60e0cd099277</td>\n      <td>102531B -RADLAGER</td>\n      <td>M398 /// AAM Chassis</td>\n      <td>steel, low-alloyed</td>\n      <td>steel and iron</td>\n      <td>material</td>\n      <td>batch_1</td>\n      <td>Schefflaer</td>\n      <td>M39634 ///Wheel bearing sg</td>\n      <td></td>\n      <td>train</td>\n    </tr>\n    <tr>\n      <th>15124</th>\n      <td>0c744957-79ef-48e1-831d-1ab39993b053</td>\n      <td>BD 081222810-4,5X198-16MNCR5</td>\n      <td>M013 /// Cold-rolled strip</td>\n      <td>steel, low-alloyed</td>\n      <td>steel and iron</td>\n      <td>material</td>\n      <td>batch_1</td>\n      <td>Schefflaer</td>\n      <td>M01300 ///BD 16MnCr5M non phos</td>\n      <td></td>\n      <td>train</td>\n    </tr>\n    <tr>\n      <th>32427</th>\n      <td>5f3fd4be-6fd1-49a5-b63e-8cb87010e0fe</td>\n      <td>KERO.F-617648-WPOS-61-US</td>\n      <td>M412 /// Steel Long Prod Ind.</td>\n      <td>steel, low-alloyed</td>\n      <td>steel and iron</td>\n      <td>material</td>\n      <td>batch_1</td>\n      <td>Schefflaer</td>\n      <td>M38085 ///Ultrasonic testing</td>\n      <td></td>\n      <td>train</td>\n    </tr>\n    <tr>\n      <th>23787</th>\n      <td>c3d195a5-00f6-49e8-aa25-20359428ba9a</td>\n      <td>5310151000 -SPANNROLLE,ST</td>\n      <td>M397 /// AAM Engine</td>\n      <td>aluminium, cast alloy</td>\n      <td>metals (non-ferrous)</td>\n      <td>material</td>\n      <td>batch_1</td>\n      <td>Schefflaer</td>\n      <td>M39657 ///Tim.belt tens.rol</td>\n      <td></td>\n      <td>train</td>\n    </tr>\n    <tr>\n      <th>...</th>\n      <td>...</td>\n      <td>...</td>\n      <td>...</td>\n      <td>...</td>\n      <td>...</td>\n      <td>...</td>\n      <td>...</td>\n      <td>...</td>\n      <td>...</td>\n      <td>...</td>\n      <td>...</td>\n    </tr>\n    <tr>\n      <th>8292</th>\n      <td>342b6537-d80b-4ea5-b426-41c2a567ee48</td>\n      <td>IZAR-MSRW 325R-800R untreated</td>\n      <td>IZAR</td>\n      <td>sugar beet seed, for sowing</td>\n      <td>crops</td>\n      <td>material</td>\n      <td>batch_3</td>\n      <td>KWS</td>\n      <td>IZARRA KWS</td>\n      <td>Sugar beet</td>\n      <td>test</td>\n    </tr>\n    <tr>\n      <th>31437</th>\n      <td>49dea7a1-497b-4b68-9b06-305d67ba5f99</td>\n      <td>4000479100 -WERKZEUG</td>\n      <td>M398 /// AAM Chassis</td>\n      <td>aluminium, cast alloy</td>\n      <td>metals (non-ferrous)</td>\n      <td>material</td>\n      <td>batch_1</td>\n      <td>Schefflaer</td>\n      <td>M39904 ///other parts</td>\n      <td></td>\n      <td>test</td>\n    </tr>\n    <tr>\n      <th>5433</th>\n      <td>6dbd085a-262d-4ee7-955c-75c11fb081c0</td>\n      <td>ET.ES SMART MANJA KWS EPD PB/V WA 20/21</td>\n      <td>Labels</td>\n      <td>printed paper</td>\n      <td>office support</td>\n      <td>material</td>\n      <td>batch_1</td>\n      <td>KWS</td>\n      <td>Labels</td>\n      <td>NaN</td>\n      <td>test</td>\n    </tr>\n    <tr>\n      <th>28738</th>\n      <td>481f56c8-1371-4b11-9e64-485598909204</td>\n      <td>8250230000 -TRAGGELENK</td>\n      <td>M398 /// AAM Chassis</td>\n      <td>cast iron</td>\n      <td>steel and iron</td>\n      <td>material</td>\n      <td>batch_1</td>\n      <td>Schefflaer</td>\n      <td>M39633 ///Steering asembly</td>\n      <td></td>\n      <td>test</td>\n    </tr>\n    <tr>\n      <th>12018</th>\n      <td>4bf003c1-4cf4-4f13-ad4b-2a5bb0a8228e</td>\n      <td>WWWjun53: Was essen wir?</td>\n      <td>Fertigerzeugnis</td>\n      <td>printed paper</td>\n      <td>office support</td>\n      <td>material</td>\n      <td>batch_1</td>\n      <td>Ravensburger</td>\n      <td>BÜCHER, NUR BUCHVERL</td>\n      <td>Kinder- und Jugendbücher</td>\n      <td>test</td>\n    </tr>\n  </tbody>\n</table>\n<p>32155 rows × 11 columns</p>\n</div>"
     },
     "execution_count": 15,
     "metadata": {},
     "output_type": "execute_result"
    }
   ],
   "source": [
    "split_data(df, \"category_raw_name\")"
   ],
   "metadata": {
    "collapsed": false,
    "pycharm": {
     "name": "#%%\n"
    }
   }
  },
  {
   "cell_type": "code",
   "execution_count": 16,
   "outputs": [
    {
     "data": {
      "text/plain": "                                      id                         name_new  \\\n0   26171854-42e0-448d-988c-20c31cbaa8a5     SPROCKET-IDLER-BS-IN-24T 205   \n1   26171854-42e0-448d-988c-20c31cbaa8a5     205 SPROCKET-IDLER-BS-IN-24T   \n2   5f403edf-462c-4c72-b99a-3eb88ffe0acf  CHANGAN H16EB CRANKSPROCKET 205   \n3   5f403edf-462c-4c72-b99a-3eb88ffe0acf  205 CHANGAN H16EB CRANKSPROCKET   \n4   15baab51-a38b-4195-9bea-501062021241            ASM - OUTPUT SHAFT MR   \n5   15baab51-a38b-4195-9bea-501062021241            MR ASM - OUTPUT SHAFT   \n6   f5600cb1-7fa1-43fa-9789-6788f2191e59              PISTON, TWO-STEP 19   \n7   f5600cb1-7fa1-43fa-9789-6788f2191e59              19 PISTON, TWO-STEP   \n8   63dc0623-a4b0-4ffc-a444-1ce95023fdd1              PISTON, TWO-STEP 79   \n9   63dc0623-a4b0-4ffc-a444-1ce95023fdd1              79 PISTON, TWO-STEP   \n10  84164304-f8cb-44f8-b045-0416ff516b58                  Screw-Joint 109   \n11  84164304-f8cb-44f8-b045-0416ff516b58                  109 Screw-Joint   \n12  b9854822-7d2c-464f-910b-eb196278d8c3                     Piston-OC 96   \n13  b9854822-7d2c-464f-910b-eb196278d8c3                     96 Piston-OC   \n\n          manual_match category_raw_name      source  \n0   steel, low-alloyed    steel and iron  Borgwarner  \n1   steel, low-alloyed    steel and iron  Borgwarner  \n2   steel, low-alloyed    steel and iron  Borgwarner  \n3   steel, low-alloyed    steel and iron  Borgwarner  \n4   steel, low-alloyed    steel and iron  Borgwarner  \n5   steel, low-alloyed    steel and iron  Borgwarner  \n6   steel, low-alloyed    steel and iron  Borgwarner  \n7   steel, low-alloyed    steel and iron  Borgwarner  \n8   steel, low-alloyed    steel and iron  Borgwarner  \n9   steel, low-alloyed    steel and iron  Borgwarner  \n10  steel, low-alloyed    steel and iron  Borgwarner  \n11  steel, low-alloyed    steel and iron  Borgwarner  \n12  steel, low-alloyed    steel and iron  Borgwarner  \n13  steel, low-alloyed    steel and iron  Borgwarner  ",
      "text/html": "<div>\n<style scoped>\n    .dataframe tbody tr th:only-of-type {\n        vertical-align: middle;\n    }\n\n    .dataframe tbody tr th {\n        vertical-align: top;\n    }\n\n    .dataframe thead th {\n        text-align: right;\n    }\n</style>\n<table border=\"1\" class=\"dataframe\">\n  <thead>\n    <tr style=\"text-align: right;\">\n      <th></th>\n      <th>id</th>\n      <th>name_new</th>\n      <th>manual_match</th>\n      <th>category_raw_name</th>\n      <th>source</th>\n    </tr>\n  </thead>\n  <tbody>\n    <tr>\n      <th>0</th>\n      <td>26171854-42e0-448d-988c-20c31cbaa8a5</td>\n      <td>SPROCKET-IDLER-BS-IN-24T 205</td>\n      <td>steel, low-alloyed</td>\n      <td>steel and iron</td>\n      <td>Borgwarner</td>\n    </tr>\n    <tr>\n      <th>1</th>\n      <td>26171854-42e0-448d-988c-20c31cbaa8a5</td>\n      <td>205 SPROCKET-IDLER-BS-IN-24T</td>\n      <td>steel, low-alloyed</td>\n      <td>steel and iron</td>\n      <td>Borgwarner</td>\n    </tr>\n    <tr>\n      <th>2</th>\n      <td>5f403edf-462c-4c72-b99a-3eb88ffe0acf</td>\n      <td>CHANGAN H16EB CRANKSPROCKET 205</td>\n      <td>steel, low-alloyed</td>\n      <td>steel and iron</td>\n      <td>Borgwarner</td>\n    </tr>\n    <tr>\n      <th>3</th>\n      <td>5f403edf-462c-4c72-b99a-3eb88ffe0acf</td>\n      <td>205 CHANGAN H16EB CRANKSPROCKET</td>\n      <td>steel, low-alloyed</td>\n      <td>steel and iron</td>\n      <td>Borgwarner</td>\n    </tr>\n    <tr>\n      <th>4</th>\n      <td>15baab51-a38b-4195-9bea-501062021241</td>\n      <td>ASM - OUTPUT SHAFT MR</td>\n      <td>steel, low-alloyed</td>\n      <td>steel and iron</td>\n      <td>Borgwarner</td>\n    </tr>\n    <tr>\n      <th>5</th>\n      <td>15baab51-a38b-4195-9bea-501062021241</td>\n      <td>MR ASM - OUTPUT SHAFT</td>\n      <td>steel, low-alloyed</td>\n      <td>steel and iron</td>\n      <td>Borgwarner</td>\n    </tr>\n    <tr>\n      <th>6</th>\n      <td>f5600cb1-7fa1-43fa-9789-6788f2191e59</td>\n      <td>PISTON, TWO-STEP 19</td>\n      <td>steel, low-alloyed</td>\n      <td>steel and iron</td>\n      <td>Borgwarner</td>\n    </tr>\n    <tr>\n      <th>7</th>\n      <td>f5600cb1-7fa1-43fa-9789-6788f2191e59</td>\n      <td>19 PISTON, TWO-STEP</td>\n      <td>steel, low-alloyed</td>\n      <td>steel and iron</td>\n      <td>Borgwarner</td>\n    </tr>\n    <tr>\n      <th>8</th>\n      <td>63dc0623-a4b0-4ffc-a444-1ce95023fdd1</td>\n      <td>PISTON, TWO-STEP 79</td>\n      <td>steel, low-alloyed</td>\n      <td>steel and iron</td>\n      <td>Borgwarner</td>\n    </tr>\n    <tr>\n      <th>9</th>\n      <td>63dc0623-a4b0-4ffc-a444-1ce95023fdd1</td>\n      <td>79 PISTON, TWO-STEP</td>\n      <td>steel, low-alloyed</td>\n      <td>steel and iron</td>\n      <td>Borgwarner</td>\n    </tr>\n    <tr>\n      <th>10</th>\n      <td>84164304-f8cb-44f8-b045-0416ff516b58</td>\n      <td>Screw-Joint 109</td>\n      <td>steel, low-alloyed</td>\n      <td>steel and iron</td>\n      <td>Borgwarner</td>\n    </tr>\n    <tr>\n      <th>11</th>\n      <td>84164304-f8cb-44f8-b045-0416ff516b58</td>\n      <td>109 Screw-Joint</td>\n      <td>steel, low-alloyed</td>\n      <td>steel and iron</td>\n      <td>Borgwarner</td>\n    </tr>\n    <tr>\n      <th>12</th>\n      <td>b9854822-7d2c-464f-910b-eb196278d8c3</td>\n      <td>Piston-OC 96</td>\n      <td>steel, low-alloyed</td>\n      <td>steel and iron</td>\n      <td>Borgwarner</td>\n    </tr>\n    <tr>\n      <th>13</th>\n      <td>b9854822-7d2c-464f-910b-eb196278d8c3</td>\n      <td>96 Piston-OC</td>\n      <td>steel, low-alloyed</td>\n      <td>steel and iron</td>\n      <td>Borgwarner</td>\n    </tr>\n  </tbody>\n</table>\n</div>"
     },
     "execution_count": 16,
     "metadata": {},
     "output_type": "execute_result"
    }
   ],
   "source": [
    "from utils import *\n",
    "concat_columns_combinations(df_name=df[:10],delimiter=\" \")"
   ],
   "metadata": {
    "collapsed": false,
    "pycharm": {
     "name": "#%%\n"
    }
   }
  },
  {
   "cell_type": "code",
   "execution_count": null,
   "outputs": [],
   "source": [],
   "metadata": {
    "collapsed": false,
    "pycharm": {
     "name": "#%%\n"
    }
   }
  }
 ],
 "metadata": {
  "kernelspec": {
   "name": "python3",
   "language": "python",
   "display_name": "Python 3 (ipykernel)"
  },
  "language_info": {
   "codemirror_mode": {
    "name": "ipython",
    "version": 2
   },
   "file_extension": ".py",
   "mimetype": "text/x-python",
   "name": "python",
   "nbconvert_exporter": "python",
   "pygments_lexer": "ipython2",
   "version": "2.7.6"
  }
 },
 "nbformat": 4,
 "nbformat_minor": 0
}