{
 "cells": [
  {
   "cell_type": "code",
   "execution_count": 8,
   "outputs": [],
   "source": [
    "from utils import *"
   ],
   "metadata": {
    "collapsed": false,
    "pycharm": {
     "name": "#%%\n"
    }
   }
  },
  {
   "cell_type": "code",
   "execution_count": 24,
   "outputs": [],
   "source": [
    "new_list = [[\"Item name\", \"Product\"], [\"xyz1234\", \"abcd2345\"]]"
   ],
   "metadata": {
    "collapsed": false,
    "pycharm": {
     "name": "#%%\n"
    }
   }
  },
  {
   "cell_type": "code",
   "execution_count": 25,
   "outputs": [],
   "source": [
    "df_new = pd.DataFrame(new_list[1:], columns=new_list[0])"
   ],
   "metadata": {
    "collapsed": false,
    "pycharm": {
     "name": "#%%\n"
    }
   }
  },
  {
   "cell_type": "code",
   "execution_count": 26,
   "outputs": [
    {
     "data": {
      "text/plain": "  Item name   Product\n0   xyz1234  abcd2345",
      "text/html": "<div>\n<style scoped>\n    .dataframe tbody tr th:only-of-type {\n        vertical-align: middle;\n    }\n\n    .dataframe tbody tr th {\n        vertical-align: top;\n    }\n\n    .dataframe thead th {\n        text-align: right;\n    }\n</style>\n<table border=\"1\" class=\"dataframe\">\n  <thead>\n    <tr style=\"text-align: right;\">\n      <th></th>\n      <th>Item name</th>\n      <th>Product</th>\n    </tr>\n  </thead>\n  <tbody>\n    <tr>\n      <th>0</th>\n      <td>xyz1234</td>\n      <td>abcd2345</td>\n    </tr>\n  </tbody>\n</table>\n</div>"
     },
     "execution_count": 26,
     "metadata": {},
     "output_type": "execute_result"
    }
   ],
   "source": [
    "df_new"
   ],
   "metadata": {
    "collapsed": false,
    "pycharm": {
     "name": "#%%\n"
    }
   }
  },
  {
   "cell_type": "code",
   "execution_count": 18,
   "outputs": [],
   "source": [
    "def read_write_append_gs(sheet_identifier: str, mode: str, data: Union[List[List[str]], pd.DataFrame], worksheet_name: str = None, use_open: bool = True) -> pd.DataFrame:\n",
    "    \"\"\"\n",
    "    Perform read, write, or append operations on a Google Sheets document and return the data as a Pandas DataFrame.\n",
    "\n",
    "    Parameters:\n",
    "    sheet_identifier (str): The name or ID of the Google Sheets document.\n",
    "    mode (str): The mode of operation to perform, which can be 'read', 'write', or 'append'.\n",
    "    data (list of lists or Pandas DataFrame): The data to write or append to the document. Should be a list of lists, where each inner list represents a row of data.\n",
    "    credentials_file_path (str): The path to the Google Sheets credentials file.\n",
    "    worksheet_name (str): The name of the worksheet to use. Optional; if not provided, the first worksheet in the document will be used.\n",
    "    use_open (bool): Whether to use the `open` method (True) or `open_by_key` method (False) to open the document. Default is True.\n",
    "\n",
    "    Returns:\n",
    "    Pandas DataFrame: The data in the Google Sheets document, returned as a Pandas DataFrame.\n",
    "    \"\"\"\n",
    "\n",
    "    # Set up the Google Sheets API credentials\n",
    "    # scope = ['https://spreadsheets.google.com/feeds', 'https://www.googleapis.com/auth/drive']\n",
    "    # credentials = ServiceAccountCredentials.from_json_keyfile_name(credentials_file_path, scope)\n",
    "    # gc = gspread.authorize(credentials)\n",
    "    gc = gspread.oauth()\n",
    "    # Open the Google Sheets document\n",
    "    try:\n",
    "        if use_open:\n",
    "            sheet = gc.open(sheet_identifier)\n",
    "        else:\n",
    "            sheet = gc.open_by_key(sheet_identifier)\n",
    "    except gspread.exceptions.SpreadsheetNotFound:\n",
    "        raise ValueError(f\"Spreadsheet '{sheet_identifier}' not found.\")\n",
    "\n",
    "    if worksheet_name:\n",
    "        # Open the specified worksheet by name\n",
    "        worksheet = sheet.worksheet(worksheet_name)\n",
    "    else:\n",
    "        # Use the first worksheet in the document if no name is specified\n",
    "        worksheet = sheet.sheet1\n",
    "\n",
    "    # Perform the specified mode of operation\n",
    "    if mode == 'read':\n",
    "        # Read the data from the document and return as a Pandas DataFrame\n",
    "        data = worksheet.get_all_values()\n",
    "        df = pd.DataFrame(data[1:], columns=data[0])\n",
    "        return df\n",
    "\n",
    "    elif mode == 'write':\n",
    "        # Write the data to the document and return as a Pandas DataFrame\n",
    "        if isinstance(data, pd.DataFrame):\n",
    "            worksheet.clear()\n",
    "            data = data.astype(str)\n",
    "            worksheet.update([data.columns.values.tolist()] + data.values.tolist())\n",
    "            return data\n",
    "        elif isinstance(data, list):\n",
    "            worksheet.clear()\n",
    "            worksheet.update(data)\n",
    "            return pd.DataFrame(data[1:], columns=data[0])\n",
    "        else:\n",
    "            raise ValueError(\"Invalid data type for 'write' mode. Data must be a Pandas DataFrame or list of lists.\")\n",
    "\n",
    "    elif mode == 'append':\n",
    "        # Append the data to the document and return the updated data as a Pandas DataFrame\n",
    "        if isinstance(data, pd.DataFrame):\n",
    "            worksheet.append_rows(data.values.tolist())\n",
    "            updated_data = worksheet.get_all_values()\n",
    "            df = pd.DataFrame(updated_data[1:], columns=updated_data[0])\n",
    "            #\n",
    "            return df\n",
    "        elif isinstance(data, list):\n",
    "            worksheet.append_rows(data)\n",
    "            updated_data = worksheet.get_all_values()\n",
    "            df = pd.DataFrame(updated_data[1:], columns=updated_data[0])\n",
    "            #\n",
    "            return df\n",
    "    # Raise an error if an invalid mode is specified\n",
    "    else:\n",
    "        raise ValueError(\"Invalid mode specified. Mode must be 'read', 'write', or 'append'.\")"
   ],
   "metadata": {
    "collapsed": false,
    "pycharm": {
     "name": "#%%\n"
    }
   }
  },
  {
   "cell_type": "code",
   "execution_count": 27,
   "outputs": [
    {
     "data": {
      "text/plain": "  Item name   Product\n0       xyz      abcd\n1       xyz      abcd\n2       xyz      abcd\n3   xyz1234  abcd2345",
      "text/html": "<div>\n<style scoped>\n    .dataframe tbody tr th:only-of-type {\n        vertical-align: middle;\n    }\n\n    .dataframe tbody tr th {\n        vertical-align: top;\n    }\n\n    .dataframe thead th {\n        text-align: right;\n    }\n</style>\n<table border=\"1\" class=\"dataframe\">\n  <thead>\n    <tr style=\"text-align: right;\">\n      <th></th>\n      <th>Item name</th>\n      <th>Product</th>\n    </tr>\n  </thead>\n  <tbody>\n    <tr>\n      <th>0</th>\n      <td>xyz</td>\n      <td>abcd</td>\n    </tr>\n    <tr>\n      <th>1</th>\n      <td>xyz</td>\n      <td>abcd</td>\n    </tr>\n    <tr>\n      <th>2</th>\n      <td>xyz</td>\n      <td>abcd</td>\n    </tr>\n    <tr>\n      <th>3</th>\n      <td>xyz1234</td>\n      <td>abcd2345</td>\n    </tr>\n  </tbody>\n</table>\n</div>"
     },
     "execution_count": 27,
     "metadata": {},
     "output_type": "execute_result"
    }
   ],
   "source": [
    "read_write_append_gs(sheet_identifier ='Alias_to_train',worksheet_name='New',mode='append',data= df_new)"
   ],
   "metadata": {
    "collapsed": false,
    "pycharm": {
     "name": "#%%\n"
    }
   }
  },
  {
   "cell_type": "code",
   "execution_count": 10,
   "outputs": [],
   "source": [],
   "metadata": {
    "collapsed": false,
    "pycharm": {
     "name": "#%%\n"
    }
   }
  }
 ],
 "metadata": {
  "kernelspec": {
   "display_name": "Python 3",
   "language": "python",
   "name": "python3"
  },
  "language_info": {
   "codemirror_mode": {
    "name": "ipython",
    "version": 2
   },
   "file_extension": ".py",
   "mimetype": "text/x-python",
   "name": "python",
   "nbconvert_exporter": "python",
   "pygments_lexer": "ipython2",
   "version": "2.7.6"
  }
 },
 "nbformat": 4,
 "nbformat_minor": 0
}