{
 "cells": [
  {
   "cell_type": "code",
   "execution_count": 1,
   "outputs": [],
   "source": [
    "from utils import *"
   ],
   "metadata": {
    "collapsed": false,
    "pycharm": {
     "name": "#%%\n"
    }
   }
  },
  {
   "cell_type": "code",
   "execution_count": 23,
   "outputs": [],
   "source": [
    "df = get_spreadsheet_data(\"1rRtLD56MpNPfSThJmzaD0e7yfrUdXMVoDwXU__qYcUM\")"
   ],
   "metadata": {
    "collapsed": false,
    "pycharm": {
     "name": "#%%\n"
    }
   }
  },
  {
   "cell_type": "code",
   "execution_count": 24,
   "outputs": [],
   "source": [
    "from sklearn.model_selection import train_test_split\n",
    "\n",
    "def split_data(data, label_column, test_size=0.2, eval_size=0.1, random_state=42):\n",
    "    \"\"\"\n",
    "    Split data into train, test, and eval sets using stratified sampling.\n",
    "\n",
    "    Args:\n",
    "        data (pd.DataFrame): The data to split.\n",
    "        label_column (str): The name of the column containing the labels.\n",
    "        test_size (float): The proportion of the data to use for testing.\n",
    "        eval_size (float): The proportion of the data to use for evaluation.\n",
    "        random_state (int): The random seed to use for the train-test split.\n",
    "\n",
    "    Returns:\n",
    "        pd.DataFrame: The data with an additional column \"split\" containing \"train\", \"test\", or \"eval\" for each row.\n",
    "    \"\"\"\n",
    "\n",
    "    # Split the data into train and test sets, stratifying on the label column\n",
    "    train_data, test_data, train_labels, test_labels = train_test_split(\n",
    "        data.drop(columns=[label_column]), data[label_column], test_size=test_size, stratify=data[label_column], random_state=random_state\n",
    "    )\n",
    "\n",
    "    # Split the remaining data into eval and test sets, stratifying on the label column\n",
    "    eval_data, test_data, eval_labels, test_labels = train_test_split(\n",
    "        test_data.drop(columns=[label_column]), test_labels, test_size=eval_size / (1 - test_size), stratify=test_labels, random_state=random_state\n",
    "    )\n",
    "\n",
    "    # Add a \"split\" column to each set\n",
    "    train_data[\"split\"] = \"train\"\n",
    "    test_data[\"split\"] = \"test\"\n",
    "    eval_data[\"split\"] = \"eval\"\n",
    "\n",
    "    # Combine the sets back into a single dataframe\n",
    "    split_data = pd.concat([train_data, test_data, eval_data], axis=0)\n",
    "\n",
    "    return split_data"
   ],
   "metadata": {
    "collapsed": false,
    "pycharm": {
     "name": "#%%\n"
    }
   }
  },
  {
   "cell_type": "code",
   "execution_count": 25,
   "outputs": [
    {
     "data": {
      "text/plain": "Index(['id', 'name', 'group_name', 'manual_match', 'category_raw_name',\n       'product_type', 'batch', 'source', 'group_name_2', 'group_name_3'],\n      dtype='object')"
     },
     "execution_count": 25,
     "metadata": {},
     "output_type": "execute_result"
    }
   ],
   "source": [
    "df.columns"
   ],
   "metadata": {
    "collapsed": false,
    "pycharm": {
     "name": "#%%\n"
    }
   }
  },
  {
   "cell_type": "code",
   "execution_count": 26,
   "outputs": [
    {
     "ename": "KeyError",
     "evalue": "\"['category_raw_name'] not found in axis\"",
     "output_type": "error",
     "traceback": [
      "\u001B[0;31m---------------------------------------------------------------------------\u001B[0m",
      "\u001B[0;31mKeyError\u001B[0m                                  Traceback (most recent call last)",
      "Input \u001B[0;32mIn [26]\u001B[0m, in \u001B[0;36m<module>\u001B[0;34m\u001B[0m\n\u001B[0;32m----> 1\u001B[0m train_df \u001B[38;5;241m=\u001B[39m \u001B[43msplit_data\u001B[49m\u001B[43m(\u001B[49m\u001B[43mdf\u001B[49m\u001B[43m,\u001B[49m\u001B[43m \u001B[49m\u001B[38;5;124;43m\"\u001B[39;49m\u001B[38;5;124;43mcategory_raw_name\u001B[39;49m\u001B[38;5;124;43m\"\u001B[39;49m\u001B[43m)\u001B[49m\n",
      "Input \u001B[0;32mIn [24]\u001B[0m, in \u001B[0;36msplit_data\u001B[0;34m(data, label_column, test_size, eval_size, random_state)\u001B[0m\n\u001B[1;32m     19\u001B[0m train_data, test_data, train_labels, test_labels \u001B[38;5;241m=\u001B[39m train_test_split(\n\u001B[1;32m     20\u001B[0m     data\u001B[38;5;241m.\u001B[39mdrop(columns\u001B[38;5;241m=\u001B[39m[label_column]), data[label_column], test_size\u001B[38;5;241m=\u001B[39mtest_size, stratify\u001B[38;5;241m=\u001B[39mdata[label_column], random_state\u001B[38;5;241m=\u001B[39mrandom_state\n\u001B[1;32m     21\u001B[0m )\n\u001B[1;32m     23\u001B[0m \u001B[38;5;66;03m# Split the remaining data into eval and test sets, stratifying on the label column\u001B[39;00m\n\u001B[1;32m     24\u001B[0m eval_data, test_data, eval_labels, test_labels \u001B[38;5;241m=\u001B[39m train_test_split(\n\u001B[0;32m---> 25\u001B[0m     \u001B[43mtest_data\u001B[49m\u001B[38;5;241;43m.\u001B[39;49m\u001B[43mdrop\u001B[49m\u001B[43m(\u001B[49m\u001B[43mcolumns\u001B[49m\u001B[38;5;241;43m=\u001B[39;49m\u001B[43m[\u001B[49m\u001B[43mlabel_column\u001B[49m\u001B[43m]\u001B[49m\u001B[43m)\u001B[49m, test_labels, test_size\u001B[38;5;241m=\u001B[39meval_size \u001B[38;5;241m/\u001B[39m (\u001B[38;5;241m1\u001B[39m \u001B[38;5;241m-\u001B[39m test_size), stratify\u001B[38;5;241m=\u001B[39mtest_labels, random_state\u001B[38;5;241m=\u001B[39mrandom_state\n\u001B[1;32m     26\u001B[0m )\n\u001B[1;32m     28\u001B[0m \u001B[38;5;66;03m# Add a \"split\" column to each set\u001B[39;00m\n\u001B[1;32m     29\u001B[0m train_data[\u001B[38;5;124m\"\u001B[39m\u001B[38;5;124msplit\u001B[39m\u001B[38;5;124m\"\u001B[39m] \u001B[38;5;241m=\u001B[39m \u001B[38;5;124m\"\u001B[39m\u001B[38;5;124mtrain\u001B[39m\u001B[38;5;124m\"\u001B[39m\n",
      "File \u001B[0;32m/usr/local/lib/python3.9/site-packages/pandas/util/_decorators.py:311\u001B[0m, in \u001B[0;36mdeprecate_nonkeyword_arguments.<locals>.decorate.<locals>.wrapper\u001B[0;34m(*args, **kwargs)\u001B[0m\n\u001B[1;32m    305\u001B[0m \u001B[38;5;28;01mif\u001B[39;00m \u001B[38;5;28mlen\u001B[39m(args) \u001B[38;5;241m>\u001B[39m num_allow_args:\n\u001B[1;32m    306\u001B[0m     warnings\u001B[38;5;241m.\u001B[39mwarn(\n\u001B[1;32m    307\u001B[0m         msg\u001B[38;5;241m.\u001B[39mformat(arguments\u001B[38;5;241m=\u001B[39marguments),\n\u001B[1;32m    308\u001B[0m         \u001B[38;5;167;01mFutureWarning\u001B[39;00m,\n\u001B[1;32m    309\u001B[0m         stacklevel\u001B[38;5;241m=\u001B[39mstacklevel,\n\u001B[1;32m    310\u001B[0m     )\n\u001B[0;32m--> 311\u001B[0m \u001B[38;5;28;01mreturn\u001B[39;00m \u001B[43mfunc\u001B[49m\u001B[43m(\u001B[49m\u001B[38;5;241;43m*\u001B[39;49m\u001B[43margs\u001B[49m\u001B[43m,\u001B[49m\u001B[43m \u001B[49m\u001B[38;5;241;43m*\u001B[39;49m\u001B[38;5;241;43m*\u001B[39;49m\u001B[43mkwargs\u001B[49m\u001B[43m)\u001B[49m\n",
      "File \u001B[0;32m/usr/local/lib/python3.9/site-packages/pandas/core/frame.py:4954\u001B[0m, in \u001B[0;36mDataFrame.drop\u001B[0;34m(self, labels, axis, index, columns, level, inplace, errors)\u001B[0m\n\u001B[1;32m   4806\u001B[0m \u001B[38;5;129m@deprecate_nonkeyword_arguments\u001B[39m(version\u001B[38;5;241m=\u001B[39m\u001B[38;5;28;01mNone\u001B[39;00m, allowed_args\u001B[38;5;241m=\u001B[39m[\u001B[38;5;124m\"\u001B[39m\u001B[38;5;124mself\u001B[39m\u001B[38;5;124m\"\u001B[39m, \u001B[38;5;124m\"\u001B[39m\u001B[38;5;124mlabels\u001B[39m\u001B[38;5;124m\"\u001B[39m])\n\u001B[1;32m   4807\u001B[0m \u001B[38;5;28;01mdef\u001B[39;00m \u001B[38;5;21mdrop\u001B[39m(\n\u001B[1;32m   4808\u001B[0m     \u001B[38;5;28mself\u001B[39m,\n\u001B[0;32m   (...)\u001B[0m\n\u001B[1;32m   4815\u001B[0m     errors: \u001B[38;5;28mstr\u001B[39m \u001B[38;5;241m=\u001B[39m \u001B[38;5;124m\"\u001B[39m\u001B[38;5;124mraise\u001B[39m\u001B[38;5;124m\"\u001B[39m,\n\u001B[1;32m   4816\u001B[0m ):\n\u001B[1;32m   4817\u001B[0m     \u001B[38;5;124;03m\"\"\"\u001B[39;00m\n\u001B[1;32m   4818\u001B[0m \u001B[38;5;124;03m    Drop specified labels from rows or columns.\u001B[39;00m\n\u001B[1;32m   4819\u001B[0m \n\u001B[0;32m   (...)\u001B[0m\n\u001B[1;32m   4952\u001B[0m \u001B[38;5;124;03m            weight  1.0     0.8\u001B[39;00m\n\u001B[1;32m   4953\u001B[0m \u001B[38;5;124;03m    \"\"\"\u001B[39;00m\n\u001B[0;32m-> 4954\u001B[0m     \u001B[38;5;28;01mreturn\u001B[39;00m \u001B[38;5;28;43msuper\u001B[39;49m\u001B[43m(\u001B[49m\u001B[43m)\u001B[49m\u001B[38;5;241;43m.\u001B[39;49m\u001B[43mdrop\u001B[49m\u001B[43m(\u001B[49m\n\u001B[1;32m   4955\u001B[0m \u001B[43m        \u001B[49m\u001B[43mlabels\u001B[49m\u001B[38;5;241;43m=\u001B[39;49m\u001B[43mlabels\u001B[49m\u001B[43m,\u001B[49m\n\u001B[1;32m   4956\u001B[0m \u001B[43m        \u001B[49m\u001B[43maxis\u001B[49m\u001B[38;5;241;43m=\u001B[39;49m\u001B[43maxis\u001B[49m\u001B[43m,\u001B[49m\n\u001B[1;32m   4957\u001B[0m \u001B[43m        \u001B[49m\u001B[43mindex\u001B[49m\u001B[38;5;241;43m=\u001B[39;49m\u001B[43mindex\u001B[49m\u001B[43m,\u001B[49m\n\u001B[1;32m   4958\u001B[0m \u001B[43m        \u001B[49m\u001B[43mcolumns\u001B[49m\u001B[38;5;241;43m=\u001B[39;49m\u001B[43mcolumns\u001B[49m\u001B[43m,\u001B[49m\n\u001B[1;32m   4959\u001B[0m \u001B[43m        \u001B[49m\u001B[43mlevel\u001B[49m\u001B[38;5;241;43m=\u001B[39;49m\u001B[43mlevel\u001B[49m\u001B[43m,\u001B[49m\n\u001B[1;32m   4960\u001B[0m \u001B[43m        \u001B[49m\u001B[43minplace\u001B[49m\u001B[38;5;241;43m=\u001B[39;49m\u001B[43minplace\u001B[49m\u001B[43m,\u001B[49m\n\u001B[1;32m   4961\u001B[0m \u001B[43m        \u001B[49m\u001B[43merrors\u001B[49m\u001B[38;5;241;43m=\u001B[39;49m\u001B[43merrors\u001B[49m\u001B[43m,\u001B[49m\n\u001B[1;32m   4962\u001B[0m \u001B[43m    \u001B[49m\u001B[43m)\u001B[49m\n",
      "File \u001B[0;32m/usr/local/lib/python3.9/site-packages/pandas/core/generic.py:4267\u001B[0m, in \u001B[0;36mNDFrame.drop\u001B[0;34m(self, labels, axis, index, columns, level, inplace, errors)\u001B[0m\n\u001B[1;32m   4265\u001B[0m \u001B[38;5;28;01mfor\u001B[39;00m axis, labels \u001B[38;5;129;01min\u001B[39;00m axes\u001B[38;5;241m.\u001B[39mitems():\n\u001B[1;32m   4266\u001B[0m     \u001B[38;5;28;01mif\u001B[39;00m labels \u001B[38;5;129;01mis\u001B[39;00m \u001B[38;5;129;01mnot\u001B[39;00m \u001B[38;5;28;01mNone\u001B[39;00m:\n\u001B[0;32m-> 4267\u001B[0m         obj \u001B[38;5;241m=\u001B[39m \u001B[43mobj\u001B[49m\u001B[38;5;241;43m.\u001B[39;49m\u001B[43m_drop_axis\u001B[49m\u001B[43m(\u001B[49m\u001B[43mlabels\u001B[49m\u001B[43m,\u001B[49m\u001B[43m \u001B[49m\u001B[43maxis\u001B[49m\u001B[43m,\u001B[49m\u001B[43m \u001B[49m\u001B[43mlevel\u001B[49m\u001B[38;5;241;43m=\u001B[39;49m\u001B[43mlevel\u001B[49m\u001B[43m,\u001B[49m\u001B[43m \u001B[49m\u001B[43merrors\u001B[49m\u001B[38;5;241;43m=\u001B[39;49m\u001B[43merrors\u001B[49m\u001B[43m)\u001B[49m\n\u001B[1;32m   4269\u001B[0m \u001B[38;5;28;01mif\u001B[39;00m inplace:\n\u001B[1;32m   4270\u001B[0m     \u001B[38;5;28mself\u001B[39m\u001B[38;5;241m.\u001B[39m_update_inplace(obj)\n",
      "File \u001B[0;32m/usr/local/lib/python3.9/site-packages/pandas/core/generic.py:4311\u001B[0m, in \u001B[0;36mNDFrame._drop_axis\u001B[0;34m(self, labels, axis, level, errors, consolidate, only_slice)\u001B[0m\n\u001B[1;32m   4309\u001B[0m         new_axis \u001B[38;5;241m=\u001B[39m axis\u001B[38;5;241m.\u001B[39mdrop(labels, level\u001B[38;5;241m=\u001B[39mlevel, errors\u001B[38;5;241m=\u001B[39merrors)\n\u001B[1;32m   4310\u001B[0m     \u001B[38;5;28;01melse\u001B[39;00m:\n\u001B[0;32m-> 4311\u001B[0m         new_axis \u001B[38;5;241m=\u001B[39m \u001B[43maxis\u001B[49m\u001B[38;5;241;43m.\u001B[39;49m\u001B[43mdrop\u001B[49m\u001B[43m(\u001B[49m\u001B[43mlabels\u001B[49m\u001B[43m,\u001B[49m\u001B[43m \u001B[49m\u001B[43merrors\u001B[49m\u001B[38;5;241;43m=\u001B[39;49m\u001B[43merrors\u001B[49m\u001B[43m)\u001B[49m\n\u001B[1;32m   4312\u001B[0m     indexer \u001B[38;5;241m=\u001B[39m axis\u001B[38;5;241m.\u001B[39mget_indexer(new_axis)\n\u001B[1;32m   4314\u001B[0m \u001B[38;5;66;03m# Case for non-unique axis\u001B[39;00m\n\u001B[1;32m   4315\u001B[0m \u001B[38;5;28;01melse\u001B[39;00m:\n",
      "File \u001B[0;32m/usr/local/lib/python3.9/site-packages/pandas/core/indexes/base.py:6644\u001B[0m, in \u001B[0;36mIndex.drop\u001B[0;34m(self, labels, errors)\u001B[0m\n\u001B[1;32m   6642\u001B[0m \u001B[38;5;28;01mif\u001B[39;00m mask\u001B[38;5;241m.\u001B[39many():\n\u001B[1;32m   6643\u001B[0m     \u001B[38;5;28;01mif\u001B[39;00m errors \u001B[38;5;241m!=\u001B[39m \u001B[38;5;124m\"\u001B[39m\u001B[38;5;124mignore\u001B[39m\u001B[38;5;124m\"\u001B[39m:\n\u001B[0;32m-> 6644\u001B[0m         \u001B[38;5;28;01mraise\u001B[39;00m \u001B[38;5;167;01mKeyError\u001B[39;00m(\u001B[38;5;124mf\u001B[39m\u001B[38;5;124m\"\u001B[39m\u001B[38;5;132;01m{\u001B[39;00m\u001B[38;5;28mlist\u001B[39m(labels[mask])\u001B[38;5;132;01m}\u001B[39;00m\u001B[38;5;124m not found in axis\u001B[39m\u001B[38;5;124m\"\u001B[39m)\n\u001B[1;32m   6645\u001B[0m     indexer \u001B[38;5;241m=\u001B[39m indexer[\u001B[38;5;241m~\u001B[39mmask]\n\u001B[1;32m   6646\u001B[0m \u001B[38;5;28;01mreturn\u001B[39;00m \u001B[38;5;28mself\u001B[39m\u001B[38;5;241m.\u001B[39mdelete(indexer)\n",
      "\u001B[0;31mKeyError\u001B[0m: \"['category_raw_name'] not found in axis\""
     ]
    }
   ],
   "source": [
    "train_df = split_data(df, \"category_raw_name\")"
   ],
   "metadata": {
    "collapsed": false,
    "pycharm": {
     "name": "#%%\n"
    }
   }
  },
  {
   "cell_type": "code",
   "execution_count": 15,
   "outputs": [
    {
     "data": {
      "text/plain": "['steel and iron',\n 'metals (non-ferrous)',\n 'machinery',\n 'chemicals',\n 'mineral products',\n 'petroleum and natural gas products',\n 'electrical equipment',\n 'plastics and polymers',\n 'building materials',\n 'paints and inks',\n 'crops',\n 'foodstuffs',\n 'feed',\n 'packaging',\n 'pulp and paper',\n 'wood products',\n 'fertiliser',\n 'fuels from biomass',\n 'engines and turbines',\n 'office support',\n 'textiles',\n 'glass',\n 'peat',\n 'detergents',\n 'waste management',\n 'furniture',\n 'water',\n 'oils and fats',\n 'ores']"
     },
     "execution_count": 15,
     "metadata": {},
     "output_type": "execute_result"
    }
   ],
   "source": [
    "df[\"category_raw_name\"].unique().tolist()"
   ],
   "metadata": {
    "collapsed": false,
    "pycharm": {
     "name": "#%%\n"
    }
   }
  },
  {
   "cell_type": "code",
   "execution_count": 7,
   "outputs": [
    {
     "data": {
      "text/plain": "Empty DataFrame\nColumns: [id, name, group_name, manual_match, category_raw_name, product_type, batch, source, group_name_2, group_name_3]\nIndex: []",
      "text/html": "<div>\n<style scoped>\n    .dataframe tbody tr th:only-of-type {\n        vertical-align: middle;\n    }\n\n    .dataframe tbody tr th {\n        vertical-align: top;\n    }\n\n    .dataframe thead th {\n        text-align: right;\n    }\n</style>\n<table border=\"1\" class=\"dataframe\">\n  <thead>\n    <tr style=\"text-align: right;\">\n      <th></th>\n      <th>id</th>\n      <th>name</th>\n      <th>group_name</th>\n      <th>manual_match</th>\n      <th>category_raw_name</th>\n      <th>product_type</th>\n      <th>batch</th>\n      <th>source</th>\n      <th>group_name_2</th>\n      <th>group_name_3</th>\n    </tr>\n  </thead>\n  <tbody>\n  </tbody>\n</table>\n</div>"
     },
     "execution_count": 7,
     "metadata": {},
     "output_type": "execute_result"
    }
   ],
   "source": [
    "df[(df.category_raw_name ==' ') & (df.category_raw_name == 'nan')]"
   ],
   "metadata": {
    "collapsed": false,
    "pycharm": {
     "name": "#%%\n"
    }
   }
  },
  {
   "cell_type": "code",
   "execution_count": 27,
   "outputs": [
    {
     "data": {
      "text/plain": "                     category_raw_name  counts\n0                   building materials      50\n1                            chemicals     262\n2                                crops    3261\n3                           detergents      39\n4                 electrical equipment     312\n5                 engines and turbines      27\n6                                 feed      89\n7                           fertiliser     103\n8                           foodstuffs     106\n9                   fuels from biomass      21\n10                           furniture      64\n11                               glass       4\n12                           machinery    1151\n13                metals (non-ferrous)    1964\n14                    mineral products      13\n15                      office support    3975\n16                       oils and fats       4\n17                           packaging    1065\n18                     paints and inks      10\n19                                peat       6\n20  petroleum and natural gas products      10\n21               plastics and polymers    2370\n22                      pulp and paper     810\n23                      steel and iron   21955\n24                            textiles      54\n25                    waste management      16\n26                               water       7\n27                       wood products      82",
      "text/html": "<div>\n<style scoped>\n    .dataframe tbody tr th:only-of-type {\n        vertical-align: middle;\n    }\n\n    .dataframe tbody tr th {\n        vertical-align: top;\n    }\n\n    .dataframe thead th {\n        text-align: right;\n    }\n</style>\n<table border=\"1\" class=\"dataframe\">\n  <thead>\n    <tr style=\"text-align: right;\">\n      <th></th>\n      <th>category_raw_name</th>\n      <th>counts</th>\n    </tr>\n  </thead>\n  <tbody>\n    <tr>\n      <th>0</th>\n      <td>building materials</td>\n      <td>50</td>\n    </tr>\n    <tr>\n      <th>1</th>\n      <td>chemicals</td>\n      <td>262</td>\n    </tr>\n    <tr>\n      <th>2</th>\n      <td>crops</td>\n      <td>3261</td>\n    </tr>\n    <tr>\n      <th>3</th>\n      <td>detergents</td>\n      <td>39</td>\n    </tr>\n    <tr>\n      <th>4</th>\n      <td>electrical equipment</td>\n      <td>312</td>\n    </tr>\n    <tr>\n      <th>5</th>\n      <td>engines and turbines</td>\n      <td>27</td>\n    </tr>\n    <tr>\n      <th>6</th>\n      <td>feed</td>\n      <td>89</td>\n    </tr>\n    <tr>\n      <th>7</th>\n      <td>fertiliser</td>\n      <td>103</td>\n    </tr>\n    <tr>\n      <th>8</th>\n      <td>foodstuffs</td>\n      <td>106</td>\n    </tr>\n    <tr>\n      <th>9</th>\n      <td>fuels from biomass</td>\n      <td>21</td>\n    </tr>\n    <tr>\n      <th>10</th>\n      <td>furniture</td>\n      <td>64</td>\n    </tr>\n    <tr>\n      <th>11</th>\n      <td>glass</td>\n      <td>4</td>\n    </tr>\n    <tr>\n      <th>12</th>\n      <td>machinery</td>\n      <td>1151</td>\n    </tr>\n    <tr>\n      <th>13</th>\n      <td>metals (non-ferrous)</td>\n      <td>1964</td>\n    </tr>\n    <tr>\n      <th>14</th>\n      <td>mineral products</td>\n      <td>13</td>\n    </tr>\n    <tr>\n      <th>15</th>\n      <td>office support</td>\n      <td>3975</td>\n    </tr>\n    <tr>\n      <th>16</th>\n      <td>oils and fats</td>\n      <td>4</td>\n    </tr>\n    <tr>\n      <th>17</th>\n      <td>packaging</td>\n      <td>1065</td>\n    </tr>\n    <tr>\n      <th>18</th>\n      <td>paints and inks</td>\n      <td>10</td>\n    </tr>\n    <tr>\n      <th>19</th>\n      <td>peat</td>\n      <td>6</td>\n    </tr>\n    <tr>\n      <th>20</th>\n      <td>petroleum and natural gas products</td>\n      <td>10</td>\n    </tr>\n    <tr>\n      <th>21</th>\n      <td>plastics and polymers</td>\n      <td>2370</td>\n    </tr>\n    <tr>\n      <th>22</th>\n      <td>pulp and paper</td>\n      <td>810</td>\n    </tr>\n    <tr>\n      <th>23</th>\n      <td>steel and iron</td>\n      <td>21955</td>\n    </tr>\n    <tr>\n      <th>24</th>\n      <td>textiles</td>\n      <td>54</td>\n    </tr>\n    <tr>\n      <th>25</th>\n      <td>waste management</td>\n      <td>16</td>\n    </tr>\n    <tr>\n      <th>26</th>\n      <td>water</td>\n      <td>7</td>\n    </tr>\n    <tr>\n      <th>27</th>\n      <td>wood products</td>\n      <td>82</td>\n    </tr>\n  </tbody>\n</table>\n</div>"
     },
     "execution_count": 27,
     "metadata": {},
     "output_type": "execute_result"
    }
   ],
   "source": [
    "df.groupby(['category_raw_name']).size().reset_index(name='counts')"
   ],
   "metadata": {
    "collapsed": false,
    "pycharm": {
     "name": "#%%\n"
    }
   }
  },
  {
   "cell_type": "code",
   "execution_count": 21,
   "outputs": [
    {
     "ename": "TypeError",
     "evalue": "unhashable type: 'Series'",
     "output_type": "error",
     "traceback": [
      "\u001B[0;31m---------------------------------------------------------------------------\u001B[0m",
      "\u001B[0;31mTypeError\u001B[0m                                 Traceback (most recent call last)",
      "Input \u001B[0;32mIn [21]\u001B[0m, in \u001B[0;36m<module>\u001B[0;34m\u001B[0m\n\u001B[0;32m----> 1\u001B[0m \u001B[43mdf\u001B[49m\u001B[38;5;241;43m.\u001B[39;49m\u001B[43miloc\u001B[49m\u001B[43m(\u001B[49m\u001B[43mdf\u001B[49m\u001B[43m[\u001B[49m\u001B[38;5;124;43m'\u001B[39;49m\u001B[38;5;124;43mcategory_raw_name\u001B[39;49m\u001B[38;5;124;43m'\u001B[39;49m\u001B[43m]\u001B[49m\u001B[38;5;241;43m==\u001B[39;49m\u001B[38;5;124;43m\"\u001B[39;49m\u001B[38;5;124;43mores\u001B[39;49m\u001B[38;5;124;43m\"\u001B[39;49m\u001B[43m)\u001B[49m\n",
      "File \u001B[0;32m/usr/local/lib/python3.9/site-packages/pandas/core/indexing.py:634\u001B[0m, in \u001B[0;36m_LocationIndexer.__call__\u001B[0;34m(self, axis)\u001B[0m\n\u001B[1;32m    631\u001B[0m new_self \u001B[38;5;241m=\u001B[39m \u001B[38;5;28mtype\u001B[39m(\u001B[38;5;28mself\u001B[39m)(\u001B[38;5;28mself\u001B[39m\u001B[38;5;241m.\u001B[39mname, \u001B[38;5;28mself\u001B[39m\u001B[38;5;241m.\u001B[39mobj)\n\u001B[1;32m    633\u001B[0m \u001B[38;5;28;01mif\u001B[39;00m axis \u001B[38;5;129;01mis\u001B[39;00m \u001B[38;5;129;01mnot\u001B[39;00m \u001B[38;5;28;01mNone\u001B[39;00m:\n\u001B[0;32m--> 634\u001B[0m     axis \u001B[38;5;241m=\u001B[39m \u001B[38;5;28;43mself\u001B[39;49m\u001B[38;5;241;43m.\u001B[39;49m\u001B[43mobj\u001B[49m\u001B[38;5;241;43m.\u001B[39;49m\u001B[43m_get_axis_number\u001B[49m\u001B[43m(\u001B[49m\u001B[43maxis\u001B[49m\u001B[43m)\u001B[49m\n\u001B[1;32m    635\u001B[0m new_self\u001B[38;5;241m.\u001B[39maxis \u001B[38;5;241m=\u001B[39m axis\n\u001B[1;32m    636\u001B[0m \u001B[38;5;28;01mreturn\u001B[39;00m new_self\n",
      "File \u001B[0;32m/usr/local/lib/python3.9/site-packages/pandas/core/generic.py:550\u001B[0m, in \u001B[0;36mNDFrame._get_axis_number\u001B[0;34m(cls, axis)\u001B[0m\n\u001B[1;32m    546\u001B[0m \u001B[38;5;129m@final\u001B[39m\n\u001B[1;32m    547\u001B[0m \u001B[38;5;129m@classmethod\u001B[39m\n\u001B[1;32m    548\u001B[0m \u001B[38;5;28;01mdef\u001B[39;00m \u001B[38;5;21m_get_axis_number\u001B[39m(\u001B[38;5;28mcls\u001B[39m, axis: Axis) \u001B[38;5;241m-\u001B[39m\u001B[38;5;241m>\u001B[39m \u001B[38;5;28mint\u001B[39m:\n\u001B[1;32m    549\u001B[0m     \u001B[38;5;28;01mtry\u001B[39;00m:\n\u001B[0;32m--> 550\u001B[0m         \u001B[38;5;28;01mreturn\u001B[39;00m \u001B[38;5;28;43mcls\u001B[39;49m\u001B[38;5;241;43m.\u001B[39;49m\u001B[43m_AXIS_TO_AXIS_NUMBER\u001B[49m\u001B[43m[\u001B[49m\u001B[43maxis\u001B[49m\u001B[43m]\u001B[49m\n\u001B[1;32m    551\u001B[0m     \u001B[38;5;28;01mexcept\u001B[39;00m \u001B[38;5;167;01mKeyError\u001B[39;00m:\n\u001B[1;32m    552\u001B[0m         \u001B[38;5;28;01mraise\u001B[39;00m \u001B[38;5;167;01mValueError\u001B[39;00m(\u001B[38;5;124mf\u001B[39m\u001B[38;5;124m\"\u001B[39m\u001B[38;5;124mNo axis named \u001B[39m\u001B[38;5;132;01m{\u001B[39;00maxis\u001B[38;5;132;01m}\u001B[39;00m\u001B[38;5;124m for object type \u001B[39m\u001B[38;5;132;01m{\u001B[39;00m\u001B[38;5;28mcls\u001B[39m\u001B[38;5;241m.\u001B[39m\u001B[38;5;18m__name__\u001B[39m\u001B[38;5;132;01m}\u001B[39;00m\u001B[38;5;124m\"\u001B[39m)\n",
      "\u001B[0;31mTypeError\u001B[0m: unhashable type: 'Series'"
     ]
    }
   ],
   "source": [
    "df.iloc(df['category_raw_name']==\"ores\")\n"
   ],
   "metadata": {
    "collapsed": false,
    "pycharm": {
     "name": "#%%\n"
    }
   }
  },
  {
   "cell_type": "code",
   "execution_count": 22,
   "outputs": [
    {
     "data": {
      "text/plain": "      id                name                group_name manual_match  \\\n34331     PROPORTIONALMAGNET  29 Engineered Components    magnetite   \n\n      category_raw_name product_type    batch source group_name_2 group_name_3  \n34331              ores     material  batch_1  Magna                       NaN  ",
      "text/html": "<div>\n<style scoped>\n    .dataframe tbody tr th:only-of-type {\n        vertical-align: middle;\n    }\n\n    .dataframe tbody tr th {\n        vertical-align: top;\n    }\n\n    .dataframe thead th {\n        text-align: right;\n    }\n</style>\n<table border=\"1\" class=\"dataframe\">\n  <thead>\n    <tr style=\"text-align: right;\">\n      <th></th>\n      <th>id</th>\n      <th>name</th>\n      <th>group_name</th>\n      <th>manual_match</th>\n      <th>category_raw_name</th>\n      <th>product_type</th>\n      <th>batch</th>\n      <th>source</th>\n      <th>group_name_2</th>\n      <th>group_name_3</th>\n    </tr>\n  </thead>\n  <tbody>\n    <tr>\n      <th>34331</th>\n      <td></td>\n      <td>PROPORTIONALMAGNET</td>\n      <td>29 Engineered Components</td>\n      <td>magnetite</td>\n      <td>ores</td>\n      <td>material</td>\n      <td>batch_1</td>\n      <td>Magna</td>\n      <td></td>\n      <td>NaN</td>\n    </tr>\n  </tbody>\n</table>\n</div>"
     },
     "execution_count": 22,
     "metadata": {},
     "output_type": "execute_result"
    }
   ],
   "source": [
    "df[df['category_raw_name']==\"ores\"]"
   ],
   "metadata": {
    "collapsed": false,
    "pycharm": {
     "name": "#%%\n"
    }
   }
  },
  {
   "cell_type": "code",
   "execution_count": null,
   "outputs": [],
   "source": [],
   "metadata": {
    "collapsed": false,
    "pycharm": {
     "name": "#%%\n"
    }
   }
  }
 ],
 "metadata": {
  "kernelspec": {
   "display_name": "Python 3",
   "language": "python",
   "name": "python3"
  },
  "language_info": {
   "codemirror_mode": {
    "name": "ipython",
    "version": 2
   },
   "file_extension": ".py",
   "mimetype": "text/x-python",
   "name": "python",
   "nbconvert_exporter": "python",
   "pygments_lexer": "ipython2",
   "version": "2.7.6"
  }
 },
 "nbformat": 4,
 "nbformat_minor": 0
}