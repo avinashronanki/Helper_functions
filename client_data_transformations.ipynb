{
 "cells": [
  {
   "cell_type": "code",
   "execution_count": 62,
   "outputs": [],
   "source": [
    "from utils import *"
   ],
   "metadata": {
    "collapsed": false,
    "pycharm": {
     "name": "#%%\n"
    }
   }
  },
  {
   "cell_type": "code",
   "execution_count": 63,
   "outputs": [],
   "source": [
    "df_eco = read_write_append_gs(sheet_identifier='Ecoinvent_3.8',worksheet_name= \"ECO\", mode='read', data=None )"
   ],
   "metadata": {
    "collapsed": false,
    "pycharm": {
     "name": "#%%\n"
    }
   }
  },
  {
   "cell_type": "code",
   "execution_count": 64,
   "outputs": [
    {
     "data": {
      "text/plain": "                                product_id          product_raw_name  \\\n0     47345427-34e1-11ec-ba41-b0fc3626dcfb   [sulfonyl]urea-compound   \n1     47345428-34e1-11ec-ba41-b0fc3626dcfb  [thio]carbamate-compound   \n2     473453fc-34e1-11ec-ba41-b0fc3626dcfb                 1-butanol   \n3     473453fd-34e1-11ec-ba41-b0fc3626dcfb                1-pentanol   \n4     473453fe-34e1-11ec-ba41-b0fc3626dcfb                1-propanol   \n...                                    ...                       ...   \n2255  4738d443-34e1-11ec-ba41-b0fc3626dcfb                zinc oxide   \n2256  4738d446-34e1-11ec-ba41-b0fc3626dcfb              zinc sulfide   \n2257  4738d447-34e1-11ec-ba41-b0fc3626dcfb     zircon, 50% zirconium   \n2258  4738d448-34e1-11ec-ba41-b0fc3626dcfb           zirconium oxide   \n2259  4738d449-34e1-11ec-ba41-b0fc3626dcfb                  zucchini   \n\n     category_raw_name product_type product_is_valid_match       UOM  \\\n0            chemicals     material                   true  kilogram   \n1            chemicals     material                   true  kilogram   \n2            chemicals     material                   true  kilogram   \n3            chemicals     material                   true  kilogram   \n4            chemicals     material                   true  kilogram   \n...                ...          ...                    ...       ...   \n2255         chemicals     material                   true  kilogram   \n2256         chemicals     material                   true  kilogram   \n2257              ores     material                   true  kilogram   \n2258         chemicals     material                   true  kilogram   \n2259        foodstuffs     material                   true  kilogram   \n\n            scores Filtering  \\\n0       11.5607357        No   \n1      10.56465912        No   \n2      9.466456413        No   \n3      5.105681419        No   \n4      14.39040089        No   \n...            ...       ...   \n2255  0.7340126038        No   \n2256    2.06917429        No   \n2257    1.31916821        No   \n2258   3.224962473        No   \n2259   0.177233696        No   \n\n                                             negative_1  \\\n0     heat and power co-generation unit, organic Ran...   \n1                      sewer grid, 4.7E10l/year, 583 km   \n2                                      silicone product   \n3           furnace, logs, hardwood storage area, 100kW   \n4     trellis system, wooden poles, soft wood, tar i...   \n...                                                 ...   \n2255                 metal working machine, unspecified   \n2256                                               soap   \n2257            aircraft, dedicated freight, short haul   \n2258                                          oat grain   \n2259               cadmium sulfide, semiconductor-grade   \n\n                                             negative_2  \\\n0      grass seed, Swiss integrated production, at farm   \n1                                      electric bicycle   \n2     heating and sanitary equipment, heat and power...   \n3     sawlog and veneer log, meranti, debarked, meas...   \n4                                      synthetic rubber   \n...                                                 ...   \n2255  ventilation system, decentralized, 6 x 120 m3/...   \n2256  collector field area, solar tower power plant,...   \n2257  petrol, 4% ETBE additive by volume, with ethan...   \n2258                        mint seedling, for planting   \n2259                                               lead   \n\n                                             negative_3  \\\n0                            sunn hemp plant, harvested   \n1                                            paper sack   \n2                    furnace, pellets, with silo, 300kW   \n3                                      chemical factory   \n4                  mine infrastructure, gold and silver   \n...                                                 ...   \n2255  wheat seed, Swiss integrated production, for s...   \n2256              backlight, for liquid crystal display   \n2257                                    ceramic factory   \n2258                      sewer grid, 1.6E8l/year, 6 km   \n2259  silicon, single crystal, Czochralski process, ...   \n\n                                             negative_4  \\\n0     orthophthalic acid based unsaturated polyester...   \n1                                             petroleum   \n2                polycarboxylates, 40% active substance   \n3                                                  shed   \n4                 hard disk drive, for desktop computer   \n...                                                 ...   \n2255             metal catalyst for catalytic converter   \n2256                       glider, for electric scooter   \n2257                                         locomotive   \n2258                               tungsten concentrate   \n2259                      transformer, high voltage use   \n\n                                negative_5  \\\n0                          cellulose fibre   \n1             industrial furnace, 1MW, oil   \n2                              silica sand   \n3        passenger car, petrol/natural gas   \n4      inductor, low value multilayer chip   \n...                                    ...   \n2255                          clay plaster   \n2256                             reformate   \n2257          battery cell, Li-ion, NMC811   \n2258  cement, pozzolana and fly ash 11-35%   \n2259                       trichloroborane   \n\n                                             negative_6  \n0                                          base plaster  \n1                blower and heat exchange unit, KWL 250  \n2                                    petroleum refinery  \n3                                                chilli  \n4                                     battery separator  \n...                                                 ...  \n2255  heat distribution equipment, hydronic radiant ...  \n2256    shavings, softwood, loose, measured as dry mass  \n2257                                 aluminium fluoride  \n2258                                        fibre, jute  \n2259  foam glass, electricity from renewable energy ...  \n\n[2260 rows x 14 columns]",
      "text/html": "<div>\n<style scoped>\n    .dataframe tbody tr th:only-of-type {\n        vertical-align: middle;\n    }\n\n    .dataframe tbody tr th {\n        vertical-align: top;\n    }\n\n    .dataframe thead th {\n        text-align: right;\n    }\n</style>\n<table border=\"1\" class=\"dataframe\">\n  <thead>\n    <tr style=\"text-align: right;\">\n      <th></th>\n      <th>product_id</th>\n      <th>product_raw_name</th>\n      <th>category_raw_name</th>\n      <th>product_type</th>\n      <th>product_is_valid_match</th>\n      <th>UOM</th>\n      <th>scores</th>\n      <th>Filtering</th>\n      <th>negative_1</th>\n      <th>negative_2</th>\n      <th>negative_3</th>\n      <th>negative_4</th>\n      <th>negative_5</th>\n      <th>negative_6</th>\n    </tr>\n  </thead>\n  <tbody>\n    <tr>\n      <th>0</th>\n      <td>47345427-34e1-11ec-ba41-b0fc3626dcfb</td>\n      <td>[sulfonyl]urea-compound</td>\n      <td>chemicals</td>\n      <td>material</td>\n      <td>true</td>\n      <td>kilogram</td>\n      <td>11.5607357</td>\n      <td>No</td>\n      <td>heat and power co-generation unit, organic Ran...</td>\n      <td>grass seed, Swiss integrated production, at farm</td>\n      <td>sunn hemp plant, harvested</td>\n      <td>orthophthalic acid based unsaturated polyester...</td>\n      <td>cellulose fibre</td>\n      <td>base plaster</td>\n    </tr>\n    <tr>\n      <th>1</th>\n      <td>47345428-34e1-11ec-ba41-b0fc3626dcfb</td>\n      <td>[thio]carbamate-compound</td>\n      <td>chemicals</td>\n      <td>material</td>\n      <td>true</td>\n      <td>kilogram</td>\n      <td>10.56465912</td>\n      <td>No</td>\n      <td>sewer grid, 4.7E10l/year, 583 km</td>\n      <td>electric bicycle</td>\n      <td>paper sack</td>\n      <td>petroleum</td>\n      <td>industrial furnace, 1MW, oil</td>\n      <td>blower and heat exchange unit, KWL 250</td>\n    </tr>\n    <tr>\n      <th>2</th>\n      <td>473453fc-34e1-11ec-ba41-b0fc3626dcfb</td>\n      <td>1-butanol</td>\n      <td>chemicals</td>\n      <td>material</td>\n      <td>true</td>\n      <td>kilogram</td>\n      <td>9.466456413</td>\n      <td>No</td>\n      <td>silicone product</td>\n      <td>heating and sanitary equipment, heat and power...</td>\n      <td>furnace, pellets, with silo, 300kW</td>\n      <td>polycarboxylates, 40% active substance</td>\n      <td>silica sand</td>\n      <td>petroleum refinery</td>\n    </tr>\n    <tr>\n      <th>3</th>\n      <td>473453fd-34e1-11ec-ba41-b0fc3626dcfb</td>\n      <td>1-pentanol</td>\n      <td>chemicals</td>\n      <td>material</td>\n      <td>true</td>\n      <td>kilogram</td>\n      <td>5.105681419</td>\n      <td>No</td>\n      <td>furnace, logs, hardwood storage area, 100kW</td>\n      <td>sawlog and veneer log, meranti, debarked, meas...</td>\n      <td>chemical factory</td>\n      <td>shed</td>\n      <td>passenger car, petrol/natural gas</td>\n      <td>chilli</td>\n    </tr>\n    <tr>\n      <th>4</th>\n      <td>473453fe-34e1-11ec-ba41-b0fc3626dcfb</td>\n      <td>1-propanol</td>\n      <td>chemicals</td>\n      <td>material</td>\n      <td>true</td>\n      <td>kilogram</td>\n      <td>14.39040089</td>\n      <td>No</td>\n      <td>trellis system, wooden poles, soft wood, tar i...</td>\n      <td>synthetic rubber</td>\n      <td>mine infrastructure, gold and silver</td>\n      <td>hard disk drive, for desktop computer</td>\n      <td>inductor, low value multilayer chip</td>\n      <td>battery separator</td>\n    </tr>\n    <tr>\n      <th>...</th>\n      <td>...</td>\n      <td>...</td>\n      <td>...</td>\n      <td>...</td>\n      <td>...</td>\n      <td>...</td>\n      <td>...</td>\n      <td>...</td>\n      <td>...</td>\n      <td>...</td>\n      <td>...</td>\n      <td>...</td>\n      <td>...</td>\n      <td>...</td>\n    </tr>\n    <tr>\n      <th>2255</th>\n      <td>4738d443-34e1-11ec-ba41-b0fc3626dcfb</td>\n      <td>zinc oxide</td>\n      <td>chemicals</td>\n      <td>material</td>\n      <td>true</td>\n      <td>kilogram</td>\n      <td>0.7340126038</td>\n      <td>No</td>\n      <td>metal working machine, unspecified</td>\n      <td>ventilation system, decentralized, 6 x 120 m3/...</td>\n      <td>wheat seed, Swiss integrated production, for s...</td>\n      <td>metal catalyst for catalytic converter</td>\n      <td>clay plaster</td>\n      <td>heat distribution equipment, hydronic radiant ...</td>\n    </tr>\n    <tr>\n      <th>2256</th>\n      <td>4738d446-34e1-11ec-ba41-b0fc3626dcfb</td>\n      <td>zinc sulfide</td>\n      <td>chemicals</td>\n      <td>material</td>\n      <td>true</td>\n      <td>kilogram</td>\n      <td>2.06917429</td>\n      <td>No</td>\n      <td>soap</td>\n      <td>collector field area, solar tower power plant,...</td>\n      <td>backlight, for liquid crystal display</td>\n      <td>glider, for electric scooter</td>\n      <td>reformate</td>\n      <td>shavings, softwood, loose, measured as dry mass</td>\n    </tr>\n    <tr>\n      <th>2257</th>\n      <td>4738d447-34e1-11ec-ba41-b0fc3626dcfb</td>\n      <td>zircon, 50% zirconium</td>\n      <td>ores</td>\n      <td>material</td>\n      <td>true</td>\n      <td>kilogram</td>\n      <td>1.31916821</td>\n      <td>No</td>\n      <td>aircraft, dedicated freight, short haul</td>\n      <td>petrol, 4% ETBE additive by volume, with ethan...</td>\n      <td>ceramic factory</td>\n      <td>locomotive</td>\n      <td>battery cell, Li-ion, NMC811</td>\n      <td>aluminium fluoride</td>\n    </tr>\n    <tr>\n      <th>2258</th>\n      <td>4738d448-34e1-11ec-ba41-b0fc3626dcfb</td>\n      <td>zirconium oxide</td>\n      <td>chemicals</td>\n      <td>material</td>\n      <td>true</td>\n      <td>kilogram</td>\n      <td>3.224962473</td>\n      <td>No</td>\n      <td>oat grain</td>\n      <td>mint seedling, for planting</td>\n      <td>sewer grid, 1.6E8l/year, 6 km</td>\n      <td>tungsten concentrate</td>\n      <td>cement, pozzolana and fly ash 11-35%</td>\n      <td>fibre, jute</td>\n    </tr>\n    <tr>\n      <th>2259</th>\n      <td>4738d449-34e1-11ec-ba41-b0fc3626dcfb</td>\n      <td>zucchini</td>\n      <td>foodstuffs</td>\n      <td>material</td>\n      <td>true</td>\n      <td>kilogram</td>\n      <td>0.177233696</td>\n      <td>No</td>\n      <td>cadmium sulfide, semiconductor-grade</td>\n      <td>lead</td>\n      <td>silicon, single crystal, Czochralski process, ...</td>\n      <td>transformer, high voltage use</td>\n      <td>trichloroborane</td>\n      <td>foam glass, electricity from renewable energy ...</td>\n    </tr>\n  </tbody>\n</table>\n<p>2260 rows × 14 columns</p>\n</div>"
     },
     "execution_count": 64,
     "metadata": {},
     "output_type": "execute_result"
    }
   ],
   "source": [
    "df_eco"
   ],
   "metadata": {
    "collapsed": false,
    "pycharm": {
     "name": "#%%\n"
    }
   }
  },
  {
   "cell_type": "code",
   "execution_count": 70,
   "outputs": [],
   "source": [
    "df_clients_data = get_spreadsheet_data(sheet_identifier=\"1rRtLD56MpNPfSThJmzaD0e7yfrUdXMVoDwXU__qYcUM\")"
   ],
   "metadata": {
    "collapsed": false,
    "pycharm": {
     "name": "#%%\n"
    }
   }
  },
  {
   "cell_type": "code",
   "execution_count": 53,
   "outputs": [
    {
     "data": {
      "text/plain": "Index(['product_id', 'product_raw_name', 'category_raw_name', 'product_type',\n       'product_is_valid_match', 'UOM', 'scores', 'Filtering', 'negative_1',\n       'negative_2', 'negative_3', 'negative_4', 'negative_5', 'negative_6'],\n      dtype='object')"
     },
     "execution_count": 53,
     "metadata": {},
     "output_type": "execute_result"
    }
   ],
   "source": [
    "df_eco.columns"
   ],
   "metadata": {
    "collapsed": false,
    "pycharm": {
     "name": "#%%\n"
    }
   }
  },
  {
   "cell_type": "code",
   "execution_count": 68,
   "outputs": [
    {
     "data": {
      "text/plain": "                                         id  \\\n0      ddecf933-f03e-423f-95bf-bac28cea6fff   \n1      7113f99b-bb0b-43ab-ac36-73d5eefed3f5   \n2      4146388d-1cd1-46d2-8fa1-8c98d6dffe55   \n3      7158f8b4-b5f7-4914-b881-17d77b47b1c7   \n4      2a2093cf-8590-49e7-8be4-9d9f45de3e3e   \n...                                     ...   \n37825  08105016-0876-4209-af8e-9b0ea6e67477   \n37826  5e659548-1885-4d23-a04f-09b2f307a3f7   \n37827  960ccd76-c93f-4a63-bb0a-922788a9e643   \n37828  e0956f96-1c2a-4e9b-a3c8-44ae9610cf22   \n37829  3ca1461b-3ade-47f1-8b98-10bebea20767   \n\n                                           name       group_name  \\\n0                      SPROCKET-IDLER-BS-IN-24T              205   \n1                      SPROCKET-IDLER-BS-IN-24T              205   \n2                      SPROCKET-IDLER-BS-IN-24T              205   \n3                      SPROCKET-IDLER-BS-IN-24T              205   \n4                   CHANGAN H16EB CRANKSPROCKET              205   \n...                                         ...              ...   \n37825                       Wer macht was? 24+m  Fertigerzeugnis   \n37826                    Was gehört wohin? 24+m  Fertigerzeugnis   \n37827  Was gehört wohin? Auf dem Bauernhof 24+m  Fertigerzeugnis   \n37828                        Wer wohnt wo? 24+m  Fertigerzeugnis   \n37829        WWWjun - Autos u.Laster - Albatros  Fertigerzeugnis   \n\n             manual_match category_raw_name product_type    batch  \\\n0      steel, low-alloyed    steel and iron     material  batch_1   \n1      steel, low-alloyed    steel and iron     material  batch_1   \n2      steel, low-alloyed    steel and iron     material  batch_1   \n3      steel, low-alloyed    steel and iron     material  batch_1   \n4      steel, low-alloyed    steel and iron     material  batch_1   \n...                   ...               ...          ...      ...   \n37825       printed paper    office support     material  batch_1   \n37826       printed paper    office support     material  batch_1   \n37827       printed paper    office support     material  batch_1   \n37828       printed paper    office support     material  batch_1   \n37829       printed paper    office support     material  batch_1   \n\n             source          group_name_2              group_name_3  \n0        Borgwarner                   NaN                       NaN  \n1        Borgwarner                   NaN                       NaN  \n2        Borgwarner                   NaN                       NaN  \n3        Borgwarner                   NaN                       NaN  \n4        Borgwarner                   NaN                       NaN  \n...             ...                   ...                       ...  \n37825  Ravensburger  BÜCHER, NUR BUCHVERL  Kinder- und Jugendbücher  \n37826  Ravensburger  BÜCHER, NUR BUCHVERL  Kinder- und Jugendbücher  \n37827  Ravensburger  BÜCHER, NUR BUCHVERL  Kinder- und Jugendbücher  \n37828  Ravensburger  BÜCHER, NUR BUCHVERL  Kinder- und Jugendbücher  \n37829  Ravensburger  BÜCHER, NUR BUCHVERL  Kinder- und Jugendbücher  \n\n[37830 rows x 10 columns]",
      "text/html": "<div>\n<style scoped>\n    .dataframe tbody tr th:only-of-type {\n        vertical-align: middle;\n    }\n\n    .dataframe tbody tr th {\n        vertical-align: top;\n    }\n\n    .dataframe thead th {\n        text-align: right;\n    }\n</style>\n<table border=\"1\" class=\"dataframe\">\n  <thead>\n    <tr style=\"text-align: right;\">\n      <th></th>\n      <th>id</th>\n      <th>name</th>\n      <th>group_name</th>\n      <th>manual_match</th>\n      <th>category_raw_name</th>\n      <th>product_type</th>\n      <th>batch</th>\n      <th>source</th>\n      <th>group_name_2</th>\n      <th>group_name_3</th>\n    </tr>\n  </thead>\n  <tbody>\n    <tr>\n      <th>0</th>\n      <td>ddecf933-f03e-423f-95bf-bac28cea6fff</td>\n      <td>SPROCKET-IDLER-BS-IN-24T</td>\n      <td>205</td>\n      <td>steel, low-alloyed</td>\n      <td>steel and iron</td>\n      <td>material</td>\n      <td>batch_1</td>\n      <td>Borgwarner</td>\n      <td>NaN</td>\n      <td>NaN</td>\n    </tr>\n    <tr>\n      <th>1</th>\n      <td>7113f99b-bb0b-43ab-ac36-73d5eefed3f5</td>\n      <td>SPROCKET-IDLER-BS-IN-24T</td>\n      <td>205</td>\n      <td>steel, low-alloyed</td>\n      <td>steel and iron</td>\n      <td>material</td>\n      <td>batch_1</td>\n      <td>Borgwarner</td>\n      <td>NaN</td>\n      <td>NaN</td>\n    </tr>\n    <tr>\n      <th>2</th>\n      <td>4146388d-1cd1-46d2-8fa1-8c98d6dffe55</td>\n      <td>SPROCKET-IDLER-BS-IN-24T</td>\n      <td>205</td>\n      <td>steel, low-alloyed</td>\n      <td>steel and iron</td>\n      <td>material</td>\n      <td>batch_1</td>\n      <td>Borgwarner</td>\n      <td>NaN</td>\n      <td>NaN</td>\n    </tr>\n    <tr>\n      <th>3</th>\n      <td>7158f8b4-b5f7-4914-b881-17d77b47b1c7</td>\n      <td>SPROCKET-IDLER-BS-IN-24T</td>\n      <td>205</td>\n      <td>steel, low-alloyed</td>\n      <td>steel and iron</td>\n      <td>material</td>\n      <td>batch_1</td>\n      <td>Borgwarner</td>\n      <td>NaN</td>\n      <td>NaN</td>\n    </tr>\n    <tr>\n      <th>4</th>\n      <td>2a2093cf-8590-49e7-8be4-9d9f45de3e3e</td>\n      <td>CHANGAN H16EB CRANKSPROCKET</td>\n      <td>205</td>\n      <td>steel, low-alloyed</td>\n      <td>steel and iron</td>\n      <td>material</td>\n      <td>batch_1</td>\n      <td>Borgwarner</td>\n      <td>NaN</td>\n      <td>NaN</td>\n    </tr>\n    <tr>\n      <th>...</th>\n      <td>...</td>\n      <td>...</td>\n      <td>...</td>\n      <td>...</td>\n      <td>...</td>\n      <td>...</td>\n      <td>...</td>\n      <td>...</td>\n      <td>...</td>\n      <td>...</td>\n    </tr>\n    <tr>\n      <th>37825</th>\n      <td>08105016-0876-4209-af8e-9b0ea6e67477</td>\n      <td>Wer macht was? 24+m</td>\n      <td>Fertigerzeugnis</td>\n      <td>printed paper</td>\n      <td>office support</td>\n      <td>material</td>\n      <td>batch_1</td>\n      <td>Ravensburger</td>\n      <td>BÜCHER, NUR BUCHVERL</td>\n      <td>Kinder- und Jugendbücher</td>\n    </tr>\n    <tr>\n      <th>37826</th>\n      <td>5e659548-1885-4d23-a04f-09b2f307a3f7</td>\n      <td>Was gehört wohin? 24+m</td>\n      <td>Fertigerzeugnis</td>\n      <td>printed paper</td>\n      <td>office support</td>\n      <td>material</td>\n      <td>batch_1</td>\n      <td>Ravensburger</td>\n      <td>BÜCHER, NUR BUCHVERL</td>\n      <td>Kinder- und Jugendbücher</td>\n    </tr>\n    <tr>\n      <th>37827</th>\n      <td>960ccd76-c93f-4a63-bb0a-922788a9e643</td>\n      <td>Was gehört wohin? Auf dem Bauernhof 24+m</td>\n      <td>Fertigerzeugnis</td>\n      <td>printed paper</td>\n      <td>office support</td>\n      <td>material</td>\n      <td>batch_1</td>\n      <td>Ravensburger</td>\n      <td>BÜCHER, NUR BUCHVERL</td>\n      <td>Kinder- und Jugendbücher</td>\n    </tr>\n    <tr>\n      <th>37828</th>\n      <td>e0956f96-1c2a-4e9b-a3c8-44ae9610cf22</td>\n      <td>Wer wohnt wo? 24+m</td>\n      <td>Fertigerzeugnis</td>\n      <td>printed paper</td>\n      <td>office support</td>\n      <td>material</td>\n      <td>batch_1</td>\n      <td>Ravensburger</td>\n      <td>BÜCHER, NUR BUCHVERL</td>\n      <td>Kinder- und Jugendbücher</td>\n    </tr>\n    <tr>\n      <th>37829</th>\n      <td>3ca1461b-3ade-47f1-8b98-10bebea20767</td>\n      <td>WWWjun - Autos u.Laster - Albatros</td>\n      <td>Fertigerzeugnis</td>\n      <td>printed paper</td>\n      <td>office support</td>\n      <td>material</td>\n      <td>batch_1</td>\n      <td>Ravensburger</td>\n      <td>BÜCHER, NUR BUCHVERL</td>\n      <td>Kinder- und Jugendbücher</td>\n    </tr>\n  </tbody>\n</table>\n<p>37830 rows × 10 columns</p>\n</div>"
     },
     "execution_count": 68,
     "metadata": {},
     "output_type": "execute_result"
    }
   ],
   "source": [
    "df_clients_data"
   ],
   "metadata": {
    "collapsed": false,
    "pycharm": {
     "name": "#%%\n"
    }
   }
  },
  {
   "cell_type": "code",
   "execution_count": 67,
   "outputs": [],
   "source": [
    "df_clients_data= add_uuids(df_clients_data)"
   ],
   "metadata": {
    "collapsed": false,
    "pycharm": {
     "name": "#%%\n"
    }
   }
  },
  {
   "cell_type": "code",
   "execution_count": 68,
   "outputs": [],
   "source": [
    "new_train_data = concat_columns_combinations(df_name=df_clients_data[:10], delimiter= \" \")"
   ],
   "metadata": {
    "collapsed": false,
    "pycharm": {
     "name": "#%%\n"
    }
   }
  },
  {
   "cell_type": "code",
   "execution_count": 69,
   "outputs": [
    {
     "data": {
      "text/plain": "[('10dd6975-49d3-4593-89a7-486c66fa68fa', 'SPROCKET-IDLER-BS-IN-24T 205'),\n ('10dd6975-49d3-4593-89a7-486c66fa68fa', '205 SPROCKET-IDLER-BS-IN-24T'),\n ('37a1cabc-eaca-4e9d-a186-78c2d2864133', 'CHANGAN H16EB CRANKSPROCKET 205'),\n ('37a1cabc-eaca-4e9d-a186-78c2d2864133', '205 CHANGAN H16EB CRANKSPROCKET'),\n ('dbd2764c-d722-474d-b1b2-76cb9bee7dcc', 'ASM - OUTPUT SHAFT MR'),\n ('dbd2764c-d722-474d-b1b2-76cb9bee7dcc', 'MR ASM - OUTPUT SHAFT'),\n ('51e5f525-77c5-4805-854f-d61d0a656776', 'PISTON, TWO-STEP 19'),\n ('51e5f525-77c5-4805-854f-d61d0a656776', '19 PISTON, TWO-STEP'),\n ('15abf81e-cc5a-4f08-a321-3ba87756fc98', 'PISTON, TWO-STEP 79'),\n ('15abf81e-cc5a-4f08-a321-3ba87756fc98', '79 PISTON, TWO-STEP'),\n ('bb78a6c3-a127-4506-b31a-72d2298071aa', 'Screw-Joint 109'),\n ('bb78a6c3-a127-4506-b31a-72d2298071aa', '109 Screw-Joint'),\n ('5756d79a-fe5a-4028-a7b8-734e5a82abea', 'Piston-OC 96'),\n ('5756d79a-fe5a-4028-a7b8-734e5a82abea', '96 Piston-OC')]"
     },
     "execution_count": 69,
     "metadata": {},
     "output_type": "execute_result"
    }
   ],
   "source": [
    "new_train_data"
   ],
   "metadata": {
    "collapsed": false,
    "pycharm": {
     "name": "#%%\n"
    }
   }
  },
  {
   "cell_type": "code",
   "execution_count": 70,
   "outputs": [],
   "source": [
    "df_test = pd.DataFrame(new_train_data, columns=['id', 'name_new'])"
   ],
   "metadata": {
    "collapsed": false,
    "pycharm": {
     "name": "#%%\n"
    }
   }
  },
  {
   "cell_type": "code",
   "execution_count": 71,
   "outputs": [
    {
     "data": {
      "text/plain": "                                      id                         name_new\n0   10dd6975-49d3-4593-89a7-486c66fa68fa     SPROCKET-IDLER-BS-IN-24T 205\n1   10dd6975-49d3-4593-89a7-486c66fa68fa     205 SPROCKET-IDLER-BS-IN-24T\n2   37a1cabc-eaca-4e9d-a186-78c2d2864133  CHANGAN H16EB CRANKSPROCKET 205\n3   37a1cabc-eaca-4e9d-a186-78c2d2864133  205 CHANGAN H16EB CRANKSPROCKET\n4   dbd2764c-d722-474d-b1b2-76cb9bee7dcc            ASM - OUTPUT SHAFT MR\n5   dbd2764c-d722-474d-b1b2-76cb9bee7dcc            MR ASM - OUTPUT SHAFT\n6   51e5f525-77c5-4805-854f-d61d0a656776              PISTON, TWO-STEP 19\n7   51e5f525-77c5-4805-854f-d61d0a656776              19 PISTON, TWO-STEP\n8   15abf81e-cc5a-4f08-a321-3ba87756fc98              PISTON, TWO-STEP 79\n9   15abf81e-cc5a-4f08-a321-3ba87756fc98              79 PISTON, TWO-STEP\n10  bb78a6c3-a127-4506-b31a-72d2298071aa                  Screw-Joint 109\n11  bb78a6c3-a127-4506-b31a-72d2298071aa                  109 Screw-Joint\n12  5756d79a-fe5a-4028-a7b8-734e5a82abea                     Piston-OC 96\n13  5756d79a-fe5a-4028-a7b8-734e5a82abea                     96 Piston-OC",
      "text/html": "<div>\n<style scoped>\n    .dataframe tbody tr th:only-of-type {\n        vertical-align: middle;\n    }\n\n    .dataframe tbody tr th {\n        vertical-align: top;\n    }\n\n    .dataframe thead th {\n        text-align: right;\n    }\n</style>\n<table border=\"1\" class=\"dataframe\">\n  <thead>\n    <tr style=\"text-align: right;\">\n      <th></th>\n      <th>id</th>\n      <th>name_new</th>\n    </tr>\n  </thead>\n  <tbody>\n    <tr>\n      <th>0</th>\n      <td>10dd6975-49d3-4593-89a7-486c66fa68fa</td>\n      <td>SPROCKET-IDLER-BS-IN-24T 205</td>\n    </tr>\n    <tr>\n      <th>1</th>\n      <td>10dd6975-49d3-4593-89a7-486c66fa68fa</td>\n      <td>205 SPROCKET-IDLER-BS-IN-24T</td>\n    </tr>\n    <tr>\n      <th>2</th>\n      <td>37a1cabc-eaca-4e9d-a186-78c2d2864133</td>\n      <td>CHANGAN H16EB CRANKSPROCKET 205</td>\n    </tr>\n    <tr>\n      <th>3</th>\n      <td>37a1cabc-eaca-4e9d-a186-78c2d2864133</td>\n      <td>205 CHANGAN H16EB CRANKSPROCKET</td>\n    </tr>\n    <tr>\n      <th>4</th>\n      <td>dbd2764c-d722-474d-b1b2-76cb9bee7dcc</td>\n      <td>ASM - OUTPUT SHAFT MR</td>\n    </tr>\n    <tr>\n      <th>5</th>\n      <td>dbd2764c-d722-474d-b1b2-76cb9bee7dcc</td>\n      <td>MR ASM - OUTPUT SHAFT</td>\n    </tr>\n    <tr>\n      <th>6</th>\n      <td>51e5f525-77c5-4805-854f-d61d0a656776</td>\n      <td>PISTON, TWO-STEP 19</td>\n    </tr>\n    <tr>\n      <th>7</th>\n      <td>51e5f525-77c5-4805-854f-d61d0a656776</td>\n      <td>19 PISTON, TWO-STEP</td>\n    </tr>\n    <tr>\n      <th>8</th>\n      <td>15abf81e-cc5a-4f08-a321-3ba87756fc98</td>\n      <td>PISTON, TWO-STEP 79</td>\n    </tr>\n    <tr>\n      <th>9</th>\n      <td>15abf81e-cc5a-4f08-a321-3ba87756fc98</td>\n      <td>79 PISTON, TWO-STEP</td>\n    </tr>\n    <tr>\n      <th>10</th>\n      <td>bb78a6c3-a127-4506-b31a-72d2298071aa</td>\n      <td>Screw-Joint 109</td>\n    </tr>\n    <tr>\n      <th>11</th>\n      <td>bb78a6c3-a127-4506-b31a-72d2298071aa</td>\n      <td>109 Screw-Joint</td>\n    </tr>\n    <tr>\n      <th>12</th>\n      <td>5756d79a-fe5a-4028-a7b8-734e5a82abea</td>\n      <td>Piston-OC 96</td>\n    </tr>\n    <tr>\n      <th>13</th>\n      <td>5756d79a-fe5a-4028-a7b8-734e5a82abea</td>\n      <td>96 Piston-OC</td>\n    </tr>\n  </tbody>\n</table>\n</div>"
     },
     "execution_count": 71,
     "metadata": {},
     "output_type": "execute_result"
    }
   ],
   "source": [
    "df_test"
   ],
   "metadata": {
    "collapsed": false,
    "pycharm": {
     "name": "#%%\n"
    }
   }
  },
  {
   "cell_type": "code",
   "execution_count": 11,
   "outputs": [],
   "source": [
    "new_df_clients_data = df_clients_data[:10]"
   ],
   "metadata": {
    "collapsed": false,
    "pycharm": {
     "name": "#%%\n"
    }
   }
  },
  {
   "cell_type": "code",
   "execution_count": 25,
   "outputs": [
    {
     "data": {
      "text/plain": "                                     id                         name  \\\n0  d1c99588-e41f-4243-94ba-fc0e9bbb76db     SPROCKET-IDLER-BS-IN-24T   \n1  7c606f14-a905-4692-8c02-4c4ccfb1e631     SPROCKET-IDLER-BS-IN-24T   \n2  7f35de78-808f-4d83-bf4b-e87a17391300     SPROCKET-IDLER-BS-IN-24T   \n3  8e26c69c-ac8f-4939-9b6f-1d460339e5b5     SPROCKET-IDLER-BS-IN-24T   \n4  c03376a8-1e86-4bc9-a2ed-6c3a83325ebf  CHANGAN H16EB CRANKSPROCKET   \n5  63a9ae9b-1360-4951-a528-005555fe9feb           ASM - OUTPUT SHAFT   \n6  f8a56ed9-eccc-49eb-99ae-91c36a7de77f             PISTON, TWO-STEP   \n7  626cae73-09b6-4b2a-bbef-4fa038095385             PISTON, TWO-STEP   \n8  13035518-d823-4f62-8648-b915913f9d1c                  Screw-Joint   \n9  27611270-8a43-453d-82fb-eb9973a25ef3                    Piston-OC   \n\n  group_name        manual_match category_raw_name product_type    batch  \\\n0        205  steel, low-alloyed    steel and iron     material  batch_1   \n1        205  steel, low-alloyed    steel and iron     material  batch_1   \n2        205  steel, low-alloyed    steel and iron     material  batch_1   \n3        205  steel, low-alloyed    steel and iron     material  batch_1   \n4        205  steel, low-alloyed    steel and iron     material  batch_1   \n5         MR  steel, low-alloyed    steel and iron     material  batch_1   \n6         19  steel, low-alloyed    steel and iron     material  batch_1   \n7         79  steel, low-alloyed    steel and iron     material  batch_1   \n8        109  steel, low-alloyed    steel and iron     material  batch_1   \n9         96  steel, low-alloyed    steel and iron     material  batch_1   \n\n       source group_name_2 group_name_3  \n0  Borgwarner          NaN          NaN  \n1  Borgwarner          NaN          NaN  \n2  Borgwarner          NaN          NaN  \n3  Borgwarner          NaN          NaN  \n4  Borgwarner          NaN          NaN  \n5  Borgwarner          NaN          NaN  \n6  Borgwarner          NaN          NaN  \n7  Borgwarner          NaN          NaN  \n8  Borgwarner          NaN          NaN  \n9  Borgwarner          NaN          NaN  ",
      "text/html": "<div>\n<style scoped>\n    .dataframe tbody tr th:only-of-type {\n        vertical-align: middle;\n    }\n\n    .dataframe tbody tr th {\n        vertical-align: top;\n    }\n\n    .dataframe thead th {\n        text-align: right;\n    }\n</style>\n<table border=\"1\" class=\"dataframe\">\n  <thead>\n    <tr style=\"text-align: right;\">\n      <th></th>\n      <th>id</th>\n      <th>name</th>\n      <th>group_name</th>\n      <th>manual_match</th>\n      <th>category_raw_name</th>\n      <th>product_type</th>\n      <th>batch</th>\n      <th>source</th>\n      <th>group_name_2</th>\n      <th>group_name_3</th>\n    </tr>\n  </thead>\n  <tbody>\n    <tr>\n      <th>0</th>\n      <td>d1c99588-e41f-4243-94ba-fc0e9bbb76db</td>\n      <td>SPROCKET-IDLER-BS-IN-24T</td>\n      <td>205</td>\n      <td>steel, low-alloyed</td>\n      <td>steel and iron</td>\n      <td>material</td>\n      <td>batch_1</td>\n      <td>Borgwarner</td>\n      <td>NaN</td>\n      <td>NaN</td>\n    </tr>\n    <tr>\n      <th>1</th>\n      <td>7c606f14-a905-4692-8c02-4c4ccfb1e631</td>\n      <td>SPROCKET-IDLER-BS-IN-24T</td>\n      <td>205</td>\n      <td>steel, low-alloyed</td>\n      <td>steel and iron</td>\n      <td>material</td>\n      <td>batch_1</td>\n      <td>Borgwarner</td>\n      <td>NaN</td>\n      <td>NaN</td>\n    </tr>\n    <tr>\n      <th>2</th>\n      <td>7f35de78-808f-4d83-bf4b-e87a17391300</td>\n      <td>SPROCKET-IDLER-BS-IN-24T</td>\n      <td>205</td>\n      <td>steel, low-alloyed</td>\n      <td>steel and iron</td>\n      <td>material</td>\n      <td>batch_1</td>\n      <td>Borgwarner</td>\n      <td>NaN</td>\n      <td>NaN</td>\n    </tr>\n    <tr>\n      <th>3</th>\n      <td>8e26c69c-ac8f-4939-9b6f-1d460339e5b5</td>\n      <td>SPROCKET-IDLER-BS-IN-24T</td>\n      <td>205</td>\n      <td>steel, low-alloyed</td>\n      <td>steel and iron</td>\n      <td>material</td>\n      <td>batch_1</td>\n      <td>Borgwarner</td>\n      <td>NaN</td>\n      <td>NaN</td>\n    </tr>\n    <tr>\n      <th>4</th>\n      <td>c03376a8-1e86-4bc9-a2ed-6c3a83325ebf</td>\n      <td>CHANGAN H16EB CRANKSPROCKET</td>\n      <td>205</td>\n      <td>steel, low-alloyed</td>\n      <td>steel and iron</td>\n      <td>material</td>\n      <td>batch_1</td>\n      <td>Borgwarner</td>\n      <td>NaN</td>\n      <td>NaN</td>\n    </tr>\n    <tr>\n      <th>5</th>\n      <td>63a9ae9b-1360-4951-a528-005555fe9feb</td>\n      <td>ASM - OUTPUT SHAFT</td>\n      <td>MR</td>\n      <td>steel, low-alloyed</td>\n      <td>steel and iron</td>\n      <td>material</td>\n      <td>batch_1</td>\n      <td>Borgwarner</td>\n      <td>NaN</td>\n      <td>NaN</td>\n    </tr>\n    <tr>\n      <th>6</th>\n      <td>f8a56ed9-eccc-49eb-99ae-91c36a7de77f</td>\n      <td>PISTON, TWO-STEP</td>\n      <td>19</td>\n      <td>steel, low-alloyed</td>\n      <td>steel and iron</td>\n      <td>material</td>\n      <td>batch_1</td>\n      <td>Borgwarner</td>\n      <td>NaN</td>\n      <td>NaN</td>\n    </tr>\n    <tr>\n      <th>7</th>\n      <td>626cae73-09b6-4b2a-bbef-4fa038095385</td>\n      <td>PISTON, TWO-STEP</td>\n      <td>79</td>\n      <td>steel, low-alloyed</td>\n      <td>steel and iron</td>\n      <td>material</td>\n      <td>batch_1</td>\n      <td>Borgwarner</td>\n      <td>NaN</td>\n      <td>NaN</td>\n    </tr>\n    <tr>\n      <th>8</th>\n      <td>13035518-d823-4f62-8648-b915913f9d1c</td>\n      <td>Screw-Joint</td>\n      <td>109</td>\n      <td>steel, low-alloyed</td>\n      <td>steel and iron</td>\n      <td>material</td>\n      <td>batch_1</td>\n      <td>Borgwarner</td>\n      <td>NaN</td>\n      <td>NaN</td>\n    </tr>\n    <tr>\n      <th>9</th>\n      <td>27611270-8a43-453d-82fb-eb9973a25ef3</td>\n      <td>Piston-OC</td>\n      <td>96</td>\n      <td>steel, low-alloyed</td>\n      <td>steel and iron</td>\n      <td>material</td>\n      <td>batch_1</td>\n      <td>Borgwarner</td>\n      <td>NaN</td>\n      <td>NaN</td>\n    </tr>\n  </tbody>\n</table>\n</div>"
     },
     "execution_count": 25,
     "metadata": {},
     "output_type": "execute_result"
    }
   ],
   "source": [
    "new_df_clients_data"
   ],
   "metadata": {
    "collapsed": false,
    "pycharm": {
     "name": "#%%\n"
    }
   }
  },
  {
   "cell_type": "code",
   "execution_count": 12,
   "outputs": [],
   "source": [
    "merged_df_new = pd.merge(df_test, new_df_clients_data[[\"id\",\"manual_match\",\"category_raw_name\"]], left_on=\"id\", right_on=\"id\", how='left')"
   ],
   "metadata": {
    "collapsed": false,
    "pycharm": {
     "name": "#%%\n"
    }
   }
  },
  {
   "cell_type": "code",
   "execution_count": 13,
   "outputs": [
    {
     "data": {
      "text/plain": "                                      id                         name_new  \\\n0   d1c99588-e41f-4243-94ba-fc0e9bbb76db     SPROCKET-IDLER-BS-IN-24T 205   \n1   d1c99588-e41f-4243-94ba-fc0e9bbb76db     205 SPROCKET-IDLER-BS-IN-24T   \n2   c03376a8-1e86-4bc9-a2ed-6c3a83325ebf  CHANGAN H16EB CRANKSPROCKET 205   \n3   c03376a8-1e86-4bc9-a2ed-6c3a83325ebf  205 CHANGAN H16EB CRANKSPROCKET   \n4   63a9ae9b-1360-4951-a528-005555fe9feb            ASM - OUTPUT SHAFT MR   \n5   63a9ae9b-1360-4951-a528-005555fe9feb            MR ASM - OUTPUT SHAFT   \n6   f8a56ed9-eccc-49eb-99ae-91c36a7de77f              PISTON, TWO-STEP 19   \n7   f8a56ed9-eccc-49eb-99ae-91c36a7de77f              19 PISTON, TWO-STEP   \n8   626cae73-09b6-4b2a-bbef-4fa038095385              PISTON, TWO-STEP 79   \n9   626cae73-09b6-4b2a-bbef-4fa038095385              79 PISTON, TWO-STEP   \n10  13035518-d823-4f62-8648-b915913f9d1c                  Screw-Joint 109   \n11  13035518-d823-4f62-8648-b915913f9d1c                  109 Screw-Joint   \n12  27611270-8a43-453d-82fb-eb9973a25ef3                     Piston-OC 96   \n13  27611270-8a43-453d-82fb-eb9973a25ef3                     96 Piston-OC   \n\n   manual_match category_raw_name  \n0           NaN               NaN  \n1           NaN               NaN  \n2           NaN               NaN  \n3           NaN               NaN  \n4           NaN               NaN  \n5           NaN               NaN  \n6           NaN               NaN  \n7           NaN               NaN  \n8           NaN               NaN  \n9           NaN               NaN  \n10          NaN               NaN  \n11          NaN               NaN  \n12          NaN               NaN  \n13          NaN               NaN  ",
      "text/html": "<div>\n<style scoped>\n    .dataframe tbody tr th:only-of-type {\n        vertical-align: middle;\n    }\n\n    .dataframe tbody tr th {\n        vertical-align: top;\n    }\n\n    .dataframe thead th {\n        text-align: right;\n    }\n</style>\n<table border=\"1\" class=\"dataframe\">\n  <thead>\n    <tr style=\"text-align: right;\">\n      <th></th>\n      <th>id</th>\n      <th>name_new</th>\n      <th>manual_match</th>\n      <th>category_raw_name</th>\n    </tr>\n  </thead>\n  <tbody>\n    <tr>\n      <th>0</th>\n      <td>d1c99588-e41f-4243-94ba-fc0e9bbb76db</td>\n      <td>SPROCKET-IDLER-BS-IN-24T 205</td>\n      <td>NaN</td>\n      <td>NaN</td>\n    </tr>\n    <tr>\n      <th>1</th>\n      <td>d1c99588-e41f-4243-94ba-fc0e9bbb76db</td>\n      <td>205 SPROCKET-IDLER-BS-IN-24T</td>\n      <td>NaN</td>\n      <td>NaN</td>\n    </tr>\n    <tr>\n      <th>2</th>\n      <td>c03376a8-1e86-4bc9-a2ed-6c3a83325ebf</td>\n      <td>CHANGAN H16EB CRANKSPROCKET 205</td>\n      <td>NaN</td>\n      <td>NaN</td>\n    </tr>\n    <tr>\n      <th>3</th>\n      <td>c03376a8-1e86-4bc9-a2ed-6c3a83325ebf</td>\n      <td>205 CHANGAN H16EB CRANKSPROCKET</td>\n      <td>NaN</td>\n      <td>NaN</td>\n    </tr>\n    <tr>\n      <th>4</th>\n      <td>63a9ae9b-1360-4951-a528-005555fe9feb</td>\n      <td>ASM - OUTPUT SHAFT MR</td>\n      <td>NaN</td>\n      <td>NaN</td>\n    </tr>\n    <tr>\n      <th>5</th>\n      <td>63a9ae9b-1360-4951-a528-005555fe9feb</td>\n      <td>MR ASM - OUTPUT SHAFT</td>\n      <td>NaN</td>\n      <td>NaN</td>\n    </tr>\n    <tr>\n      <th>6</th>\n      <td>f8a56ed9-eccc-49eb-99ae-91c36a7de77f</td>\n      <td>PISTON, TWO-STEP 19</td>\n      <td>NaN</td>\n      <td>NaN</td>\n    </tr>\n    <tr>\n      <th>7</th>\n      <td>f8a56ed9-eccc-49eb-99ae-91c36a7de77f</td>\n      <td>19 PISTON, TWO-STEP</td>\n      <td>NaN</td>\n      <td>NaN</td>\n    </tr>\n    <tr>\n      <th>8</th>\n      <td>626cae73-09b6-4b2a-bbef-4fa038095385</td>\n      <td>PISTON, TWO-STEP 79</td>\n      <td>NaN</td>\n      <td>NaN</td>\n    </tr>\n    <tr>\n      <th>9</th>\n      <td>626cae73-09b6-4b2a-bbef-4fa038095385</td>\n      <td>79 PISTON, TWO-STEP</td>\n      <td>NaN</td>\n      <td>NaN</td>\n    </tr>\n    <tr>\n      <th>10</th>\n      <td>13035518-d823-4f62-8648-b915913f9d1c</td>\n      <td>Screw-Joint 109</td>\n      <td>NaN</td>\n      <td>NaN</td>\n    </tr>\n    <tr>\n      <th>11</th>\n      <td>13035518-d823-4f62-8648-b915913f9d1c</td>\n      <td>109 Screw-Joint</td>\n      <td>NaN</td>\n      <td>NaN</td>\n    </tr>\n    <tr>\n      <th>12</th>\n      <td>27611270-8a43-453d-82fb-eb9973a25ef3</td>\n      <td>Piston-OC 96</td>\n      <td>NaN</td>\n      <td>NaN</td>\n    </tr>\n    <tr>\n      <th>13</th>\n      <td>27611270-8a43-453d-82fb-eb9973a25ef3</td>\n      <td>96 Piston-OC</td>\n      <td>NaN</td>\n      <td>NaN</td>\n    </tr>\n  </tbody>\n</table>\n</div>"
     },
     "execution_count": 13,
     "metadata": {},
     "output_type": "execute_result"
    }
   ],
   "source": [
    "merged_df_new"
   ],
   "metadata": {
    "collapsed": false,
    "pycharm": {
     "name": "#%%\n"
    }
   }
  },
  {
   "cell_type": "code",
   "execution_count": 15,
   "outputs": [
    {
     "data": {
      "text/plain": "                                     id                         name  \\\n0  d1c99588-e41f-4243-94ba-fc0e9bbb76db     SPROCKET-IDLER-BS-IN-24T   \n1  7c606f14-a905-4692-8c02-4c4ccfb1e631     SPROCKET-IDLER-BS-IN-24T   \n2  7f35de78-808f-4d83-bf4b-e87a17391300     SPROCKET-IDLER-BS-IN-24T   \n3  8e26c69c-ac8f-4939-9b6f-1d460339e5b5     SPROCKET-IDLER-BS-IN-24T   \n4  c03376a8-1e86-4bc9-a2ed-6c3a83325ebf  CHANGAN H16EB CRANKSPROCKET   \n5  63a9ae9b-1360-4951-a528-005555fe9feb           ASM - OUTPUT SHAFT   \n6  f8a56ed9-eccc-49eb-99ae-91c36a7de77f             PISTON, TWO-STEP   \n7  626cae73-09b6-4b2a-bbef-4fa038095385             PISTON, TWO-STEP   \n8  13035518-d823-4f62-8648-b915913f9d1c                  Screw-Joint   \n9  27611270-8a43-453d-82fb-eb9973a25ef3                    Piston-OC   \n\n  group_name        manual_match category_raw_name product_type    batch  \\\n0        205  steel, low-alloyed    steel and iron     material  batch_1   \n1        205  steel, low-alloyed    steel and iron     material  batch_1   \n2        205  steel, low-alloyed    steel and iron     material  batch_1   \n3        205  steel, low-alloyed    steel and iron     material  batch_1   \n4        205  steel, low-alloyed    steel and iron     material  batch_1   \n5         MR  steel, low-alloyed    steel and iron     material  batch_1   \n6         19  steel, low-alloyed    steel and iron     material  batch_1   \n7         79  steel, low-alloyed    steel and iron     material  batch_1   \n8        109  steel, low-alloyed    steel and iron     material  batch_1   \n9         96  steel, low-alloyed    steel and iron     material  batch_1   \n\n       source group_name_2 group_name_3 name_new  \n0  Borgwarner          NaN          NaN      NaN  \n1  Borgwarner          NaN          NaN      NaN  \n2  Borgwarner          NaN          NaN      NaN  \n3  Borgwarner          NaN          NaN      NaN  \n4  Borgwarner          NaN          NaN      NaN  \n5  Borgwarner          NaN          NaN      NaN  \n6  Borgwarner          NaN          NaN      NaN  \n7  Borgwarner          NaN          NaN      NaN  \n8  Borgwarner          NaN          NaN      NaN  \n9  Borgwarner          NaN          NaN      NaN  ",
      "text/html": "<div>\n<style scoped>\n    .dataframe tbody tr th:only-of-type {\n        vertical-align: middle;\n    }\n\n    .dataframe tbody tr th {\n        vertical-align: top;\n    }\n\n    .dataframe thead th {\n        text-align: right;\n    }\n</style>\n<table border=\"1\" class=\"dataframe\">\n  <thead>\n    <tr style=\"text-align: right;\">\n      <th></th>\n      <th>id</th>\n      <th>name</th>\n      <th>group_name</th>\n      <th>manual_match</th>\n      <th>category_raw_name</th>\n      <th>product_type</th>\n      <th>batch</th>\n      <th>source</th>\n      <th>group_name_2</th>\n      <th>group_name_3</th>\n      <th>name_new</th>\n    </tr>\n  </thead>\n  <tbody>\n    <tr>\n      <th>0</th>\n      <td>d1c99588-e41f-4243-94ba-fc0e9bbb76db</td>\n      <td>SPROCKET-IDLER-BS-IN-24T</td>\n      <td>205</td>\n      <td>steel, low-alloyed</td>\n      <td>steel and iron</td>\n      <td>material</td>\n      <td>batch_1</td>\n      <td>Borgwarner</td>\n      <td>NaN</td>\n      <td>NaN</td>\n      <td>NaN</td>\n    </tr>\n    <tr>\n      <th>1</th>\n      <td>7c606f14-a905-4692-8c02-4c4ccfb1e631</td>\n      <td>SPROCKET-IDLER-BS-IN-24T</td>\n      <td>205</td>\n      <td>steel, low-alloyed</td>\n      <td>steel and iron</td>\n      <td>material</td>\n      <td>batch_1</td>\n      <td>Borgwarner</td>\n      <td>NaN</td>\n      <td>NaN</td>\n      <td>NaN</td>\n    </tr>\n    <tr>\n      <th>2</th>\n      <td>7f35de78-808f-4d83-bf4b-e87a17391300</td>\n      <td>SPROCKET-IDLER-BS-IN-24T</td>\n      <td>205</td>\n      <td>steel, low-alloyed</td>\n      <td>steel and iron</td>\n      <td>material</td>\n      <td>batch_1</td>\n      <td>Borgwarner</td>\n      <td>NaN</td>\n      <td>NaN</td>\n      <td>NaN</td>\n    </tr>\n    <tr>\n      <th>3</th>\n      <td>8e26c69c-ac8f-4939-9b6f-1d460339e5b5</td>\n      <td>SPROCKET-IDLER-BS-IN-24T</td>\n      <td>205</td>\n      <td>steel, low-alloyed</td>\n      <td>steel and iron</td>\n      <td>material</td>\n      <td>batch_1</td>\n      <td>Borgwarner</td>\n      <td>NaN</td>\n      <td>NaN</td>\n      <td>NaN</td>\n    </tr>\n    <tr>\n      <th>4</th>\n      <td>c03376a8-1e86-4bc9-a2ed-6c3a83325ebf</td>\n      <td>CHANGAN H16EB CRANKSPROCKET</td>\n      <td>205</td>\n      <td>steel, low-alloyed</td>\n      <td>steel and iron</td>\n      <td>material</td>\n      <td>batch_1</td>\n      <td>Borgwarner</td>\n      <td>NaN</td>\n      <td>NaN</td>\n      <td>NaN</td>\n    </tr>\n    <tr>\n      <th>5</th>\n      <td>63a9ae9b-1360-4951-a528-005555fe9feb</td>\n      <td>ASM - OUTPUT SHAFT</td>\n      <td>MR</td>\n      <td>steel, low-alloyed</td>\n      <td>steel and iron</td>\n      <td>material</td>\n      <td>batch_1</td>\n      <td>Borgwarner</td>\n      <td>NaN</td>\n      <td>NaN</td>\n      <td>NaN</td>\n    </tr>\n    <tr>\n      <th>6</th>\n      <td>f8a56ed9-eccc-49eb-99ae-91c36a7de77f</td>\n      <td>PISTON, TWO-STEP</td>\n      <td>19</td>\n      <td>steel, low-alloyed</td>\n      <td>steel and iron</td>\n      <td>material</td>\n      <td>batch_1</td>\n      <td>Borgwarner</td>\n      <td>NaN</td>\n      <td>NaN</td>\n      <td>NaN</td>\n    </tr>\n    <tr>\n      <th>7</th>\n      <td>626cae73-09b6-4b2a-bbef-4fa038095385</td>\n      <td>PISTON, TWO-STEP</td>\n      <td>79</td>\n      <td>steel, low-alloyed</td>\n      <td>steel and iron</td>\n      <td>material</td>\n      <td>batch_1</td>\n      <td>Borgwarner</td>\n      <td>NaN</td>\n      <td>NaN</td>\n      <td>NaN</td>\n    </tr>\n    <tr>\n      <th>8</th>\n      <td>13035518-d823-4f62-8648-b915913f9d1c</td>\n      <td>Screw-Joint</td>\n      <td>109</td>\n      <td>steel, low-alloyed</td>\n      <td>steel and iron</td>\n      <td>material</td>\n      <td>batch_1</td>\n      <td>Borgwarner</td>\n      <td>NaN</td>\n      <td>NaN</td>\n      <td>NaN</td>\n    </tr>\n    <tr>\n      <th>9</th>\n      <td>27611270-8a43-453d-82fb-eb9973a25ef3</td>\n      <td>Piston-OC</td>\n      <td>96</td>\n      <td>steel, low-alloyed</td>\n      <td>steel and iron</td>\n      <td>material</td>\n      <td>batch_1</td>\n      <td>Borgwarner</td>\n      <td>NaN</td>\n      <td>NaN</td>\n      <td>NaN</td>\n    </tr>\n  </tbody>\n</table>\n</div>"
     },
     "execution_count": 15,
     "metadata": {},
     "output_type": "execute_result"
    }
   ],
   "source": [
    "pd.merge(new_df_clients_data, df_test, left_on=\"id\", right_on=\"id\", how='left')"
   ],
   "metadata": {
    "collapsed": false,
    "pycharm": {
     "name": "#%%\n"
    }
   }
  },
  {
   "cell_type": "code",
   "execution_count": 7,
   "outputs": [],
   "source": [
    "def concat_columns_combinations(df_name: pd.DataFrame, delimiter: str = ', ') -> List[tuple]:\n",
    "    \"\"\"\n",
    "    Concatenate the values of the name, group_name_1, and group_name_2 columns in all possible combinations\n",
    "    param df_name: dataframe name\n",
    "    param delimiter: delimiter to concat the column values\n",
    "    return: unique combinations for each\n",
    "    \"\"\"\n",
    "    # Create an empty list to store the concatenated values\n",
    "    concatenated = []\n",
    "    seen = set()\n",
    "    result = []\n",
    "    df_name = df_name.fillna('')\n",
    "    # Iterate over the rows of the dataframe\n",
    "    for _, row in df_name.iterrows():\n",
    "        # Concatenate the values of the name, group_name_1, and group_name_2 columns\n",
    "        concat_string_1 = f\"{row['name']}{delimiter}{row['group_name']}{delimiter}{row['group_name_2']}\"\n",
    "        concat_string_2 = f\"{row['name']}{delimiter}{row['group_name_2']}{delimiter}{row['group_name']}\"\n",
    "        concat_string_3 = f\"{row['group_name']}{delimiter}{row['name']}{delimiter}{row['group_name_2']}\"\n",
    "        concat_string_4 = f\"{row['group_name']}{delimiter}{row['group_name_2']}{delimiter}{row['name']}\"\n",
    "        concat_string_5 = f\"{row['group_name_2']}{delimiter}{row['name']}{delimiter}{row['group_name']}\"\n",
    "        concat_string_6 = f\"{row['group_name_2']}{delimiter}{row['group_name']}{delimiter}{row['name']}\"\n",
    "\n",
    "        # Remove any extra whitespace\n",
    "        cleaned_string_1 = ' '.join(concat_string_1.split())\n",
    "        cleaned_string_2 = ' '.join(concat_string_2.split())\n",
    "        cleaned_string_3 = ' '.join(concat_string_3.split())\n",
    "        cleaned_string_4 = ' '.join(concat_string_4.split())\n",
    "        cleaned_string_5 = ' '.join(concat_string_5.split())\n",
    "        cleaned_string_6 = ' '.join(concat_string_6.split())\n",
    "\n",
    "        # uuid for the row\n",
    "        row_uuid = f\"{row['id']}\"\n",
    "\n",
    "        # Add the cleaned strings to the list of concatenated values as tuples with uuid as index\n",
    "        concatenated.extend(\n",
    "            [(row_uuid, cleaned_string_1), (row_uuid, cleaned_string_2), (row_uuid, cleaned_string_3),\n",
    "             (row_uuid, cleaned_string_4), (row_uuid, cleaned_string_5), (row_uuid, cleaned_string_6)])\n",
    "    #remove the duplicates in the combinations\n",
    "    for tup in concatenated:\n",
    "        if tup[1] not in seen:\n",
    "            result.append(tup)\n",
    "            seen.add(tup[1])\n",
    "    # Return the list of concatenated strings as tuples\n",
    "    return result"
   ],
   "metadata": {
    "collapsed": false,
    "pycharm": {
     "name": "#%%\n"
    }
   }
  },
  {
   "cell_type": "code",
   "execution_count": 9,
   "outputs": [],
   "source": [
    "new_train_data= concat_columns_combinations(df_name=df_clients_data[:10], delimiter= \" \")"
   ],
   "metadata": {
    "collapsed": false,
    "pycharm": {
     "name": "#%%\n"
    }
   }
  },
  {
   "cell_type": "code",
   "execution_count": 10,
   "outputs": [],
   "source": [
    "df_test = pd.DataFrame(new_train_data, columns=['id', 'name_new'])\n"
   ],
   "metadata": {
    "collapsed": false,
    "pycharm": {
     "name": "#%%\n"
    }
   }
  },
  {
   "cell_type": "code",
   "execution_count": 57,
   "outputs": [
    {
     "data": {
      "text/plain": "                                      id                         name_new\n0   2d104af0-138a-4476-891a-e8db1e6017cb     SPROCKET-IDLER-BS-IN-24T 205\n1   2d104af0-138a-4476-891a-e8db1e6017cb     205 SPROCKET-IDLER-BS-IN-24T\n2   cf6da02c-acda-410c-9884-cd762069f37f  CHANGAN H16EB CRANKSPROCKET 205\n3   cf6da02c-acda-410c-9884-cd762069f37f  205 CHANGAN H16EB CRANKSPROCKET\n4   88fb3c88-cd5b-496c-855a-f1b450d616f6            ASM - OUTPUT SHAFT MR\n5   88fb3c88-cd5b-496c-855a-f1b450d616f6            MR ASM - OUTPUT SHAFT\n6   bb808546-46a1-4832-bbf6-1a76b4dd19a2              PISTON, TWO-STEP 19\n7   bb808546-46a1-4832-bbf6-1a76b4dd19a2              19 PISTON, TWO-STEP\n8   0b77842b-cf57-4912-b975-4600bbdd696d              PISTON, TWO-STEP 79\n9   0b77842b-cf57-4912-b975-4600bbdd696d              79 PISTON, TWO-STEP\n10  b6c085db-a97d-4d24-9237-edfdcea6d668                  Screw-Joint 109\n11  b6c085db-a97d-4d24-9237-edfdcea6d668                  109 Screw-Joint\n12  3ede68c4-ee1b-4e02-831f-e78b3653a490                     Piston-OC 96\n13  3ede68c4-ee1b-4e02-831f-e78b3653a490                     96 Piston-OC",
      "text/html": "<div>\n<style scoped>\n    .dataframe tbody tr th:only-of-type {\n        vertical-align: middle;\n    }\n\n    .dataframe tbody tr th {\n        vertical-align: top;\n    }\n\n    .dataframe thead th {\n        text-align: right;\n    }\n</style>\n<table border=\"1\" class=\"dataframe\">\n  <thead>\n    <tr style=\"text-align: right;\">\n      <th></th>\n      <th>id</th>\n      <th>name_new</th>\n    </tr>\n  </thead>\n  <tbody>\n    <tr>\n      <th>0</th>\n      <td>2d104af0-138a-4476-891a-e8db1e6017cb</td>\n      <td>SPROCKET-IDLER-BS-IN-24T 205</td>\n    </tr>\n    <tr>\n      <th>1</th>\n      <td>2d104af0-138a-4476-891a-e8db1e6017cb</td>\n      <td>205 SPROCKET-IDLER-BS-IN-24T</td>\n    </tr>\n    <tr>\n      <th>2</th>\n      <td>cf6da02c-acda-410c-9884-cd762069f37f</td>\n      <td>CHANGAN H16EB CRANKSPROCKET 205</td>\n    </tr>\n    <tr>\n      <th>3</th>\n      <td>cf6da02c-acda-410c-9884-cd762069f37f</td>\n      <td>205 CHANGAN H16EB CRANKSPROCKET</td>\n    </tr>\n    <tr>\n      <th>4</th>\n      <td>88fb3c88-cd5b-496c-855a-f1b450d616f6</td>\n      <td>ASM - OUTPUT SHAFT MR</td>\n    </tr>\n    <tr>\n      <th>5</th>\n      <td>88fb3c88-cd5b-496c-855a-f1b450d616f6</td>\n      <td>MR ASM - OUTPUT SHAFT</td>\n    </tr>\n    <tr>\n      <th>6</th>\n      <td>bb808546-46a1-4832-bbf6-1a76b4dd19a2</td>\n      <td>PISTON, TWO-STEP 19</td>\n    </tr>\n    <tr>\n      <th>7</th>\n      <td>bb808546-46a1-4832-bbf6-1a76b4dd19a2</td>\n      <td>19 PISTON, TWO-STEP</td>\n    </tr>\n    <tr>\n      <th>8</th>\n      <td>0b77842b-cf57-4912-b975-4600bbdd696d</td>\n      <td>PISTON, TWO-STEP 79</td>\n    </tr>\n    <tr>\n      <th>9</th>\n      <td>0b77842b-cf57-4912-b975-4600bbdd696d</td>\n      <td>79 PISTON, TWO-STEP</td>\n    </tr>\n    <tr>\n      <th>10</th>\n      <td>b6c085db-a97d-4d24-9237-edfdcea6d668</td>\n      <td>Screw-Joint 109</td>\n    </tr>\n    <tr>\n      <th>11</th>\n      <td>b6c085db-a97d-4d24-9237-edfdcea6d668</td>\n      <td>109 Screw-Joint</td>\n    </tr>\n    <tr>\n      <th>12</th>\n      <td>3ede68c4-ee1b-4e02-831f-e78b3653a490</td>\n      <td>Piston-OC 96</td>\n    </tr>\n    <tr>\n      <th>13</th>\n      <td>3ede68c4-ee1b-4e02-831f-e78b3653a490</td>\n      <td>96 Piston-OC</td>\n    </tr>\n  </tbody>\n</table>\n</div>"
     },
     "execution_count": 57,
     "metadata": {},
     "output_type": "execute_result"
    }
   ],
   "source": [
    "df_test"
   ],
   "metadata": {
    "collapsed": false,
    "pycharm": {
     "name": "#%%\n"
    }
   }
  },
  {
   "cell_type": "code",
   "execution_count": 58,
   "outputs": [],
   "source": [
    "df_test['id'] = df_test['id'].str.strip()"
   ],
   "metadata": {
    "collapsed": false,
    "pycharm": {
     "name": "#%%\n"
    }
   }
  },
  {
   "cell_type": "code",
   "execution_count": 51,
   "outputs": [],
   "source": [
    "new_df_clients_data = df_clients_data[:10]"
   ],
   "metadata": {
    "collapsed": false,
    "pycharm": {
     "name": "#%%\n"
    }
   }
  },
  {
   "cell_type": "code",
   "execution_count": 59,
   "outputs": [
    {
     "name": "stderr",
     "output_type": "stream",
     "text": [
      "/var/folders/jg/n5td8bv542j42d1t7_cyqkwc0000gn/T/ipykernel_3857/3177479900.py:1: SettingWithCopyWarning: \n",
      "A value is trying to be set on a copy of a slice from a DataFrame.\n",
      "Try using .loc[row_indexer,col_indexer] = value instead\n",
      "\n",
      "See the caveats in the documentation: https://pandas.pydata.org/pandas-docs/stable/user_guide/indexing.html#returning-a-view-versus-a-copy\n",
      "  new_df_clients_data['id'] = new_df_clients_data['id'].str.strip()\n"
     ]
    }
   ],
   "source": [
    "new_df_clients_data['id'] = new_df_clients_data['id'].str.strip()"
   ],
   "metadata": {
    "collapsed": false,
    "pycharm": {
     "name": "#%%\n"
    }
   }
  },
  {
   "cell_type": "code",
   "execution_count": null,
   "outputs": [],
   "source": [],
   "metadata": {
    "collapsed": false,
    "pycharm": {
     "name": "#%%\n"
    }
   }
  },
  {
   "cell_type": "code",
   "execution_count": 86,
   "outputs": [],
   "source": [
    "merged_df_new = pd.merge(df_test, new_df_clients_data[[\"id\",\"manual_match\",\"category_raw_name\"]], left_on=\"id\", right_on=\"id\", how='left')\n",
    "\n",
    "# # Drop the duplicate column and rename the output column\n",
    "# merged_df_new = merged_df_new.drop(col2, axis=1).rename(columns={output_col: f'{output_col}'})"
   ],
   "metadata": {
    "collapsed": false,
    "pycharm": {
     "name": "#%%\n"
    }
   }
  },
  {
   "cell_type": "code",
   "execution_count": 87,
   "outputs": [
    {
     "data": {
      "text/plain": "                                      id                         name_new  \\\n0   10dd6975-49d3-4593-89a7-486c66fa68fa     SPROCKET-IDLER-BS-IN-24T 205   \n1   10dd6975-49d3-4593-89a7-486c66fa68fa     205 SPROCKET-IDLER-BS-IN-24T   \n2   37a1cabc-eaca-4e9d-a186-78c2d2864133  CHANGAN H16EB CRANKSPROCKET 205   \n3   37a1cabc-eaca-4e9d-a186-78c2d2864133  205 CHANGAN H16EB CRANKSPROCKET   \n4   dbd2764c-d722-474d-b1b2-76cb9bee7dcc            ASM - OUTPUT SHAFT MR   \n5   dbd2764c-d722-474d-b1b2-76cb9bee7dcc            MR ASM - OUTPUT SHAFT   \n6   51e5f525-77c5-4805-854f-d61d0a656776              PISTON, TWO-STEP 19   \n7   51e5f525-77c5-4805-854f-d61d0a656776              19 PISTON, TWO-STEP   \n8   15abf81e-cc5a-4f08-a321-3ba87756fc98              PISTON, TWO-STEP 79   \n9   15abf81e-cc5a-4f08-a321-3ba87756fc98              79 PISTON, TWO-STEP   \n10  bb78a6c3-a127-4506-b31a-72d2298071aa                  Screw-Joint 109   \n11  bb78a6c3-a127-4506-b31a-72d2298071aa                  109 Screw-Joint   \n12  5756d79a-fe5a-4028-a7b8-734e5a82abea                     Piston-OC 96   \n13  5756d79a-fe5a-4028-a7b8-734e5a82abea                     96 Piston-OC   \n\n   manual_match category_raw_name  \n0           NaN               NaN  \n1           NaN               NaN  \n2           NaN               NaN  \n3           NaN               NaN  \n4           NaN               NaN  \n5           NaN               NaN  \n6           NaN               NaN  \n7           NaN               NaN  \n8           NaN               NaN  \n9           NaN               NaN  \n10          NaN               NaN  \n11          NaN               NaN  \n12          NaN               NaN  \n13          NaN               NaN  ",
      "text/html": "<div>\n<style scoped>\n    .dataframe tbody tr th:only-of-type {\n        vertical-align: middle;\n    }\n\n    .dataframe tbody tr th {\n        vertical-align: top;\n    }\n\n    .dataframe thead th {\n        text-align: right;\n    }\n</style>\n<table border=\"1\" class=\"dataframe\">\n  <thead>\n    <tr style=\"text-align: right;\">\n      <th></th>\n      <th>id</th>\n      <th>name_new</th>\n      <th>manual_match</th>\n      <th>category_raw_name</th>\n    </tr>\n  </thead>\n  <tbody>\n    <tr>\n      <th>0</th>\n      <td>10dd6975-49d3-4593-89a7-486c66fa68fa</td>\n      <td>SPROCKET-IDLER-BS-IN-24T 205</td>\n      <td>NaN</td>\n      <td>NaN</td>\n    </tr>\n    <tr>\n      <th>1</th>\n      <td>10dd6975-49d3-4593-89a7-486c66fa68fa</td>\n      <td>205 SPROCKET-IDLER-BS-IN-24T</td>\n      <td>NaN</td>\n      <td>NaN</td>\n    </tr>\n    <tr>\n      <th>2</th>\n      <td>37a1cabc-eaca-4e9d-a186-78c2d2864133</td>\n      <td>CHANGAN H16EB CRANKSPROCKET 205</td>\n      <td>NaN</td>\n      <td>NaN</td>\n    </tr>\n    <tr>\n      <th>3</th>\n      <td>37a1cabc-eaca-4e9d-a186-78c2d2864133</td>\n      <td>205 CHANGAN H16EB CRANKSPROCKET</td>\n      <td>NaN</td>\n      <td>NaN</td>\n    </tr>\n    <tr>\n      <th>4</th>\n      <td>dbd2764c-d722-474d-b1b2-76cb9bee7dcc</td>\n      <td>ASM - OUTPUT SHAFT MR</td>\n      <td>NaN</td>\n      <td>NaN</td>\n    </tr>\n    <tr>\n      <th>5</th>\n      <td>dbd2764c-d722-474d-b1b2-76cb9bee7dcc</td>\n      <td>MR ASM - OUTPUT SHAFT</td>\n      <td>NaN</td>\n      <td>NaN</td>\n    </tr>\n    <tr>\n      <th>6</th>\n      <td>51e5f525-77c5-4805-854f-d61d0a656776</td>\n      <td>PISTON, TWO-STEP 19</td>\n      <td>NaN</td>\n      <td>NaN</td>\n    </tr>\n    <tr>\n      <th>7</th>\n      <td>51e5f525-77c5-4805-854f-d61d0a656776</td>\n      <td>19 PISTON, TWO-STEP</td>\n      <td>NaN</td>\n      <td>NaN</td>\n    </tr>\n    <tr>\n      <th>8</th>\n      <td>15abf81e-cc5a-4f08-a321-3ba87756fc98</td>\n      <td>PISTON, TWO-STEP 79</td>\n      <td>NaN</td>\n      <td>NaN</td>\n    </tr>\n    <tr>\n      <th>9</th>\n      <td>15abf81e-cc5a-4f08-a321-3ba87756fc98</td>\n      <td>79 PISTON, TWO-STEP</td>\n      <td>NaN</td>\n      <td>NaN</td>\n    </tr>\n    <tr>\n      <th>10</th>\n      <td>bb78a6c3-a127-4506-b31a-72d2298071aa</td>\n      <td>Screw-Joint 109</td>\n      <td>NaN</td>\n      <td>NaN</td>\n    </tr>\n    <tr>\n      <th>11</th>\n      <td>bb78a6c3-a127-4506-b31a-72d2298071aa</td>\n      <td>109 Screw-Joint</td>\n      <td>NaN</td>\n      <td>NaN</td>\n    </tr>\n    <tr>\n      <th>12</th>\n      <td>5756d79a-fe5a-4028-a7b8-734e5a82abea</td>\n      <td>Piston-OC 96</td>\n      <td>NaN</td>\n      <td>NaN</td>\n    </tr>\n    <tr>\n      <th>13</th>\n      <td>5756d79a-fe5a-4028-a7b8-734e5a82abea</td>\n      <td>96 Piston-OC</td>\n      <td>NaN</td>\n      <td>NaN</td>\n    </tr>\n  </tbody>\n</table>\n</div>"
     },
     "execution_count": 87,
     "metadata": {},
     "output_type": "execute_result"
    }
   ],
   "source": [
    "merged_df_new"
   ],
   "metadata": {
    "collapsed": false,
    "pycharm": {
     "name": "#%%\n"
    }
   }
  },
  {
   "cell_type": "code",
   "execution_count": 62,
   "outputs": [
    {
     "data": {
      "text/plain": "   id                         name group_name        manual_match  \\\n0 NaN     SPROCKET-IDLER-BS-IN-24T        205  steel, low-alloyed   \n1 NaN     SPROCKET-IDLER-BS-IN-24T        205  steel, low-alloyed   \n2 NaN     SPROCKET-IDLER-BS-IN-24T        205  steel, low-alloyed   \n3 NaN     SPROCKET-IDLER-BS-IN-24T        205  steel, low-alloyed   \n4 NaN  CHANGAN H16EB CRANKSPROCKET        205  steel, low-alloyed   \n5 NaN           ASM - OUTPUT SHAFT         MR  steel, low-alloyed   \n6 NaN             PISTON, TWO-STEP         19  steel, low-alloyed   \n7 NaN             PISTON, TWO-STEP         79  steel, low-alloyed   \n8 NaN                  Screw-Joint        109  steel, low-alloyed   \n9 NaN                    Piston-OC         96  steel, low-alloyed   \n\n  category_raw_name product_type    batch      source group_name_2  \\\n0    steel and iron     material  batch_1  Borgwarner          NaN   \n1    steel and iron     material  batch_1  Borgwarner          NaN   \n2    steel and iron     material  batch_1  Borgwarner          NaN   \n3    steel and iron     material  batch_1  Borgwarner          NaN   \n4    steel and iron     material  batch_1  Borgwarner          NaN   \n5    steel and iron     material  batch_1  Borgwarner          NaN   \n6    steel and iron     material  batch_1  Borgwarner          NaN   \n7    steel and iron     material  batch_1  Borgwarner          NaN   \n8    steel and iron     material  batch_1  Borgwarner          NaN   \n9    steel and iron     material  batch_1  Borgwarner          NaN   \n\n  group_name_3  \n0          NaN  \n1          NaN  \n2          NaN  \n3          NaN  \n4          NaN  \n5          NaN  \n6          NaN  \n7          NaN  \n8          NaN  \n9          NaN  ",
      "text/html": "<div>\n<style scoped>\n    .dataframe tbody tr th:only-of-type {\n        vertical-align: middle;\n    }\n\n    .dataframe tbody tr th {\n        vertical-align: top;\n    }\n\n    .dataframe thead th {\n        text-align: right;\n    }\n</style>\n<table border=\"1\" class=\"dataframe\">\n  <thead>\n    <tr style=\"text-align: right;\">\n      <th></th>\n      <th>id</th>\n      <th>name</th>\n      <th>group_name</th>\n      <th>manual_match</th>\n      <th>category_raw_name</th>\n      <th>product_type</th>\n      <th>batch</th>\n      <th>source</th>\n      <th>group_name_2</th>\n      <th>group_name_3</th>\n    </tr>\n  </thead>\n  <tbody>\n    <tr>\n      <th>0</th>\n      <td>NaN</td>\n      <td>SPROCKET-IDLER-BS-IN-24T</td>\n      <td>205</td>\n      <td>steel, low-alloyed</td>\n      <td>steel and iron</td>\n      <td>material</td>\n      <td>batch_1</td>\n      <td>Borgwarner</td>\n      <td>NaN</td>\n      <td>NaN</td>\n    </tr>\n    <tr>\n      <th>1</th>\n      <td>NaN</td>\n      <td>SPROCKET-IDLER-BS-IN-24T</td>\n      <td>205</td>\n      <td>steel, low-alloyed</td>\n      <td>steel and iron</td>\n      <td>material</td>\n      <td>batch_1</td>\n      <td>Borgwarner</td>\n      <td>NaN</td>\n      <td>NaN</td>\n    </tr>\n    <tr>\n      <th>2</th>\n      <td>NaN</td>\n      <td>SPROCKET-IDLER-BS-IN-24T</td>\n      <td>205</td>\n      <td>steel, low-alloyed</td>\n      <td>steel and iron</td>\n      <td>material</td>\n      <td>batch_1</td>\n      <td>Borgwarner</td>\n      <td>NaN</td>\n      <td>NaN</td>\n    </tr>\n    <tr>\n      <th>3</th>\n      <td>NaN</td>\n      <td>SPROCKET-IDLER-BS-IN-24T</td>\n      <td>205</td>\n      <td>steel, low-alloyed</td>\n      <td>steel and iron</td>\n      <td>material</td>\n      <td>batch_1</td>\n      <td>Borgwarner</td>\n      <td>NaN</td>\n      <td>NaN</td>\n    </tr>\n    <tr>\n      <th>4</th>\n      <td>NaN</td>\n      <td>CHANGAN H16EB CRANKSPROCKET</td>\n      <td>205</td>\n      <td>steel, low-alloyed</td>\n      <td>steel and iron</td>\n      <td>material</td>\n      <td>batch_1</td>\n      <td>Borgwarner</td>\n      <td>NaN</td>\n      <td>NaN</td>\n    </tr>\n    <tr>\n      <th>5</th>\n      <td>NaN</td>\n      <td>ASM - OUTPUT SHAFT</td>\n      <td>MR</td>\n      <td>steel, low-alloyed</td>\n      <td>steel and iron</td>\n      <td>material</td>\n      <td>batch_1</td>\n      <td>Borgwarner</td>\n      <td>NaN</td>\n      <td>NaN</td>\n    </tr>\n    <tr>\n      <th>6</th>\n      <td>NaN</td>\n      <td>PISTON, TWO-STEP</td>\n      <td>19</td>\n      <td>steel, low-alloyed</td>\n      <td>steel and iron</td>\n      <td>material</td>\n      <td>batch_1</td>\n      <td>Borgwarner</td>\n      <td>NaN</td>\n      <td>NaN</td>\n    </tr>\n    <tr>\n      <th>7</th>\n      <td>NaN</td>\n      <td>PISTON, TWO-STEP</td>\n      <td>79</td>\n      <td>steel, low-alloyed</td>\n      <td>steel and iron</td>\n      <td>material</td>\n      <td>batch_1</td>\n      <td>Borgwarner</td>\n      <td>NaN</td>\n      <td>NaN</td>\n    </tr>\n    <tr>\n      <th>8</th>\n      <td>NaN</td>\n      <td>Screw-Joint</td>\n      <td>109</td>\n      <td>steel, low-alloyed</td>\n      <td>steel and iron</td>\n      <td>material</td>\n      <td>batch_1</td>\n      <td>Borgwarner</td>\n      <td>NaN</td>\n      <td>NaN</td>\n    </tr>\n    <tr>\n      <th>9</th>\n      <td>NaN</td>\n      <td>Piston-OC</td>\n      <td>96</td>\n      <td>steel, low-alloyed</td>\n      <td>steel and iron</td>\n      <td>material</td>\n      <td>batch_1</td>\n      <td>Borgwarner</td>\n      <td>NaN</td>\n      <td>NaN</td>\n    </tr>\n  </tbody>\n</table>\n</div>"
     },
     "execution_count": 62,
     "metadata": {},
     "output_type": "execute_result"
    }
   ],
   "source": [
    "new_df_clients_data"
   ],
   "metadata": {
    "collapsed": false,
    "pycharm": {
     "name": "#%%\n"
    }
   }
  },
  {
   "cell_type": "code",
   "execution_count": 46,
   "outputs": [],
   "source": [
    "master_df = concat_columns_combinations(df_name=df_clients_data, delimiter= \" \")"
   ],
   "metadata": {
    "collapsed": false,
    "pycharm": {
     "name": "#%%\n"
    }
   }
  },
  {
   "cell_type": "code",
   "execution_count": 47,
   "outputs": [
    {
     "data": {
      "text/plain": "                                          id  \\\n0       d1c99588-e41f-4243-94ba-fc0e9bbb76db   \n1       d1c99588-e41f-4243-94ba-fc0e9bbb76db   \n2       c03376a8-1e86-4bc9-a2ed-6c3a83325ebf   \n3       c03376a8-1e86-4bc9-a2ed-6c3a83325ebf   \n4       63a9ae9b-1360-4951-a528-005555fe9feb   \n...                                      ...   \n189500  cbec2000-56e2-4fc9-98b5-cfe86dddb079   \n189501  cbec2000-56e2-4fc9-98b5-cfe86dddb079   \n189502  cbec2000-56e2-4fc9-98b5-cfe86dddb079   \n189503  cbec2000-56e2-4fc9-98b5-cfe86dddb079   \n189504  cbec2000-56e2-4fc9-98b5-cfe86dddb079   \n\n                                                 name_new  \\\n0                            SPROCKET-IDLER-BS-IN-24T 205   \n1                            205 SPROCKET-IDLER-BS-IN-24T   \n2                         CHANGAN H16EB CRANKSPROCKET 205   \n3                         205 CHANGAN H16EB CRANKSPROCKET   \n4                                   ASM - OUTPUT SHAFT MR   \n...                                                   ...   \n189500  modifiziertes Wasserglas 01030000 - Hilfsstoff...   \n189501  01000000 - Chemikalien modifiziertes Wassergla...   \n189502  01000000 - Chemikalien 01030000 - Hilfsstoffe ...   \n189503  01030000 - Hilfsstoffe Deinkingprozess modifiz...   \n189504  01030000 - Hilfsstoffe Deinkingprozess 0100000...   \n\n                  manual_match category_raw_name      source  \n0           steel, low-alloyed    steel and iron  Borgwarner  \n1           steel, low-alloyed    steel and iron  Borgwarner  \n2           steel, low-alloyed    steel and iron  Borgwarner  \n3           steel, low-alloyed    steel and iron  Borgwarner  \n4           steel, low-alloyed    steel and iron  Borgwarner  \n...                        ...               ...         ...  \n189500  sodium silicate, solid         chemicals   Steinbeis  \n189501  sodium silicate, solid         chemicals   Steinbeis  \n189502  sodium silicate, solid         chemicals   Steinbeis  \n189503  sodium silicate, solid         chemicals   Steinbeis  \n189504  sodium silicate, solid         chemicals   Steinbeis  \n\n[189505 rows x 5 columns]",
      "text/html": "<div>\n<style scoped>\n    .dataframe tbody tr th:only-of-type {\n        vertical-align: middle;\n    }\n\n    .dataframe tbody tr th {\n        vertical-align: top;\n    }\n\n    .dataframe thead th {\n        text-align: right;\n    }\n</style>\n<table border=\"1\" class=\"dataframe\">\n  <thead>\n    <tr style=\"text-align: right;\">\n      <th></th>\n      <th>id</th>\n      <th>name_new</th>\n      <th>manual_match</th>\n      <th>category_raw_name</th>\n      <th>source</th>\n    </tr>\n  </thead>\n  <tbody>\n    <tr>\n      <th>0</th>\n      <td>d1c99588-e41f-4243-94ba-fc0e9bbb76db</td>\n      <td>SPROCKET-IDLER-BS-IN-24T 205</td>\n      <td>steel, low-alloyed</td>\n      <td>steel and iron</td>\n      <td>Borgwarner</td>\n    </tr>\n    <tr>\n      <th>1</th>\n      <td>d1c99588-e41f-4243-94ba-fc0e9bbb76db</td>\n      <td>205 SPROCKET-IDLER-BS-IN-24T</td>\n      <td>steel, low-alloyed</td>\n      <td>steel and iron</td>\n      <td>Borgwarner</td>\n    </tr>\n    <tr>\n      <th>2</th>\n      <td>c03376a8-1e86-4bc9-a2ed-6c3a83325ebf</td>\n      <td>CHANGAN H16EB CRANKSPROCKET 205</td>\n      <td>steel, low-alloyed</td>\n      <td>steel and iron</td>\n      <td>Borgwarner</td>\n    </tr>\n    <tr>\n      <th>3</th>\n      <td>c03376a8-1e86-4bc9-a2ed-6c3a83325ebf</td>\n      <td>205 CHANGAN H16EB CRANKSPROCKET</td>\n      <td>steel, low-alloyed</td>\n      <td>steel and iron</td>\n      <td>Borgwarner</td>\n    </tr>\n    <tr>\n      <th>4</th>\n      <td>63a9ae9b-1360-4951-a528-005555fe9feb</td>\n      <td>ASM - OUTPUT SHAFT MR</td>\n      <td>steel, low-alloyed</td>\n      <td>steel and iron</td>\n      <td>Borgwarner</td>\n    </tr>\n    <tr>\n      <th>...</th>\n      <td>...</td>\n      <td>...</td>\n      <td>...</td>\n      <td>...</td>\n      <td>...</td>\n    </tr>\n    <tr>\n      <th>189500</th>\n      <td>cbec2000-56e2-4fc9-98b5-cfe86dddb079</td>\n      <td>modifiziertes Wasserglas 01030000 - Hilfsstoff...</td>\n      <td>sodium silicate, solid</td>\n      <td>chemicals</td>\n      <td>Steinbeis</td>\n    </tr>\n    <tr>\n      <th>189501</th>\n      <td>cbec2000-56e2-4fc9-98b5-cfe86dddb079</td>\n      <td>01000000 - Chemikalien modifiziertes Wassergla...</td>\n      <td>sodium silicate, solid</td>\n      <td>chemicals</td>\n      <td>Steinbeis</td>\n    </tr>\n    <tr>\n      <th>189502</th>\n      <td>cbec2000-56e2-4fc9-98b5-cfe86dddb079</td>\n      <td>01000000 - Chemikalien 01030000 - Hilfsstoffe ...</td>\n      <td>sodium silicate, solid</td>\n      <td>chemicals</td>\n      <td>Steinbeis</td>\n    </tr>\n    <tr>\n      <th>189503</th>\n      <td>cbec2000-56e2-4fc9-98b5-cfe86dddb079</td>\n      <td>01030000 - Hilfsstoffe Deinkingprozess modifiz...</td>\n      <td>sodium silicate, solid</td>\n      <td>chemicals</td>\n      <td>Steinbeis</td>\n    </tr>\n    <tr>\n      <th>189504</th>\n      <td>cbec2000-56e2-4fc9-98b5-cfe86dddb079</td>\n      <td>01030000 - Hilfsstoffe Deinkingprozess 0100000...</td>\n      <td>sodium silicate, solid</td>\n      <td>chemicals</td>\n      <td>Steinbeis</td>\n    </tr>\n  </tbody>\n</table>\n<p>189505 rows × 5 columns</p>\n</div>"
     },
     "execution_count": 47,
     "metadata": {},
     "output_type": "execute_result"
    }
   ],
   "source": [
    "master_df"
   ],
   "metadata": {
    "collapsed": false,
    "pycharm": {
     "name": "#%%\n"
    }
   }
  },
  {
   "cell_type": "code",
   "execution_count": 58,
   "outputs": [
    {
     "ename": "KeyError",
     "evalue": "'product_raw_name'",
     "output_type": "error",
     "traceback": [
      "\u001B[0;31m---------------------------------------------------------------------------\u001B[0m",
      "\u001B[0;31mKeyError\u001B[0m                                  Traceback (most recent call last)",
      "\u001B[0;32m/var/folders/jg/n5td8bv542j42d1t7_cyqkwc0000gn/T/ipykernel_668/3716478155.py\u001B[0m in \u001B[0;36m<module>\u001B[0;34m\u001B[0m\n\u001B[0;32m----> 1\u001B[0;31m \u001B[0mmerged_df_new\u001B[0m \u001B[0;34m=\u001B[0m \u001B[0mpd\u001B[0m\u001B[0;34m.\u001B[0m\u001B[0mmerge\u001B[0m\u001B[0;34m(\u001B[0m\u001B[0mmaster_df\u001B[0m\u001B[0;34m,\u001B[0m \u001B[0mdf_eco\u001B[0m\u001B[0;34m[\u001B[0m\u001B[0;34m[\u001B[0m\u001B[0;34m'negative_1'\u001B[0m\u001B[0;34m,\u001B[0m\u001B[0;34m'negative_2'\u001B[0m\u001B[0;34m,\u001B[0m \u001B[0;34m'negative_3'\u001B[0m\u001B[0;34m,\u001B[0m \u001B[0;34m'negative_4'\u001B[0m\u001B[0;34m,\u001B[0m \u001B[0;34m'negative_5'\u001B[0m\u001B[0;34m,\u001B[0m \u001B[0;34m'negative_6'\u001B[0m\u001B[0;34m]\u001B[0m\u001B[0;34m]\u001B[0m\u001B[0;34m,\u001B[0m \u001B[0mleft_on\u001B[0m\u001B[0;34m=\u001B[0m\u001B[0;34m\"manual_match\"\u001B[0m\u001B[0;34m,\u001B[0m \u001B[0mright_on\u001B[0m\u001B[0;34m=\u001B[0m\u001B[0;34m\"product_raw_name\"\u001B[0m\u001B[0;34m,\u001B[0m \u001B[0mhow\u001B[0m\u001B[0;34m=\u001B[0m\u001B[0;34m'left'\u001B[0m\u001B[0;34m)\u001B[0m\u001B[0;34m\u001B[0m\u001B[0;34m\u001B[0m\u001B[0m\n\u001B[0m",
      "\u001B[0;32m~/madworks/env/lib/python3.8/site-packages/pandas/core/reshape/merge.py\u001B[0m in \u001B[0;36mmerge\u001B[0;34m(left, right, how, on, left_on, right_on, left_index, right_index, sort, suffixes, copy, indicator, validate)\u001B[0m\n\u001B[1;32m    104\u001B[0m     \u001B[0mvalidate\u001B[0m\u001B[0;34m:\u001B[0m \u001B[0mstr\u001B[0m \u001B[0;34m|\u001B[0m \u001B[0;32mNone\u001B[0m \u001B[0;34m=\u001B[0m \u001B[0;32mNone\u001B[0m\u001B[0;34m,\u001B[0m\u001B[0;34m\u001B[0m\u001B[0;34m\u001B[0m\u001B[0m\n\u001B[1;32m    105\u001B[0m ) -> DataFrame:\n\u001B[0;32m--> 106\u001B[0;31m     op = _MergeOperation(\n\u001B[0m\u001B[1;32m    107\u001B[0m         \u001B[0mleft\u001B[0m\u001B[0;34m,\u001B[0m\u001B[0;34m\u001B[0m\u001B[0;34m\u001B[0m\u001B[0m\n\u001B[1;32m    108\u001B[0m         \u001B[0mright\u001B[0m\u001B[0;34m,\u001B[0m\u001B[0;34m\u001B[0m\u001B[0;34m\u001B[0m\u001B[0m\n",
      "\u001B[0;32m~/madworks/env/lib/python3.8/site-packages/pandas/core/reshape/merge.py\u001B[0m in \u001B[0;36m__init__\u001B[0;34m(self, left, right, how, on, left_on, right_on, axis, left_index, right_index, sort, suffixes, copy, indicator, validate)\u001B[0m\n\u001B[1;32m    697\u001B[0m             \u001B[0mself\u001B[0m\u001B[0;34m.\u001B[0m\u001B[0mright_join_keys\u001B[0m\u001B[0;34m,\u001B[0m\u001B[0;34m\u001B[0m\u001B[0;34m\u001B[0m\u001B[0m\n\u001B[1;32m    698\u001B[0m             \u001B[0mself\u001B[0m\u001B[0;34m.\u001B[0m\u001B[0mjoin_names\u001B[0m\u001B[0;34m,\u001B[0m\u001B[0;34m\u001B[0m\u001B[0;34m\u001B[0m\u001B[0m\n\u001B[0;32m--> 699\u001B[0;31m         ) = self._get_merge_keys()\n\u001B[0m\u001B[1;32m    700\u001B[0m \u001B[0;34m\u001B[0m\u001B[0m\n\u001B[1;32m    701\u001B[0m         \u001B[0;31m# validate the merge keys dtypes. We may need to coerce\u001B[0m\u001B[0;34m\u001B[0m\u001B[0;34m\u001B[0m\u001B[0;34m\u001B[0m\u001B[0m\n",
      "\u001B[0;32m~/madworks/env/lib/python3.8/site-packages/pandas/core/reshape/merge.py\u001B[0m in \u001B[0;36m_get_merge_keys\u001B[0;34m(self)\u001B[0m\n\u001B[1;32m   1094\u001B[0m                     \u001B[0;32mif\u001B[0m \u001B[0;32mnot\u001B[0m \u001B[0mis_rkey\u001B[0m\u001B[0;34m(\u001B[0m\u001B[0mrk\u001B[0m\u001B[0;34m)\u001B[0m\u001B[0;34m:\u001B[0m\u001B[0;34m\u001B[0m\u001B[0;34m\u001B[0m\u001B[0m\n\u001B[1;32m   1095\u001B[0m                         \u001B[0;32mif\u001B[0m \u001B[0mrk\u001B[0m \u001B[0;32mis\u001B[0m \u001B[0;32mnot\u001B[0m \u001B[0;32mNone\u001B[0m\u001B[0;34m:\u001B[0m\u001B[0;34m\u001B[0m\u001B[0;34m\u001B[0m\u001B[0m\n\u001B[0;32m-> 1096\u001B[0;31m                             \u001B[0mright_keys\u001B[0m\u001B[0;34m.\u001B[0m\u001B[0mappend\u001B[0m\u001B[0;34m(\u001B[0m\u001B[0mright\u001B[0m\u001B[0;34m.\u001B[0m\u001B[0m_get_label_or_level_values\u001B[0m\u001B[0;34m(\u001B[0m\u001B[0mrk\u001B[0m\u001B[0;34m)\u001B[0m\u001B[0;34m)\u001B[0m\u001B[0;34m\u001B[0m\u001B[0;34m\u001B[0m\u001B[0m\n\u001B[0m\u001B[1;32m   1097\u001B[0m                         \u001B[0;32melse\u001B[0m\u001B[0;34m:\u001B[0m\u001B[0;34m\u001B[0m\u001B[0;34m\u001B[0m\u001B[0m\n\u001B[1;32m   1098\u001B[0m                             \u001B[0;31m# work-around for merge_asof(right_index=True)\u001B[0m\u001B[0;34m\u001B[0m\u001B[0;34m\u001B[0m\u001B[0;34m\u001B[0m\u001B[0m\n",
      "\u001B[0;32m~/madworks/env/lib/python3.8/site-packages/pandas/core/generic.py\u001B[0m in \u001B[0;36m_get_label_or_level_values\u001B[0;34m(self, key, axis)\u001B[0m\n\u001B[1;32m   1777\u001B[0m             \u001B[0mvalues\u001B[0m \u001B[0;34m=\u001B[0m \u001B[0mself\u001B[0m\u001B[0;34m.\u001B[0m\u001B[0maxes\u001B[0m\u001B[0;34m[\u001B[0m\u001B[0maxis\u001B[0m\u001B[0;34m]\u001B[0m\u001B[0;34m.\u001B[0m\u001B[0mget_level_values\u001B[0m\u001B[0;34m(\u001B[0m\u001B[0mkey\u001B[0m\u001B[0;34m)\u001B[0m\u001B[0;34m.\u001B[0m\u001B[0m_values\u001B[0m\u001B[0;34m\u001B[0m\u001B[0;34m\u001B[0m\u001B[0m\n\u001B[1;32m   1778\u001B[0m         \u001B[0;32melse\u001B[0m\u001B[0;34m:\u001B[0m\u001B[0;34m\u001B[0m\u001B[0;34m\u001B[0m\u001B[0m\n\u001B[0;32m-> 1779\u001B[0;31m             \u001B[0;32mraise\u001B[0m \u001B[0mKeyError\u001B[0m\u001B[0;34m(\u001B[0m\u001B[0mkey\u001B[0m\u001B[0;34m)\u001B[0m\u001B[0;34m\u001B[0m\u001B[0;34m\u001B[0m\u001B[0m\n\u001B[0m\u001B[1;32m   1780\u001B[0m \u001B[0;34m\u001B[0m\u001B[0m\n\u001B[1;32m   1781\u001B[0m         \u001B[0;31m# Check for duplicates\u001B[0m\u001B[0;34m\u001B[0m\u001B[0;34m\u001B[0m\u001B[0;34m\u001B[0m\u001B[0m\n",
      "\u001B[0;31mKeyError\u001B[0m: 'product_raw_name'"
     ]
    }
   ],
   "source": [
    "\n",
    "merged_df_new = pd.merge(master_df, df_eco[[\"product_raw_name\",'negative_1','negative_2', 'negative_3', 'negative_4', 'negative_5', 'negative_6']], left_on=\"manual_match\", right_on=\"product_raw_name\", how='left')"
   ],
   "metadata": {
    "collapsed": false,
    "pycharm": {
     "name": "#%%\n"
    }
   }
  },
  {
   "cell_type": "code",
   "execution_count": 59,
   "outputs": [],
   "source": [
    "merged_df_new.drop(\"product_raw_name\", axis=1, inplace=True)"
   ],
   "metadata": {
    "collapsed": false,
    "pycharm": {
     "name": "#%%\n"
    }
   }
  },
  {
   "cell_type": "code",
   "execution_count": 60,
   "outputs": [
    {
     "data": {
      "text/plain": "                                          id  \\\n0       d1c99588-e41f-4243-94ba-fc0e9bbb76db   \n1       d1c99588-e41f-4243-94ba-fc0e9bbb76db   \n2       c03376a8-1e86-4bc9-a2ed-6c3a83325ebf   \n3       c03376a8-1e86-4bc9-a2ed-6c3a83325ebf   \n4       63a9ae9b-1360-4951-a528-005555fe9feb   \n...                                      ...   \n189500  cbec2000-56e2-4fc9-98b5-cfe86dddb079   \n189501  cbec2000-56e2-4fc9-98b5-cfe86dddb079   \n189502  cbec2000-56e2-4fc9-98b5-cfe86dddb079   \n189503  cbec2000-56e2-4fc9-98b5-cfe86dddb079   \n189504  cbec2000-56e2-4fc9-98b5-cfe86dddb079   \n\n                                                 name_new  \\\n0                            SPROCKET-IDLER-BS-IN-24T 205   \n1                            205 SPROCKET-IDLER-BS-IN-24T   \n2                         CHANGAN H16EB CRANKSPROCKET 205   \n3                         205 CHANGAN H16EB CRANKSPROCKET   \n4                                   ASM - OUTPUT SHAFT MR   \n...                                                   ...   \n189500  modifiziertes Wasserglas 01030000 - Hilfsstoff...   \n189501  01000000 - Chemikalien modifiziertes Wassergla...   \n189502  01000000 - Chemikalien 01030000 - Hilfsstoffe ...   \n189503  01030000 - Hilfsstoffe Deinkingprozess modifiz...   \n189504  01030000 - Hilfsstoffe Deinkingprozess 0100000...   \n\n                  manual_match category_raw_name      source  \\\n0           steel, low-alloyed    steel and iron  Borgwarner   \n1           steel, low-alloyed    steel and iron  Borgwarner   \n2           steel, low-alloyed    steel and iron  Borgwarner   \n3           steel, low-alloyed    steel and iron  Borgwarner   \n4           steel, low-alloyed    steel and iron  Borgwarner   \n...                        ...               ...         ...   \n189500  sodium silicate, solid         chemicals   Steinbeis   \n189501  sodium silicate, solid         chemicals   Steinbeis   \n189502  sodium silicate, solid         chemicals   Steinbeis   \n189503  sodium silicate, solid         chemicals   Steinbeis   \n189504  sodium silicate, solid         chemicals   Steinbeis   \n\n                  negative_1  \\\n0           anthranilic acid   \n1           anthranilic acid   \n2           anthranilic acid   \n3           anthranilic acid   \n4           anthranilic acid   \n...                      ...   \n189500  hot water tank, 600l   \n189501  hot water tank, 600l   \n189502  hot water tank, 600l   \n189503  hot water tank, 600l   \n189504  hot water tank, 600l   \n\n                                               negative_2  \\\n0                       soybean seed, organic, for sowing   \n1                       soybean seed, organic, for sowing   \n2                       soybean seed, organic, for sowing   \n3                       soybean seed, organic, for sowing   \n4                       soybean seed, organic, for sowing   \n...                                                   ...   \n189500  wood preservative, water-based, outdoor use, n...   \n189501  wood preservative, water-based, outdoor use, n...   \n189502  wood preservative, water-based, outdoor use, n...   \n189503  wood preservative, water-based, outdoor use, n...   \n189504  wood preservative, water-based, outdoor use, n...   \n\n                                    negative_3  \\\n0       metal catalyst for catalytic converter   \n1       metal catalyst for catalytic converter   \n2       metal catalyst for catalytic converter   \n3       metal catalyst for catalytic converter   \n4       metal catalyst for catalytic converter   \n...                                        ...   \n189500                               magnesium   \n189501                               magnesium   \n189502                               magnesium   \n189503                               magnesium   \n189504                               magnesium   \n\n                                               negative_4       negative_5  \\\n0                             sugar beet seed, for sowing  nickel, class 1   \n1                             sugar beet seed, for sowing  nickel, class 1   \n2                             sugar beet seed, for sowing  nickel, class 1   \n3                             sugar beet seed, for sowing  nickel, class 1   \n4                             sugar beet seed, for sowing  nickel, class 1   \n...                                                   ...              ...   \n189500  control cabinet, heat and power co-generation ...             coke   \n189501  control cabinet, heat and power co-generation ...             coke   \n189502  control cabinet, heat and power co-generation ...             coke   \n189503  control cabinet, heat and power co-generation ...             coke   \n189504  control cabinet, heat and power co-generation ...             coke   \n\n                                   negative_6  \n0       converter, for electric passenger car  \n1       converter, for electric passenger car  \n2       converter, for electric passenger car  \n3       converter, for electric passenger car  \n4       converter, for electric passenger car  \n...                                       ...  \n189500                         cement plaster  \n189501                         cement plaster  \n189502                         cement plaster  \n189503                         cement plaster  \n189504                         cement plaster  \n\n[189505 rows x 11 columns]",
      "text/html": "<div>\n<style scoped>\n    .dataframe tbody tr th:only-of-type {\n        vertical-align: middle;\n    }\n\n    .dataframe tbody tr th {\n        vertical-align: top;\n    }\n\n    .dataframe thead th {\n        text-align: right;\n    }\n</style>\n<table border=\"1\" class=\"dataframe\">\n  <thead>\n    <tr style=\"text-align: right;\">\n      <th></th>\n      <th>id</th>\n      <th>name_new</th>\n      <th>manual_match</th>\n      <th>category_raw_name</th>\n      <th>source</th>\n      <th>negative_1</th>\n      <th>negative_2</th>\n      <th>negative_3</th>\n      <th>negative_4</th>\n      <th>negative_5</th>\n      <th>negative_6</th>\n    </tr>\n  </thead>\n  <tbody>\n    <tr>\n      <th>0</th>\n      <td>d1c99588-e41f-4243-94ba-fc0e9bbb76db</td>\n      <td>SPROCKET-IDLER-BS-IN-24T 205</td>\n      <td>steel, low-alloyed</td>\n      <td>steel and iron</td>\n      <td>Borgwarner</td>\n      <td>anthranilic acid</td>\n      <td>soybean seed, organic, for sowing</td>\n      <td>metal catalyst for catalytic converter</td>\n      <td>sugar beet seed, for sowing</td>\n      <td>nickel, class 1</td>\n      <td>converter, for electric passenger car</td>\n    </tr>\n    <tr>\n      <th>1</th>\n      <td>d1c99588-e41f-4243-94ba-fc0e9bbb76db</td>\n      <td>205 SPROCKET-IDLER-BS-IN-24T</td>\n      <td>steel, low-alloyed</td>\n      <td>steel and iron</td>\n      <td>Borgwarner</td>\n      <td>anthranilic acid</td>\n      <td>soybean seed, organic, for sowing</td>\n      <td>metal catalyst for catalytic converter</td>\n      <td>sugar beet seed, for sowing</td>\n      <td>nickel, class 1</td>\n      <td>converter, for electric passenger car</td>\n    </tr>\n    <tr>\n      <th>2</th>\n      <td>c03376a8-1e86-4bc9-a2ed-6c3a83325ebf</td>\n      <td>CHANGAN H16EB CRANKSPROCKET 205</td>\n      <td>steel, low-alloyed</td>\n      <td>steel and iron</td>\n      <td>Borgwarner</td>\n      <td>anthranilic acid</td>\n      <td>soybean seed, organic, for sowing</td>\n      <td>metal catalyst for catalytic converter</td>\n      <td>sugar beet seed, for sowing</td>\n      <td>nickel, class 1</td>\n      <td>converter, for electric passenger car</td>\n    </tr>\n    <tr>\n      <th>3</th>\n      <td>c03376a8-1e86-4bc9-a2ed-6c3a83325ebf</td>\n      <td>205 CHANGAN H16EB CRANKSPROCKET</td>\n      <td>steel, low-alloyed</td>\n      <td>steel and iron</td>\n      <td>Borgwarner</td>\n      <td>anthranilic acid</td>\n      <td>soybean seed, organic, for sowing</td>\n      <td>metal catalyst for catalytic converter</td>\n      <td>sugar beet seed, for sowing</td>\n      <td>nickel, class 1</td>\n      <td>converter, for electric passenger car</td>\n    </tr>\n    <tr>\n      <th>4</th>\n      <td>63a9ae9b-1360-4951-a528-005555fe9feb</td>\n      <td>ASM - OUTPUT SHAFT MR</td>\n      <td>steel, low-alloyed</td>\n      <td>steel and iron</td>\n      <td>Borgwarner</td>\n      <td>anthranilic acid</td>\n      <td>soybean seed, organic, for sowing</td>\n      <td>metal catalyst for catalytic converter</td>\n      <td>sugar beet seed, for sowing</td>\n      <td>nickel, class 1</td>\n      <td>converter, for electric passenger car</td>\n    </tr>\n    <tr>\n      <th>...</th>\n      <td>...</td>\n      <td>...</td>\n      <td>...</td>\n      <td>...</td>\n      <td>...</td>\n      <td>...</td>\n      <td>...</td>\n      <td>...</td>\n      <td>...</td>\n      <td>...</td>\n      <td>...</td>\n    </tr>\n    <tr>\n      <th>189500</th>\n      <td>cbec2000-56e2-4fc9-98b5-cfe86dddb079</td>\n      <td>modifiziertes Wasserglas 01030000 - Hilfsstoff...</td>\n      <td>sodium silicate, solid</td>\n      <td>chemicals</td>\n      <td>Steinbeis</td>\n      <td>hot water tank, 600l</td>\n      <td>wood preservative, water-based, outdoor use, n...</td>\n      <td>magnesium</td>\n      <td>control cabinet, heat and power co-generation ...</td>\n      <td>coke</td>\n      <td>cement plaster</td>\n    </tr>\n    <tr>\n      <th>189501</th>\n      <td>cbec2000-56e2-4fc9-98b5-cfe86dddb079</td>\n      <td>01000000 - Chemikalien modifiziertes Wassergla...</td>\n      <td>sodium silicate, solid</td>\n      <td>chemicals</td>\n      <td>Steinbeis</td>\n      <td>hot water tank, 600l</td>\n      <td>wood preservative, water-based, outdoor use, n...</td>\n      <td>magnesium</td>\n      <td>control cabinet, heat and power co-generation ...</td>\n      <td>coke</td>\n      <td>cement plaster</td>\n    </tr>\n    <tr>\n      <th>189502</th>\n      <td>cbec2000-56e2-4fc9-98b5-cfe86dddb079</td>\n      <td>01000000 - Chemikalien 01030000 - Hilfsstoffe ...</td>\n      <td>sodium silicate, solid</td>\n      <td>chemicals</td>\n      <td>Steinbeis</td>\n      <td>hot water tank, 600l</td>\n      <td>wood preservative, water-based, outdoor use, n...</td>\n      <td>magnesium</td>\n      <td>control cabinet, heat and power co-generation ...</td>\n      <td>coke</td>\n      <td>cement plaster</td>\n    </tr>\n    <tr>\n      <th>189503</th>\n      <td>cbec2000-56e2-4fc9-98b5-cfe86dddb079</td>\n      <td>01030000 - Hilfsstoffe Deinkingprozess modifiz...</td>\n      <td>sodium silicate, solid</td>\n      <td>chemicals</td>\n      <td>Steinbeis</td>\n      <td>hot water tank, 600l</td>\n      <td>wood preservative, water-based, outdoor use, n...</td>\n      <td>magnesium</td>\n      <td>control cabinet, heat and power co-generation ...</td>\n      <td>coke</td>\n      <td>cement plaster</td>\n    </tr>\n    <tr>\n      <th>189504</th>\n      <td>cbec2000-56e2-4fc9-98b5-cfe86dddb079</td>\n      <td>01030000 - Hilfsstoffe Deinkingprozess 0100000...</td>\n      <td>sodium silicate, solid</td>\n      <td>chemicals</td>\n      <td>Steinbeis</td>\n      <td>hot water tank, 600l</td>\n      <td>wood preservative, water-based, outdoor use, n...</td>\n      <td>magnesium</td>\n      <td>control cabinet, heat and power co-generation ...</td>\n      <td>coke</td>\n      <td>cement plaster</td>\n    </tr>\n  </tbody>\n</table>\n<p>189505 rows × 11 columns</p>\n</div>"
     },
     "execution_count": 60,
     "metadata": {},
     "output_type": "execute_result"
    }
   ],
   "source": [
    "merged_df_new"
   ],
   "metadata": {
    "collapsed": false,
    "pycharm": {
     "name": "#%%\n"
    }
   }
  },
  {
   "cell_type": "code",
   "execution_count": 71,
   "outputs": [
    {
     "data": {
      "text/plain": "                                         id  \\\n0      26171854-42e0-448d-988c-20c31cbaa8a5   \n1      80476284-fb05-40ca-ab9c-c03a02965803   \n2      25682c02-b1a6-4dde-84eb-1b71063f784b   \n3      6ea73d7c-ab1b-49c3-a628-85393ebc51b2   \n4      5f403edf-462c-4c72-b99a-3eb88ffe0acf   \n...                                     ...   \n37825  78f11711-5dbd-4c23-b456-29c6c63e1fa6   \n37826  9ff4ba67-9bdd-40b7-8f58-e396987af4b2   \n37827  534a3bdb-e061-4533-859d-d20ed4004b7e   \n37828  f2f4919e-cfb3-4c07-85b5-f51fd0d408cd   \n37829  2147b3f4-023c-4265-bc0d-d957b267310f   \n\n                                     name                     group_name  \\\n0                SPROCKET-IDLER-BS-IN-24T                            205   \n1                SPROCKET-IDLER-BS-IN-24T                            205   \n2                SPROCKET-IDLER-BS-IN-24T                            205   \n3                SPROCKET-IDLER-BS-IN-24T                            205   \n4             CHANGAN H16EB CRANKSPROCKET                            205   \n...                                   ...                            ...   \n37825                 F-347030.07-0105.RG  M444 /// Subcontracting ATECH   \n37826                      SS.NUTR45-0177  M444 /// Subcontracting ATECH   \n37827            F-801176.08-0072.GEH.ALC  M444 /// Subcontracting ATECH   \n37828      F-357350.04-0051.SHB.EVTK-M/04  M444 /// Subcontracting ATECH   \n37829  T-10049862-0000-0001 TRAEGERPLATTE  NT02 /// Dsg. t. form.&mould.   \n\n             manual_match category_raw_name product_type    batch      source  \\\n0      steel, low-alloyed    steel and iron     material  batch_1  Borgwarner   \n1      steel, low-alloyed    steel and iron     material  batch_1  Borgwarner   \n2      steel, low-alloyed    steel and iron     material  batch_1  Borgwarner   \n3      steel, low-alloyed    steel and iron     material  batch_1  Borgwarner   \n4      steel, low-alloyed    steel and iron     material  batch_1  Borgwarner   \n...                   ...               ...          ...      ...         ...   \n37825  steel, low-alloyed    steel and iron     material  batch_1  Schefflaer   \n37826  steel, low-alloyed    steel and iron     material  batch_1  Schefflaer   \n37827  steel, low-alloyed    steel and iron     material  batch_1  Schefflaer   \n37828  steel, low-alloyed    steel and iron     material  batch_1  Schefflaer   \n37829  steel, low-alloyed    steel and iron     material  batch_1  Schefflaer   \n\n                     group_name_2 group_name_3  \n0                             nan          nan  \n1                             nan          nan  \n2                             nan          nan  \n3                             nan          nan  \n4                             nan          nan  \n...                           ...          ...  \n37825       M38110 ///Do not use!               \n37826       M38110 ///Do not use!               \n37827  M25100 ///Int. Comp. Parts               \n37828       M34532 ///Solid Parts               \n37829      M05170 ///Assembly WKZ               \n\n[37830 rows x 10 columns]",
      "text/html": "<div>\n<style scoped>\n    .dataframe tbody tr th:only-of-type {\n        vertical-align: middle;\n    }\n\n    .dataframe tbody tr th {\n        vertical-align: top;\n    }\n\n    .dataframe thead th {\n        text-align: right;\n    }\n</style>\n<table border=\"1\" class=\"dataframe\">\n  <thead>\n    <tr style=\"text-align: right;\">\n      <th></th>\n      <th>id</th>\n      <th>name</th>\n      <th>group_name</th>\n      <th>manual_match</th>\n      <th>category_raw_name</th>\n      <th>product_type</th>\n      <th>batch</th>\n      <th>source</th>\n      <th>group_name_2</th>\n      <th>group_name_3</th>\n    </tr>\n  </thead>\n  <tbody>\n    <tr>\n      <th>0</th>\n      <td>26171854-42e0-448d-988c-20c31cbaa8a5</td>\n      <td>SPROCKET-IDLER-BS-IN-24T</td>\n      <td>205</td>\n      <td>steel, low-alloyed</td>\n      <td>steel and iron</td>\n      <td>material</td>\n      <td>batch_1</td>\n      <td>Borgwarner</td>\n      <td>nan</td>\n      <td>nan</td>\n    </tr>\n    <tr>\n      <th>1</th>\n      <td>80476284-fb05-40ca-ab9c-c03a02965803</td>\n      <td>SPROCKET-IDLER-BS-IN-24T</td>\n      <td>205</td>\n      <td>steel, low-alloyed</td>\n      <td>steel and iron</td>\n      <td>material</td>\n      <td>batch_1</td>\n      <td>Borgwarner</td>\n      <td>nan</td>\n      <td>nan</td>\n    </tr>\n    <tr>\n      <th>2</th>\n      <td>25682c02-b1a6-4dde-84eb-1b71063f784b</td>\n      <td>SPROCKET-IDLER-BS-IN-24T</td>\n      <td>205</td>\n      <td>steel, low-alloyed</td>\n      <td>steel and iron</td>\n      <td>material</td>\n      <td>batch_1</td>\n      <td>Borgwarner</td>\n      <td>nan</td>\n      <td>nan</td>\n    </tr>\n    <tr>\n      <th>3</th>\n      <td>6ea73d7c-ab1b-49c3-a628-85393ebc51b2</td>\n      <td>SPROCKET-IDLER-BS-IN-24T</td>\n      <td>205</td>\n      <td>steel, low-alloyed</td>\n      <td>steel and iron</td>\n      <td>material</td>\n      <td>batch_1</td>\n      <td>Borgwarner</td>\n      <td>nan</td>\n      <td>nan</td>\n    </tr>\n    <tr>\n      <th>4</th>\n      <td>5f403edf-462c-4c72-b99a-3eb88ffe0acf</td>\n      <td>CHANGAN H16EB CRANKSPROCKET</td>\n      <td>205</td>\n      <td>steel, low-alloyed</td>\n      <td>steel and iron</td>\n      <td>material</td>\n      <td>batch_1</td>\n      <td>Borgwarner</td>\n      <td>nan</td>\n      <td>nan</td>\n    </tr>\n    <tr>\n      <th>...</th>\n      <td>...</td>\n      <td>...</td>\n      <td>...</td>\n      <td>...</td>\n      <td>...</td>\n      <td>...</td>\n      <td>...</td>\n      <td>...</td>\n      <td>...</td>\n      <td>...</td>\n    </tr>\n    <tr>\n      <th>37825</th>\n      <td>78f11711-5dbd-4c23-b456-29c6c63e1fa6</td>\n      <td>F-347030.07-0105.RG</td>\n      <td>M444 /// Subcontracting ATECH</td>\n      <td>steel, low-alloyed</td>\n      <td>steel and iron</td>\n      <td>material</td>\n      <td>batch_1</td>\n      <td>Schefflaer</td>\n      <td>M38110 ///Do not use!</td>\n      <td></td>\n    </tr>\n    <tr>\n      <th>37826</th>\n      <td>9ff4ba67-9bdd-40b7-8f58-e396987af4b2</td>\n      <td>SS.NUTR45-0177</td>\n      <td>M444 /// Subcontracting ATECH</td>\n      <td>steel, low-alloyed</td>\n      <td>steel and iron</td>\n      <td>material</td>\n      <td>batch_1</td>\n      <td>Schefflaer</td>\n      <td>M38110 ///Do not use!</td>\n      <td></td>\n    </tr>\n    <tr>\n      <th>37827</th>\n      <td>534a3bdb-e061-4533-859d-d20ed4004b7e</td>\n      <td>F-801176.08-0072.GEH.ALC</td>\n      <td>M444 /// Subcontracting ATECH</td>\n      <td>steel, low-alloyed</td>\n      <td>steel and iron</td>\n      <td>material</td>\n      <td>batch_1</td>\n      <td>Schefflaer</td>\n      <td>M25100 ///Int. Comp. Parts</td>\n      <td></td>\n    </tr>\n    <tr>\n      <th>37828</th>\n      <td>f2f4919e-cfb3-4c07-85b5-f51fd0d408cd</td>\n      <td>F-357350.04-0051.SHB.EVTK-M/04</td>\n      <td>M444 /// Subcontracting ATECH</td>\n      <td>steel, low-alloyed</td>\n      <td>steel and iron</td>\n      <td>material</td>\n      <td>batch_1</td>\n      <td>Schefflaer</td>\n      <td>M34532 ///Solid Parts</td>\n      <td></td>\n    </tr>\n    <tr>\n      <th>37829</th>\n      <td>2147b3f4-023c-4265-bc0d-d957b267310f</td>\n      <td>T-10049862-0000-0001 TRAEGERPLATTE</td>\n      <td>NT02 /// Dsg. t. form.&amp;mould.</td>\n      <td>steel, low-alloyed</td>\n      <td>steel and iron</td>\n      <td>material</td>\n      <td>batch_1</td>\n      <td>Schefflaer</td>\n      <td>M05170 ///Assembly WKZ</td>\n      <td></td>\n    </tr>\n  </tbody>\n</table>\n<p>37830 rows × 10 columns</p>\n</div>"
     },
     "execution_count": 71,
     "metadata": {},
     "output_type": "execute_result"
    }
   ],
   "source": [
    "read_write_append_gs(sheet_identifier='Master_sheet',worksheet_name= \"master_sheet_23_march\", mode='write', data=df_clients_data)"
   ],
   "metadata": {
    "collapsed": false,
    "pycharm": {
     "name": "#%%\n"
    }
   }
  },
  {
   "cell_type": "code",
   "execution_count": 39,
   "outputs": [
    {
     "data": {
      "text/plain": "                                      id                         name_new  \\\n0   d1c99588-e41f-4243-94ba-fc0e9bbb76db     SPROCKET-IDLER-BS-IN-24T 205   \n1   d1c99588-e41f-4243-94ba-fc0e9bbb76db     205 SPROCKET-IDLER-BS-IN-24T   \n2   c03376a8-1e86-4bc9-a2ed-6c3a83325ebf  CHANGAN H16EB CRANKSPROCKET 205   \n3   c03376a8-1e86-4bc9-a2ed-6c3a83325ebf  205 CHANGAN H16EB CRANKSPROCKET   \n4   63a9ae9b-1360-4951-a528-005555fe9feb            ASM - OUTPUT SHAFT MR   \n5   63a9ae9b-1360-4951-a528-005555fe9feb            MR ASM - OUTPUT SHAFT   \n6   f8a56ed9-eccc-49eb-99ae-91c36a7de77f              PISTON, TWO-STEP 19   \n7   f8a56ed9-eccc-49eb-99ae-91c36a7de77f              19 PISTON, TWO-STEP   \n8   626cae73-09b6-4b2a-bbef-4fa038095385              PISTON, TWO-STEP 79   \n9   626cae73-09b6-4b2a-bbef-4fa038095385              79 PISTON, TWO-STEP   \n10  13035518-d823-4f62-8648-b915913f9d1c                  Screw-Joint 109   \n11  13035518-d823-4f62-8648-b915913f9d1c                  109 Screw-Joint   \n12  27611270-8a43-453d-82fb-eb9973a25ef3                     Piston-OC 96   \n13  27611270-8a43-453d-82fb-eb9973a25ef3                     96 Piston-OC   \n\n   name group_name manual_match category_raw_name product_type batch source  \\\n0   NaN        NaN          NaN               NaN          NaN   NaN    NaN   \n1   NaN        NaN          NaN               NaN          NaN   NaN    NaN   \n2   NaN        NaN          NaN               NaN          NaN   NaN    NaN   \n3   NaN        NaN          NaN               NaN          NaN   NaN    NaN   \n4   NaN        NaN          NaN               NaN          NaN   NaN    NaN   \n5   NaN        NaN          NaN               NaN          NaN   NaN    NaN   \n6   NaN        NaN          NaN               NaN          NaN   NaN    NaN   \n7   NaN        NaN          NaN               NaN          NaN   NaN    NaN   \n8   NaN        NaN          NaN               NaN          NaN   NaN    NaN   \n9   NaN        NaN          NaN               NaN          NaN   NaN    NaN   \n10  NaN        NaN          NaN               NaN          NaN   NaN    NaN   \n11  NaN        NaN          NaN               NaN          NaN   NaN    NaN   \n12  NaN        NaN          NaN               NaN          NaN   NaN    NaN   \n13  NaN        NaN          NaN               NaN          NaN   NaN    NaN   \n\n   group_name_2 group_name_3  \n0           NaN          NaN  \n1           NaN          NaN  \n2           NaN          NaN  \n3           NaN          NaN  \n4           NaN          NaN  \n5           NaN          NaN  \n6           NaN          NaN  \n7           NaN          NaN  \n8           NaN          NaN  \n9           NaN          NaN  \n10          NaN          NaN  \n11          NaN          NaN  \n12          NaN          NaN  \n13          NaN          NaN  ",
      "text/html": "<div>\n<style scoped>\n    .dataframe tbody tr th:only-of-type {\n        vertical-align: middle;\n    }\n\n    .dataframe tbody tr th {\n        vertical-align: top;\n    }\n\n    .dataframe thead th {\n        text-align: right;\n    }\n</style>\n<table border=\"1\" class=\"dataframe\">\n  <thead>\n    <tr style=\"text-align: right;\">\n      <th></th>\n      <th>id</th>\n      <th>name_new</th>\n      <th>name</th>\n      <th>group_name</th>\n      <th>manual_match</th>\n      <th>category_raw_name</th>\n      <th>product_type</th>\n      <th>batch</th>\n      <th>source</th>\n      <th>group_name_2</th>\n      <th>group_name_3</th>\n    </tr>\n  </thead>\n  <tbody>\n    <tr>\n      <th>0</th>\n      <td>d1c99588-e41f-4243-94ba-fc0e9bbb76db</td>\n      <td>SPROCKET-IDLER-BS-IN-24T 205</td>\n      <td>NaN</td>\n      <td>NaN</td>\n      <td>NaN</td>\n      <td>NaN</td>\n      <td>NaN</td>\n      <td>NaN</td>\n      <td>NaN</td>\n      <td>NaN</td>\n      <td>NaN</td>\n    </tr>\n    <tr>\n      <th>1</th>\n      <td>d1c99588-e41f-4243-94ba-fc0e9bbb76db</td>\n      <td>205 SPROCKET-IDLER-BS-IN-24T</td>\n      <td>NaN</td>\n      <td>NaN</td>\n      <td>NaN</td>\n      <td>NaN</td>\n      <td>NaN</td>\n      <td>NaN</td>\n      <td>NaN</td>\n      <td>NaN</td>\n      <td>NaN</td>\n    </tr>\n    <tr>\n      <th>2</th>\n      <td>c03376a8-1e86-4bc9-a2ed-6c3a83325ebf</td>\n      <td>CHANGAN H16EB CRANKSPROCKET 205</td>\n      <td>NaN</td>\n      <td>NaN</td>\n      <td>NaN</td>\n      <td>NaN</td>\n      <td>NaN</td>\n      <td>NaN</td>\n      <td>NaN</td>\n      <td>NaN</td>\n      <td>NaN</td>\n    </tr>\n    <tr>\n      <th>3</th>\n      <td>c03376a8-1e86-4bc9-a2ed-6c3a83325ebf</td>\n      <td>205 CHANGAN H16EB CRANKSPROCKET</td>\n      <td>NaN</td>\n      <td>NaN</td>\n      <td>NaN</td>\n      <td>NaN</td>\n      <td>NaN</td>\n      <td>NaN</td>\n      <td>NaN</td>\n      <td>NaN</td>\n      <td>NaN</td>\n    </tr>\n    <tr>\n      <th>4</th>\n      <td>63a9ae9b-1360-4951-a528-005555fe9feb</td>\n      <td>ASM - OUTPUT SHAFT MR</td>\n      <td>NaN</td>\n      <td>NaN</td>\n      <td>NaN</td>\n      <td>NaN</td>\n      <td>NaN</td>\n      <td>NaN</td>\n      <td>NaN</td>\n      <td>NaN</td>\n      <td>NaN</td>\n    </tr>\n    <tr>\n      <th>5</th>\n      <td>63a9ae9b-1360-4951-a528-005555fe9feb</td>\n      <td>MR ASM - OUTPUT SHAFT</td>\n      <td>NaN</td>\n      <td>NaN</td>\n      <td>NaN</td>\n      <td>NaN</td>\n      <td>NaN</td>\n      <td>NaN</td>\n      <td>NaN</td>\n      <td>NaN</td>\n      <td>NaN</td>\n    </tr>\n    <tr>\n      <th>6</th>\n      <td>f8a56ed9-eccc-49eb-99ae-91c36a7de77f</td>\n      <td>PISTON, TWO-STEP 19</td>\n      <td>NaN</td>\n      <td>NaN</td>\n      <td>NaN</td>\n      <td>NaN</td>\n      <td>NaN</td>\n      <td>NaN</td>\n      <td>NaN</td>\n      <td>NaN</td>\n      <td>NaN</td>\n    </tr>\n    <tr>\n      <th>7</th>\n      <td>f8a56ed9-eccc-49eb-99ae-91c36a7de77f</td>\n      <td>19 PISTON, TWO-STEP</td>\n      <td>NaN</td>\n      <td>NaN</td>\n      <td>NaN</td>\n      <td>NaN</td>\n      <td>NaN</td>\n      <td>NaN</td>\n      <td>NaN</td>\n      <td>NaN</td>\n      <td>NaN</td>\n    </tr>\n    <tr>\n      <th>8</th>\n      <td>626cae73-09b6-4b2a-bbef-4fa038095385</td>\n      <td>PISTON, TWO-STEP 79</td>\n      <td>NaN</td>\n      <td>NaN</td>\n      <td>NaN</td>\n      <td>NaN</td>\n      <td>NaN</td>\n      <td>NaN</td>\n      <td>NaN</td>\n      <td>NaN</td>\n      <td>NaN</td>\n    </tr>\n    <tr>\n      <th>9</th>\n      <td>626cae73-09b6-4b2a-bbef-4fa038095385</td>\n      <td>79 PISTON, TWO-STEP</td>\n      <td>NaN</td>\n      <td>NaN</td>\n      <td>NaN</td>\n      <td>NaN</td>\n      <td>NaN</td>\n      <td>NaN</td>\n      <td>NaN</td>\n      <td>NaN</td>\n      <td>NaN</td>\n    </tr>\n    <tr>\n      <th>10</th>\n      <td>13035518-d823-4f62-8648-b915913f9d1c</td>\n      <td>Screw-Joint 109</td>\n      <td>NaN</td>\n      <td>NaN</td>\n      <td>NaN</td>\n      <td>NaN</td>\n      <td>NaN</td>\n      <td>NaN</td>\n      <td>NaN</td>\n      <td>NaN</td>\n      <td>NaN</td>\n    </tr>\n    <tr>\n      <th>11</th>\n      <td>13035518-d823-4f62-8648-b915913f9d1c</td>\n      <td>109 Screw-Joint</td>\n      <td>NaN</td>\n      <td>NaN</td>\n      <td>NaN</td>\n      <td>NaN</td>\n      <td>NaN</td>\n      <td>NaN</td>\n      <td>NaN</td>\n      <td>NaN</td>\n      <td>NaN</td>\n    </tr>\n    <tr>\n      <th>12</th>\n      <td>27611270-8a43-453d-82fb-eb9973a25ef3</td>\n      <td>Piston-OC 96</td>\n      <td>NaN</td>\n      <td>NaN</td>\n      <td>NaN</td>\n      <td>NaN</td>\n      <td>NaN</td>\n      <td>NaN</td>\n      <td>NaN</td>\n      <td>NaN</td>\n      <td>NaN</td>\n    </tr>\n    <tr>\n      <th>13</th>\n      <td>27611270-8a43-453d-82fb-eb9973a25ef3</td>\n      <td>96 Piston-OC</td>\n      <td>NaN</td>\n      <td>NaN</td>\n      <td>NaN</td>\n      <td>NaN</td>\n      <td>NaN</td>\n      <td>NaN</td>\n      <td>NaN</td>\n      <td>NaN</td>\n      <td>NaN</td>\n    </tr>\n  </tbody>\n</table>\n</div>"
     },
     "execution_count": 39,
     "metadata": {},
     "output_type": "execute_result"
    }
   ],
   "source": [
    "df_test.merge(new_df_clients_data, on='id', how='left')"
   ],
   "metadata": {
    "collapsed": false,
    "pycharm": {
     "name": "#%%\n"
    }
   }
  },
  {
   "cell_type": "code",
   "execution_count": 1,
   "outputs": [
    {
     "ename": "NameError",
     "evalue": "name 'df' is not defined",
     "output_type": "error",
     "traceback": [
      "\u001B[0;31m---------------------------------------------------------------------------\u001B[0m",
      "\u001B[0;31mNameError\u001B[0m                                 Traceback (most recent call last)",
      "\u001B[0;32m/var/folders/jg/n5td8bv542j42d1t7_cyqkwc0000gn/T/ipykernel_6397/2350514343.py\u001B[0m in \u001B[0;36m<module>\u001B[0;34m\u001B[0m\n\u001B[1;32m      1\u001B[0m \u001B[0;32mfrom\u001B[0m \u001B[0mutils\u001B[0m \u001B[0;32mimport\u001B[0m \u001B[0;34m*\u001B[0m\u001B[0;34m\u001B[0m\u001B[0;34m\u001B[0m\u001B[0m\n\u001B[0;32m----> 2\u001B[0;31m \u001B[0mconcat_columns_combinations\u001B[0m\u001B[0;34m(\u001B[0m\u001B[0mdf_name\u001B[0m\u001B[0;34m=\u001B[0m\u001B[0mdf\u001B[0m\u001B[0;34m[\u001B[0m\u001B[0;34m:\u001B[0m\u001B[0;36m10\u001B[0m\u001B[0;34m]\u001B[0m\u001B[0;34m,\u001B[0m\u001B[0mdelimiter\u001B[0m\u001B[0;34m=\u001B[0m\u001B[0;34m\" \"\u001B[0m\u001B[0;34m)\u001B[0m\u001B[0;34m\u001B[0m\u001B[0;34m\u001B[0m\u001B[0m\n\u001B[0m",
      "\u001B[0;31mNameError\u001B[0m: name 'df' is not defined"
     ]
    }
   ],
   "source": [],
   "metadata": {
    "collapsed": false,
    "pycharm": {
     "name": "#%%\n"
    }
   }
  },
  {
   "cell_type": "code",
   "execution_count": null,
   "outputs": [],
   "source": [],
   "metadata": {
    "collapsed": false,
    "pycharm": {
     "name": "#%%\n"
    }
   }
  }
 ],
 "metadata": {
  "kernelspec": {
   "name": "env",
   "language": "python",
   "display_name": "env"
  },
  "language_info": {
   "codemirror_mode": {
    "name": "ipython",
    "version": 2
   },
   "file_extension": ".py",
   "mimetype": "text/x-python",
   "name": "python",
   "nbconvert_exporter": "python",
   "pygments_lexer": "ipython2",
   "version": "2.7.6"
  }
 },
 "nbformat": 4,
 "nbformat_minor": 0
}