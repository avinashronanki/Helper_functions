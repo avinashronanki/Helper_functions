{
 "cells": [
  {
   "cell_type": "code",
   "execution_count": 1,
   "outputs": [],
   "source": [
    "from utils import *"
   ],
   "metadata": {
    "collapsed": false,
    "pycharm": {
     "name": "#%%\n"
    }
   }
  },
  {
   "cell_type": "code",
   "execution_count": 2,
   "outputs": [],
   "source": [
    "df_demo = read_write_append_gs(sheet_identifier ='Alias_to_train',worksheet_name='demo_data',mode='read',data=None)"
   ],
   "metadata": {
    "collapsed": false,
    "pycharm": {
     "name": "#%%\n"
    }
   }
  },
  {
   "cell_type": "code",
   "execution_count": 54,
   "outputs": [
    {
     "data": {
      "text/plain": "Index(['name', 'match'], dtype='object')"
     },
     "execution_count": 54,
     "metadata": {},
     "output_type": "execute_result"
    }
   ],
   "source": [
    "df_kws.columns"
   ],
   "metadata": {
    "collapsed": false,
    "pycharm": {
     "name": "#%%\n"
    }
   }
  },
  {
   "cell_type": "code",
   "execution_count": 4,
   "outputs": [],
   "source": [
    "df_eco = read_write_append_gs(sheet_identifier='Ecoinvent_3.8',worksheet_name= \"ECO\", mode='read', data=None )"
   ],
   "metadata": {
    "collapsed": false,
    "pycharm": {
     "name": "#%%\n"
    }
   }
  },
  {
   "cell_type": "code",
   "execution_count": 55,
   "outputs": [
    {
     "data": {
      "text/plain": "Index(['product_id', 'product_raw_name', 'product_type',\n       'product_is_valid_match', 'category_raw_name', 'UOM', 'scores',\n       'Filtering'],\n      dtype='object')"
     },
     "execution_count": 55,
     "metadata": {},
     "output_type": "execute_result"
    }
   ],
   "source": [
    "df_eco.columns"
   ],
   "metadata": {
    "collapsed": false,
    "pycharm": {
     "name": "#%%\n"
    }
   }
  },
  {
   "cell_type": "code",
   "execution_count": 5,
   "outputs": [],
   "source": [
    "def vlookup(df1: pd.DataFrame, col1: str, df2: pd.DataFrame, col2: str, output_col: str) -> pd.DataFrame:\n",
    "    \"\"\"\n",
    "    Performs a vlookup-like operation on two dataframes and returns a new dataframe with the specified columns.\n",
    "\n",
    "    Args:\n",
    "        df1: The first dataframe.\n",
    "        col1: The name of the column in df1 to merge on.\n",
    "        df2: The second dataframe.\n",
    "        col2: The name of the column in df2 to merge on.\n",
    "        output_col: The name of the column from df2 to include in the output.\n",
    "\n",
    "    Returns:\n",
    "        A new dataframe with the specified columns.\n",
    "    \"\"\"\n",
    "    # Perform a merge operation on the two dataframes\n",
    "    merged_df_new = pd.merge(df1, df2[[col2, output_col]], left_on=col1, right_on=col2, how='left')\n",
    "\n",
    "    # Drop the duplicate column and rename the output column\n",
    "    merged_df_new = merged_df_new.drop(col2, axis=1).rename(columns={output_col: f'{output_col}'})\n",
    "\n",
    "    return merged_df_new"
   ],
   "metadata": {
    "collapsed": false,
    "pycharm": {
     "name": "#%%\n"
    }
   }
  },
  {
   "cell_type": "code",
   "execution_count": 6,
   "outputs": [],
   "source": [
    "merged_df = vlookup(df_demo, \"match\", df_eco, \"product_raw_name\", \"category_raw_name\" )"
   ],
   "metadata": {
    "collapsed": false,
    "pycharm": {
     "name": "#%%\n"
    }
   }
  },
  {
   "cell_type": "code",
   "execution_count": 7,
   "outputs": [
    {
     "data": {
      "text/plain": "                                                 name  \\\n0                                              hinges   \n1                                 aluminium heat sink   \n2                                     Flange turbo t3   \n3                                      plastic bottle   \n4                                        plastic film   \n..                                                ...   \n71              Aluminiumsulfat 17/18% gem.0-2mm,lose   \n72  Sliced ​​organic peppermint 500 g Aromatic and...   \n73              Crankcase Oil Breather Hose Tube Pipe   \n74   Thick Soft Felt Fabric Sheet 28pcs 12 x 8 inches   \n75                         UltraHold Iron-On Adhesive   \n\n                                                match      category_raw_name  \n0                                           cast iron         steel and iron  \n1                            aluminium, wrought alloy   metals (non-ferrous)  \n2                              aluminium alloy, AlMg3   metals (non-ferrous)  \n3   polyethylene terephthalate, granulate, bottle ...  plastics and polymers  \n4            packaging film, low density polyethylene  plastics and polymers  \n..                                                ...                    ...  \n71  aluminium sulfate, without water, in 4.33% alu...              chemicals  \n72                                               mint                  crops  \n73               polyethylene pipe, corrugated, DN 75              machinery  \n74                        textile, nonwoven polyester               textiles  \n75                                adhesive, for metal              chemicals  \n\n[76 rows x 3 columns]",
      "text/html": "<div>\n<style scoped>\n    .dataframe tbody tr th:only-of-type {\n        vertical-align: middle;\n    }\n\n    .dataframe tbody tr th {\n        vertical-align: top;\n    }\n\n    .dataframe thead th {\n        text-align: right;\n    }\n</style>\n<table border=\"1\" class=\"dataframe\">\n  <thead>\n    <tr style=\"text-align: right;\">\n      <th></th>\n      <th>name</th>\n      <th>match</th>\n      <th>category_raw_name</th>\n    </tr>\n  </thead>\n  <tbody>\n    <tr>\n      <th>0</th>\n      <td>hinges</td>\n      <td>cast iron</td>\n      <td>steel and iron</td>\n    </tr>\n    <tr>\n      <th>1</th>\n      <td>aluminium heat sink</td>\n      <td>aluminium, wrought alloy</td>\n      <td>metals (non-ferrous)</td>\n    </tr>\n    <tr>\n      <th>2</th>\n      <td>Flange turbo t3</td>\n      <td>aluminium alloy, AlMg3</td>\n      <td>metals (non-ferrous)</td>\n    </tr>\n    <tr>\n      <th>3</th>\n      <td>plastic bottle</td>\n      <td>polyethylene terephthalate, granulate, bottle ...</td>\n      <td>plastics and polymers</td>\n    </tr>\n    <tr>\n      <th>4</th>\n      <td>plastic film</td>\n      <td>packaging film, low density polyethylene</td>\n      <td>plastics and polymers</td>\n    </tr>\n    <tr>\n      <th>...</th>\n      <td>...</td>\n      <td>...</td>\n      <td>...</td>\n    </tr>\n    <tr>\n      <th>71</th>\n      <td>Aluminiumsulfat 17/18% gem.0-2mm,lose</td>\n      <td>aluminium sulfate, without water, in 4.33% alu...</td>\n      <td>chemicals</td>\n    </tr>\n    <tr>\n      <th>72</th>\n      <td>Sliced ​​organic peppermint 500 g Aromatic and...</td>\n      <td>mint</td>\n      <td>crops</td>\n    </tr>\n    <tr>\n      <th>73</th>\n      <td>Crankcase Oil Breather Hose Tube Pipe</td>\n      <td>polyethylene pipe, corrugated, DN 75</td>\n      <td>machinery</td>\n    </tr>\n    <tr>\n      <th>74</th>\n      <td>Thick Soft Felt Fabric Sheet 28pcs 12 x 8 inches</td>\n      <td>textile, nonwoven polyester</td>\n      <td>textiles</td>\n    </tr>\n    <tr>\n      <th>75</th>\n      <td>UltraHold Iron-On Adhesive</td>\n      <td>adhesive, for metal</td>\n      <td>chemicals</td>\n    </tr>\n  </tbody>\n</table>\n<p>76 rows × 3 columns</p>\n</div>"
     },
     "execution_count": 7,
     "metadata": {},
     "output_type": "execute_result"
    }
   ],
   "source": [
    "merged_df"
   ],
   "metadata": {
    "collapsed": false,
    "pycharm": {
     "name": "#%%\n"
    }
   }
  },
  {
   "cell_type": "code",
   "execution_count": 10,
   "outputs": [
    {
     "data": {
      "text/plain": "                                                 name  \\\n0                                              hinges   \n1                                 aluminium heat sink   \n2                                     Flange turbo t3   \n3                                      plastic bottle   \n4                                        plastic film   \n..                                                ...   \n71              Aluminiumsulfat 17/18% gem.0-2mm,lose   \n72  Sliced ​​organic peppermint 500 g Aromatic and...   \n73              Crankcase Oil Breather Hose Tube Pipe   \n74   Thick Soft Felt Fabric Sheet 28pcs 12 x 8 inches   \n75                         UltraHold Iron-On Adhesive   \n\n                                                match      category_raw_name  \n0                                           cast iron         steel and iron  \n1                            aluminium, wrought alloy   metals (non-ferrous)  \n2                              aluminium alloy, AlMg3   metals (non-ferrous)  \n3   polyethylene terephthalate, granulate, bottle ...  plastics and polymers  \n4            packaging film, low density polyethylene  plastics and polymers  \n..                                                ...                    ...  \n71  aluminium sulfate, without water, in 4.33% alu...              chemicals  \n72                                               mint                  crops  \n73               polyethylene pipe, corrugated, DN 75              machinery  \n74                        textile, nonwoven polyester               textiles  \n75                                adhesive, for metal              chemicals  \n\n[76 rows x 3 columns]",
      "text/html": "<div>\n<style scoped>\n    .dataframe tbody tr th:only-of-type {\n        vertical-align: middle;\n    }\n\n    .dataframe tbody tr th {\n        vertical-align: top;\n    }\n\n    .dataframe thead th {\n        text-align: right;\n    }\n</style>\n<table border=\"1\" class=\"dataframe\">\n  <thead>\n    <tr style=\"text-align: right;\">\n      <th></th>\n      <th>name</th>\n      <th>match</th>\n      <th>category_raw_name</th>\n    </tr>\n  </thead>\n  <tbody>\n    <tr>\n      <th>0</th>\n      <td>hinges</td>\n      <td>cast iron</td>\n      <td>steel and iron</td>\n    </tr>\n    <tr>\n      <th>1</th>\n      <td>aluminium heat sink</td>\n      <td>aluminium, wrought alloy</td>\n      <td>metals (non-ferrous)</td>\n    </tr>\n    <tr>\n      <th>2</th>\n      <td>Flange turbo t3</td>\n      <td>aluminium alloy, AlMg3</td>\n      <td>metals (non-ferrous)</td>\n    </tr>\n    <tr>\n      <th>3</th>\n      <td>plastic bottle</td>\n      <td>polyethylene terephthalate, granulate, bottle ...</td>\n      <td>plastics and polymers</td>\n    </tr>\n    <tr>\n      <th>4</th>\n      <td>plastic film</td>\n      <td>packaging film, low density polyethylene</td>\n      <td>plastics and polymers</td>\n    </tr>\n    <tr>\n      <th>...</th>\n      <td>...</td>\n      <td>...</td>\n      <td>...</td>\n    </tr>\n    <tr>\n      <th>71</th>\n      <td>Aluminiumsulfat 17/18% gem.0-2mm,lose</td>\n      <td>aluminium sulfate, without water, in 4.33% alu...</td>\n      <td>chemicals</td>\n    </tr>\n    <tr>\n      <th>72</th>\n      <td>Sliced ​​organic peppermint 500 g Aromatic and...</td>\n      <td>mint</td>\n      <td>crops</td>\n    </tr>\n    <tr>\n      <th>73</th>\n      <td>Crankcase Oil Breather Hose Tube Pipe</td>\n      <td>polyethylene pipe, corrugated, DN 75</td>\n      <td>machinery</td>\n    </tr>\n    <tr>\n      <th>74</th>\n      <td>Thick Soft Felt Fabric Sheet 28pcs 12 x 8 inches</td>\n      <td>textile, nonwoven polyester</td>\n      <td>textiles</td>\n    </tr>\n    <tr>\n      <th>75</th>\n      <td>UltraHold Iron-On Adhesive</td>\n      <td>adhesive, for metal</td>\n      <td>chemicals</td>\n    </tr>\n  </tbody>\n</table>\n<p>76 rows × 3 columns</p>\n</div>"
     },
     "execution_count": 10,
     "metadata": {},
     "output_type": "execute_result"
    }
   ],
   "source": [
    "read_write_append_gs(sheet_identifier ='Alias_to_train',worksheet_name='demo_data',mode='write',data= merged_df)"
   ],
   "metadata": {
    "collapsed": false,
    "pycharm": {
     "name": "#%%\n"
    }
   }
  },
  {
   "cell_type": "code",
   "execution_count": 3,
   "outputs": [
    {
     "name": "stdout",
     "output_type": "stream",
     "text": [
      "Similarity score:  <difflib.SequenceMatcher object at 0x7f9329539190>\n"
     ]
    }
   ],
   "source": [
    "text_1= 'packaging film, low density polyethylene'\n",
    "text_2 = 'low density polyethylene packaging film xyz'\n",
    "from difflib import SequenceMatcher\n",
    "\n",
    "def text_similarity(text1: str, text2: str) -> float:\n",
    "    return SequenceMatcher(None, text1, text2).ratio()\n",
    "\n",
    "similarity_score = text_similarity(text_1, text_2)\n",
    "print(\"Similarity score: \", similarity_score)"
   ],
   "metadata": {
    "collapsed": false,
    "pycharm": {
     "name": "#%%\n"
    }
   }
  },
  {
   "cell_type": "code",
   "execution_count": null,
   "outputs": [],
   "source": [
    "import spacy\n",
    "\n",
    "def derive_context(text: str) -> list[str]:\n",
    "    nlp = spacy.load('en_core_web_sm')\n",
    "    doc = nlp(text)\n",
    "    context = [token.text for token in doc if not token.is_stop and not token.is_punct]\n",
    "    return context\n",
    "\n",
    "text_1 = \"Bags corn, Bag MA OKS 42x75x12 50TK AM RFID 18/19\"\n",
    "text_2 = \"Bag MA OKS 42x75x12 50TK AM RFID 18/19, Bags corn\"\n",
    "\n",
    "context_1 = derive_context(text_1)\n",
    "print(\"Context 1: \", context_1)\n",
    "\n",
    "context_2 = derive_context(text_2)\n",
    "print(\"Context 2: \", context_2)\n"
   ],
   "metadata": {
    "collapsed": false,
    "pycharm": {
     "name": "#%%\n"
    }
   }
  },
  {
   "cell_type": "code",
   "execution_count": 1,
   "outputs": [
    {
     "name": "stdout",
     "output_type": "stream",
     "text": [
      "MA 600, corn, corn Treatment Poncho Beizmittel FS\n",
      "treatment MA 600, corn, corn Treatment Poncho Beizmittel FS\n"
     ]
    }
   ],
   "source": [
    "exp_1 = \"Beizmittel MA Poncho FS 600, Treatment corn, Treatment corn\"\n",
    "exp_2 = \"Beizmittel MA Poncho FS 600, Treatment corn, treatment corn\"\n",
    "\n",
    "# Split the string into a list of words\n",
    "words_1 = exp_1.split()\n",
    "words_2 = exp_2.split()\n",
    "\n",
    "# Create a set to eliminate duplicates\n",
    "unique_words_1 = set(words_1)\n",
    "unique_words_2 = set(words_2)\n",
    "\n",
    "# Join the unique words back into a string\n",
    "new_exp_1 = ' '.join(unique_words_1)\n",
    "new_exp_2 = ' '.join(unique_words_2)\n",
    "\n",
    "# Print the new expressions without the repeated words\n",
    "print(new_exp_1)\n",
    "print(new_exp_2)"
   ],
   "metadata": {
    "collapsed": false,
    "pycharm": {
     "name": "#%%\n"
    }
   }
  },
  {
   "cell_type": "code",
   "execution_count": null,
   "outputs": [],
   "source": [],
   "metadata": {
    "collapsed": false,
    "pycharm": {
     "name": "#%%\n"
    }
   }
  }
 ],
 "metadata": {
  "kernelspec": {
   "name": "env",
   "language": "python",
   "display_name": "env"
  },
  "language_info": {
   "codemirror_mode": {
    "name": "ipython",
    "version": 2
   },
   "file_extension": ".py",
   "mimetype": "text/x-python",
   "name": "python",
   "nbconvert_exporter": "python",
   "pygments_lexer": "ipython2",
   "version": "2.7.6"
  }
 },
 "nbformat": 4,
 "nbformat_minor": 0
}